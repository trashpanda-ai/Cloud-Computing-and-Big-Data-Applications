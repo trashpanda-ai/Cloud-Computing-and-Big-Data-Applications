{
  "cells": [
    {
      "cell_type": "markdown",
      "metadata": {
        "id": "view-in-github",
        "colab_type": "text"
      },
      "source": [
        "<a href=\"https://colab.research.google.com/github/trashpanda-ai/Cloud-Computing-and-Big-Data-Applications/blob/main/PySpark_RDD_Operations.ipynb\" target=\"_parent\"><img src=\"https://colab.research.google.com/assets/colab-badge.svg\" alt=\"Open In Colab\"/></a>"
      ]
    },
    {
      "cell_type": "markdown",
      "source": [
        "<a ><img src=\"https://upload.wikimedia.org/wikipedia/commons/thumb/b/b9/Logo_INSA_Lyon_%282014%29.svg/langfr-2560px-Logo_INSA_Lyon_%282014%29.svg.png\"  width=\"200\" align=\"left\"> </a>\n",
        "<div style=\"text-align: right\"> <h3><span style=\"color:gray\"> Cloud Computing and Big Data Applications </span> </h3> </div>\n",
        "\n",
        "<br>\n",
        "<br>\n",
        "<br>\n",
        "\n",
        "\n",
        "<h1><center>PySpark RDD Operations</center></h1>\n",
        "<h2><center> <span style=\"font-weight:normal\"><font color='#e42618'> Basic Operations as building Blocks for larger Machine Learning Applications</font>  </span></center></h2>\n",
        "\n",
        "\n",
        "<h3><center><font color='gray'>KEVIN KANAAN and JONAS GOTTAL</font></center></h3>\n",
        "\n",
        "\n",
        "\n"
      ],
      "metadata": {
        "id": "vE1-Zb6D65p6"
      },
      "id": "vE1-Zb6D65p6"
    },
    {
      "cell_type": "markdown",
      "source": [
        "### Installation and PySpark setup"
      ],
      "metadata": {
        "id": "18atynW88Nx_"
      },
      "id": "18atynW88Nx_"
    },
    {
      "cell_type": "code",
      "source": [
        "!apt-get install openjdk-8-jdk-headless -qq > /dev/null\n",
        "!wget -q http://archive.apache.org/dist/spark/spark-3.1.1/spark-3.1.1-bin-hadoop3.2.tgz\n",
        "!tar xf spark-3.1.1-bin-hadoop3.2.tgz\n",
        "!pip install -q findspark"
      ],
      "metadata": {
        "id": "C03lZcw96gXg"
      },
      "id": "C03lZcw96gXg",
      "execution_count": 1,
      "outputs": []
    },
    {
      "cell_type": "code",
      "source": [
        "# Set the PySpark environment variables\n",
        "import os\n",
        "os.environ[\"JAVA_HOME\"] = \"/usr/lib/jvm/java-8-openjdk-amd64\"\n",
        "os.environ[\"SPARK_HOME\"] = \"/content/spark-3.1.1-bin-hadoop3.2\"\n",
        "\n",
        "\n",
        "import findspark\n",
        "findspark.init()\n",
        "\n",
        "from pyspark.sql import SparkSession\n",
        "\n",
        "# Create a SparkSession\n",
        "spark = SparkSession.builder.appName(\"RDD-Ops\").getOrCreate()\n",
        "spark.conf.set(\"spark.sql.repl.eagerEval.enabled\", True) # format output tables\n"
      ],
      "metadata": {
        "id": "1SPOoZUr60ly"
      },
      "id": "1SPOoZUr60ly",
      "execution_count": 47,
      "outputs": []
    },
    {
      "cell_type": "markdown",
      "id": "97a5a364-a829-4b89-8cb0-6872d0bdafb3",
      "metadata": {
        "id": "97a5a364-a829-4b89-8cb0-6872d0bdafb3"
      },
      "source": [
        "### Let's create RDDs"
      ]
    },
    {
      "cell_type": "code",
      "execution_count": 48,
      "id": "0e31a7ea-d6fd-49f4-88cd-40c2bda5838a",
      "metadata": {
        "id": "0e31a7ea-d6fd-49f4-88cd-40c2bda5838a"
      },
      "outputs": [],
      "source": [
        "list_of_numbers = [1, 2, 3, 4, 5, 6, 7, 8, 9, 10]\n",
        "rdd = spark.sparkContext.parallelize(list_of_numbers)"
      ]
    },
    {
      "cell_type": "code",
      "execution_count": 49,
      "id": "09f84b37-e1a3-4d90-929e-a60c9063d669",
      "metadata": {
        "colab": {
          "base_uri": "https://localhost:8080/"
        },
        "id": "09f84b37-e1a3-4d90-929e-a60c9063d669",
        "outputId": "852ff8af-6c74-4553-db19-7bb7f92026fb"
      },
      "outputs": [
        {
          "output_type": "execute_result",
          "data": {
            "text/plain": [
              "[1, 2, 3, 4, 5, 6, 7, 8, 9, 10]"
            ]
          },
          "metadata": {},
          "execution_count": 49
        }
      ],
      "source": [
        "# Collect action: Retrieve all elements of the RDD\n",
        "rdd.collect()"
      ]
    },
    {
      "cell_type": "code",
      "execution_count": 51,
      "id": "fd2ee436-1186-488f-8294-b46ce9c67cac",
      "metadata": {
        "id": "fd2ee436-1186-488f-8294-b46ce9c67cac"
      },
      "outputs": [],
      "source": [
        "# Create an RDD from a list of our (my) semester\n",
        "data = [(\"Foundation of data engineering\", 6), (\"TCS\", 2), (\"TCS\", 2), (\"Cloud Computing for Distributed Big Data Applications\", 6), (\"Projet de Recherche\", 10)]\n",
        "rdd = spark.sparkContext.parallelize(data)"
      ]
    },
    {
      "cell_type": "code",
      "execution_count": 53,
      "id": "adad76e0-2c10-4a41-b947-89547fe94d35",
      "metadata": {
        "colab": {
          "base_uri": "https://localhost:8080/"
        },
        "id": "adad76e0-2c10-4a41-b947-89547fe94d35",
        "outputId": "3a73705a-1c61-49cb-ca87-a5e5948a682c"
      },
      "outputs": [
        {
          "output_type": "stream",
          "name": "stdout",
          "text": [
            "All courses and credits of the rdd:  [('Foundation of data engineering', 6), ('TCS', 2), ('TCS', 2), ('Cloud Computing for Distributed Big Data Applications', 6), ('Projet de Recherche', 10)]\n"
          ]
        }
      ],
      "source": [
        "# Collect action: Retrieve all courses of the RDD\n",
        "print(\"All courses and credits of the rdd: \", rdd.collect())"
      ]
    },
    {
      "cell_type": "markdown",
      "id": "44f98372-bc7a-43d7-b1c1-6d7d102bee29",
      "metadata": {
        "id": "44f98372-bc7a-43d7-b1c1-6d7d102bee29"
      },
      "source": [
        "### The RDD Operations: Actions"
      ]
    },
    {
      "cell_type": "code",
      "execution_count": 54,
      "id": "60353b82-fd00-4e94-b11c-d31e8e005122",
      "metadata": {
        "colab": {
          "base_uri": "https://localhost:8080/"
        },
        "id": "60353b82-fd00-4e94-b11c-d31e8e005122",
        "outputId": "0f7e7538-755d-4d4a-8d97-70a111824337"
      },
      "outputs": [
        {
          "output_type": "stream",
          "name": "stdout",
          "text": [
            "The total number of elements in rdd:  5\n"
          ]
        }
      ],
      "source": [
        "# Count action: Count the number of elements in the RDD\n",
        "count = rdd.count()\n",
        "print(\"The total number of elements in rdd: \", count)"
      ]
    },
    {
      "cell_type": "code",
      "execution_count": 55,
      "id": "456dbe75-0182-47ba-aaf9-34ad9ab06f55",
      "metadata": {
        "colab": {
          "base_uri": "https://localhost:8080/"
        },
        "id": "456dbe75-0182-47ba-aaf9-34ad9ab06f55",
        "outputId": "e0eb783e-e63c-4da8-eaae-21e8090a000e"
      },
      "outputs": [
        {
          "output_type": "stream",
          "name": "stdout",
          "text": [
            "The first element of the rdd:  ('Foundation of data engineering', 6)\n"
          ]
        }
      ],
      "source": [
        "# First action: Retrieve the first element of the RDD\n",
        "first_element = rdd.first()\n",
        "print(\"The first element of the rdd: \", first_element)"
      ]
    },
    {
      "cell_type": "code",
      "execution_count": 56,
      "id": "979ae249-efb6-4b8b-b8e5-0cddea496ff9",
      "metadata": {
        "colab": {
          "base_uri": "https://localhost:8080/"
        },
        "id": "979ae249-efb6-4b8b-b8e5-0cddea496ff9",
        "outputId": "358bbf70-6a86-461e-c927-abe305751c93"
      },
      "outputs": [
        {
          "output_type": "stream",
          "name": "stdout",
          "text": [
            "The first two elements of the rdd:  [('Foundation of data engineering', 6), ('TCS', 2), ('TCS', 2)]\n"
          ]
        }
      ],
      "source": [
        "# Take action: Retrieve the n elements of the RDD\n",
        "taken_elements = rdd.take(3)\n",
        "print(\"The first two elements of the rdd: \", taken_elements)"
      ]
    },
    {
      "cell_type": "markdown",
      "id": "c30f740c-f5fd-48d1-9e8b-a0f78caab408",
      "metadata": {
        "id": "c30f740c-f5fd-48d1-9e8b-a0f78caab408"
      },
      "source": [
        "### The RDD Operations: Transformations"
      ]
    },
    {
      "cell_type": "code",
      "execution_count": 57,
      "id": "b3f7d23b-f246-4797-97ff-a56766657d53",
      "metadata": {
        "id": "b3f7d23b-f246-4797-97ff-a56766657d53"
      },
      "outputs": [],
      "source": [
        "# Map transformation: Convert name to lowercase\n",
        "mapped_rdd = rdd.map(lambda x: (x[0].lower(), x[1]))"
      ]
    },
    {
      "cell_type": "code",
      "execution_count": 58,
      "id": "78d8ef21-d4d1-4361-b448-6c23e251e8f0",
      "metadata": {
        "colab": {
          "base_uri": "https://localhost:8080/"
        },
        "id": "78d8ef21-d4d1-4361-b448-6c23e251e8f0",
        "outputId": "4b058c56-2674-432c-c25a-68c96f00cb8e"
      },
      "outputs": [
        {
          "output_type": "stream",
          "name": "stdout",
          "text": [
            "rdd with uppercease name:  [('foundation of data engineering', 6), ('tcs', 2), ('tcs', 2), ('cloud computing for distributed big data applications', 6), ('projet de recherche', 10)]\n"
          ]
        }
      ],
      "source": [
        "result = mapped_rdd.collect()\n",
        "print(\"rdd with uppercease name: \", result)"
      ]
    },
    {
      "cell_type": "code",
      "execution_count": 59,
      "id": "2211dbf5-64be-4966-bcb4-e11fdbc9363f",
      "metadata": {
        "colab": {
          "base_uri": "https://localhost:8080/"
        },
        "id": "2211dbf5-64be-4966-bcb4-e11fdbc9363f",
        "outputId": "1296b394-332b-4702-e5b8-2bdee413039c"
      },
      "outputs": [
        {
          "output_type": "execute_result",
          "data": {
            "text/plain": [
              "[('Foundation of data engineering', 6),\n",
              " ('Cloud Computing for Distributed Big Data Applications', 6),\n",
              " ('Projet de Recherche', 10)]"
            ]
          },
          "metadata": {},
          "execution_count": 59
        }
      ],
      "source": [
        "# Filter transformation: Filter records where the ECTS is greater than 2\n",
        "filtered_rdd = rdd.filter(lambda x: x[1] > 2)\n",
        "filtered_rdd.collect()"
      ]
    },
    {
      "cell_type": "code",
      "execution_count": 60,
      "id": "325614c2-ede1-45f4-9818-6e89cb72e044",
      "metadata": {
        "colab": {
          "base_uri": "https://localhost:8080/"
        },
        "id": "325614c2-ede1-45f4-9818-6e89cb72e044",
        "outputId": "80926874-09e2-40fe-c3d4-7c8a9002cb82"
      },
      "outputs": [
        {
          "output_type": "execute_result",
          "data": {
            "text/plain": [
              "[('Foundation of data engineering', 6),\n",
              " ('Projet de Recherche', 10),\n",
              " ('TCS', 4),\n",
              " ('Cloud Computing for Distributed Big Data Applications', 6)]"
            ]
          },
          "metadata": {},
          "execution_count": 60
        }
      ],
      "source": [
        "# ReduceByKey transformation: Calculate the total ECTS for each name\n",
        "reduced_rdd = rdd.reduceByKey(lambda x, y: x + y)\n",
        "reduced_rdd.collect()"
      ]
    },
    {
      "cell_type": "code",
      "execution_count": 61,
      "id": "1a5e96bb-f8ce-4239-949f-184648b60ae7",
      "metadata": {
        "colab": {
          "base_uri": "https://localhost:8080/"
        },
        "id": "1a5e96bb-f8ce-4239-949f-184648b60ae7",
        "outputId": "5ca0c491-b550-4a81-b20a-40a89bfbeb4a"
      },
      "outputs": [
        {
          "output_type": "execute_result",
          "data": {
            "text/plain": [
              "[('Projet de Recherche', 10),\n",
              " ('Foundation of data engineering', 6),\n",
              " ('Cloud Computing for Distributed Big Data Applications', 6),\n",
              " ('TCS', 2),\n",
              " ('TCS', 2)]"
            ]
          },
          "metadata": {},
          "execution_count": 61
        }
      ],
      "source": [
        "# SortBy transformation: Sort the RDD by ECTS in descending order\n",
        "sorted_rdd = rdd.sortBy(lambda x: x[1], ascending=False)\n",
        "sorted_rdd.collect()"
      ]
    },
    {
      "cell_type": "markdown",
      "id": "d51d11e9-260f-421d-94d9-350e5c6146bb",
      "metadata": {
        "id": "d51d11e9-260f-421d-94d9-350e5c6146bb"
      },
      "source": [
        "### Save RDDs to text file and read RDDs from text file"
      ]
    },
    {
      "cell_type": "code",
      "execution_count": 64,
      "id": "c8389f05-063a-4a52-beb2-efc4e50daa6a",
      "metadata": {
        "id": "c8389f05-063a-4a52-beb2-efc4e50daa6a"
      },
      "outputs": [],
      "source": [
        "# Save action: Save the RDD to a text file\n",
        "rdd.saveAsTextFile(\"output.txt\")"
      ]
    },
    {
      "cell_type": "code",
      "execution_count": 65,
      "id": "2a557485-8d1b-431c-aba5-dcbe21f3970d",
      "metadata": {
        "colab": {
          "base_uri": "https://localhost:8080/"
        },
        "id": "2a557485-8d1b-431c-aba5-dcbe21f3970d",
        "outputId": "e5d54a3d-9872-4c9e-b95b-2069e901e643"
      },
      "outputs": [
        {
          "output_type": "execute_result",
          "data": {
            "text/plain": [
              "[\"('Foundation of data engineering', 6)\",\n",
              " \"('TCS', 2)\",\n",
              " \"('TCS', 2)\",\n",
              " \"('Cloud Computing for Distributed Big Data Applications', 6)\",\n",
              " \"('Projet de Recherche', 10)\"]"
            ]
          },
          "metadata": {},
          "execution_count": 65
        }
      ],
      "source": [
        "# create rdd from text file\n",
        "rdd_text = spark.sparkContext.textFile(\"output.txt\")\n",
        "rdd_text.collect()"
      ]
    },
    {
      "cell_type": "markdown",
      "id": "c799ec33-2a47-4d8e-b239-92f25c8e7a37",
      "metadata": {
        "id": "c799ec33-2a47-4d8e-b239-92f25c8e7a37"
      },
      "source": [
        "### Shut down Spark Session"
      ]
    },
    {
      "cell_type": "code",
      "execution_count": null,
      "id": "b501edd4-5d9a-4ffe-8cbb-abcf077868c4",
      "metadata": {
        "id": "b501edd4-5d9a-4ffe-8cbb-abcf077868c4"
      },
      "outputs": [],
      "source": [
        "spark.stop()"
      ]
    }
  ],
  "metadata": {
    "kernelspec": {
      "display_name": "Python 3 (ipykernel)",
      "language": "python",
      "name": "python3"
    },
    "language_info": {
      "codemirror_mode": {
        "name": "ipython",
        "version": 3
      },
      "file_extension": ".py",
      "mimetype": "text/x-python",
      "name": "python",
      "nbconvert_exporter": "python",
      "pygments_lexer": "ipython3",
      "version": "3.10.8"
    },
    "colab": {
      "provenance": [],
      "include_colab_link": true
    }
  },
  "nbformat": 4,
  "nbformat_minor": 5
}