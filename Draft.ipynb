{
 "cells": [
  {
   "cell_type": "markdown",
   "metadata": {},
   "source": [
    "# Project Draft"
   ]
  },
  {
   "cell_type": "markdown",
   "metadata": {},
   "source": [
    "#### Requirements\n",
    "- ```Python 3.9.18``` (conda env)\n",
    "- ```pip freeze > requirements.txt```\n",
    "- ```conda env export > environment.yml```"
   ]
  },
  {
   "cell_type": "code",
   "execution_count": null,
   "metadata": {},
   "outputs": [],
   "source": [
    "# Import necessary libraries\n",
    "from pyspark.sql import SparkSession\n",
    "from pyspark.sql.types import StructType, StructField, StringType, IntegerType, DoubleType, TimestampType\n",
    "#from pyspark.sql.functions import *\n",
    "from pyspark.sql.functions import window, sum as _sum"
   ]
  },
  {
   "cell_type": "code",
   "execution_count": null,
   "metadata": {},
   "outputs": [
    {
     "name": "stderr",
     "output_type": "stream",
     "text": [
      "                                                                                \r"
     ]
    }
   ],
   "source": [
    "# load df from csv\n",
    "df = spark.read.csv(\"streaming_data_dir/drivedata-small.csv\", header=True, inferSchema=True)"
   ]
  },
  {
   "cell_type": "code",
   "execution_count": null,
   "metadata": {},
   "outputs": [
    {
     "name": "stdout",
     "output_type": "stream",
     "text": [
      "+-------------------+-------------+--------------------+-------+--------+------------------+-------------------------+---------------+-------------------+---------------------------+------------------+------------------------+-----------------+--------------------+---------------------+------------------------+--------------------------------+-------------------------+----------------------------------+--------------------+--------------------+----------------------------+-----------------------+----------------------------+----------------------------+------------------------+---------------------------+----------------------------+---------------------------+--------------------------+-------------------------+--------------------------+---------------+-----------------+---------------------+-----------------+----------------------+-----------------------+--------------------+\n",
      "|               date|serial_number|               model|failure|vault_id|s1_read_error_rate|s2_throughput_performance|s3_spin_up_time|s4_start_stop_count|s5_reallocated_sector_count|s7_seek_error_rate|s8_seek_time_performance|s9_power_on_hours|s10_spin_retry_count|s12_power_cycle_count|s173_wear_leveling_count|s174_unexpected_power_loss_count|s183_sata_downshift_count|s187_reported_uncorrectable_errors|s188_command_timeout|s189_high_fly_writes|s190_airflow_temperature_cel|s191_g_sense_error_rate|s192_power_off_retract_count|s193_load_unload_cycle_count|s194_temperature_celsius|s195_hardware_ecc_recovered|s196_reallocated_event_count|s197_current_pending_sector|s198_offline_uncorrectable|s199_udma_crc_error_count|s200_multi_zone_error_rate|s220_disk_shift|s222_loaded_hours|s223_load_retry_count|s226_load_in_time|s240_head_flying_hours|s241_total_lbas_written|s242_total_lbas_read|\n",
      "+-------------------+-------------+--------------------+-------+--------+------------------+-------------------------+---------------+-------------------+---------------------------+------------------+------------------------+-----------------+--------------------+---------------------+------------------------+--------------------------------+-------------------------+----------------------------------+--------------------+--------------------+----------------------------+-----------------------+----------------------------+----------------------------+------------------------+---------------------------+----------------------------+---------------------------+--------------------------+-------------------------+--------------------------+---------------+-----------------+---------------------+-----------------+----------------------+-----------------------+--------------------+\n",
      "|2023-04-08 00:00:00|     8CH4X57E|HGST HUH721212ALN604|      1|    1124|             65536|                        0|            398|                 13|                          2|                 0|                       0|            34183|                   0|                   13|                    NULL|                            NULL|                     NULL|                              NULL|                NULL|                NULL|                        NULL|                   NULL|                        1718|                        1718|                      42|                       NULL|                           2|                         65|                        92|                        0|                      NULL|           NULL|             NULL|                 NULL|             NULL|                  NULL|                   NULL|                NULL|\n",
      "|2023-04-19 00:00:00|     X0GEBGSC| WDC WUH721414ALE6L4|      1|    1149|                 0|                       92|            381|                  4|                          0|                 0|                      18|            21940|                   0|                    4|                    NULL|                            NULL|                     NULL|                              NULL|                NULL|                NULL|                        NULL|                   NULL|                        1532|                        1532|                      40|                       NULL|                           0|                          0|                         0|                        0|                      NULL|           NULL|             NULL|                 NULL|             NULL|                  NULL|                   NULL|                NULL|\n",
      "|2023-06-14 00:00:00|     ZLW0H3KN|       ST12000NM001G|      1|    1097|         238299832|                     NULL|              0|                  4|                          8|        4812972878|                    NULL|            23158|                   0|                    4|                    NULL|                            NULL|                     NULL|                                41|             2621480|                NULL|                          34|                   NULL|                           1|                        1118|                      34|                       NULL|                        NULL|                       7632|                      7632|                        0|                         0|           NULL|             NULL|                 NULL|             NULL|                 22995|            72120351136|        269431057712|\n",
      "|2023-06-17 00:00:00|     ZA13F75D|        ST8000NM0055|      1|    1042|         200441864|                     NULL|              0|                 16|                         88|        1562276778|                    NULL|            52919|                   0|                   16|                    NULL|                            NULL|                     NULL|                                 0|                   0|                   0|                          32|                   9967|                           4|                       69639|                      32|                  200441864|                        NULL|                          0|                         0|                        0|                      NULL|           NULL|             NULL|                 NULL|             NULL|                 52876|            97520408640|        448293518336|\n",
      "|2023-06-23 00:00:00|     ZL23B532|       ST16000NM001G|      1|    1406|         133014064|                     NULL|              0|                 16|                          0|         753873075|                    NULL|            15591|                   0|                   16|                    NULL|                            NULL|                     NULL|                                 0|                   0|                NULL|                          37|                   NULL|                           8|                        4074|                      37|                       NULL|                        NULL|                          0|                         0|                        0|                         0|           NULL|             NULL|                 NULL|             NULL|                 14105|            91286568400|        230874495462|\n",
      "+-------------------+-------------+--------------------+-------+--------+------------------+-------------------------+---------------+-------------------+---------------------------+------------------+------------------------+-----------------+--------------------+---------------------+------------------------+--------------------------------+-------------------------+----------------------------------+--------------------+--------------------+----------------------------+-----------------------+----------------------------+----------------------------+------------------------+---------------------------+----------------------------+---------------------------+--------------------------+-------------------------+--------------------------+---------------+-----------------+---------------------+-----------------+----------------------+-----------------------+--------------------+\n",
      "\n"
     ]
    }
   ],
   "source": [
    "# show only rows where failure is not 0\n",
    "df.where(df.failure != 0).show()\n"
   ]
  },
  {
   "cell_type": "code",
   "execution_count": 1,
   "metadata": {},
   "outputs": [
    {
     "name": "stderr",
     "output_type": "stream",
     "text": [
      "Setting default log level to \"WARN\".\n",
      "To adjust logging level use sc.setLogLevel(newLevel). For SparkR, use setLogLevel(newLevel).\n",
      "24/01/26 15:44:01 WARN NativeCodeLoader: Unable to load native-hadoop library for your platform... using builtin-java classes where applicable\n"
     ]
    },
    {
     "name": "stdout",
     "output_type": "stream",
     "text": [
      "True\n"
     ]
    }
   ],
   "source": [
    "\n",
    "\n",
    "\n",
    "schema = StructType([\n",
    "    StructField(\"date\", TimestampType(), True),\n",
    "    StructField(\"serial_number\", StringType(), True),\n",
    "    StructField(\"model\", StringType(), True),\n",
    "    StructField(\"failure\", IntegerType(), True),\n",
    "    StructField(\"vault_id\", IntegerType(), True),\n",
    "    StructField(\"s1_read_error_rate\", IntegerType(), True),\n",
    "    StructField(\"s2_throughput_performance\", IntegerType(), True),\n",
    "    StructField(\"s3_spin_up_time\", IntegerType(), True),\n",
    "    StructField(\"s4_start_stop_count\", IntegerType(), True),\n",
    "    StructField(\"s5_reallocated_sector_count\", IntegerType(), True),\n",
    "    StructField(\"s7_seek_error_rate\", IntegerType(), True),\n",
    "    StructField(\"s8_seek_time_performance\", IntegerType(), True),\n",
    "    StructField(\"s9_power_on_hours\", IntegerType(), True),\n",
    "    StructField(\"s10_spin_retry_count\", IntegerType(), True),\n",
    "    StructField(\"s12_power_cycle_count\", IntegerType(), True),\n",
    "    StructField(\"s173_wear_leveling_count\", IntegerType(), True),\n",
    "    StructField(\"s174_unexpected_power_loss_count\", IntegerType(), True),\n",
    "    StructField(\"s183_sata_downshift_count\", IntegerType(), True),\n",
    "    StructField(\"s187_reported_uncorrectable_errors\", IntegerType(), True),\n",
    "    StructField(\"s188_command_timeout\", IntegerType(), True),\n",
    "    StructField(\"s189_high_fly_writes\", IntegerType(), True),\n",
    "    StructField(\"s190_airflow_temperature_cel\", IntegerType(), True),\n",
    "    StructField(\"s191_g_sense_error_rate\", IntegerType(), True),\n",
    "    StructField(\"s192_power_off_retract_count\", IntegerType(), True),\n",
    "    StructField(\"s193_load_unload_cycle_count\", IntegerType(), True),\n",
    "    StructField(\"s194_temperature_celsius\", IntegerType(), True),\n",
    "    StructField(\"s195_hardware_ecc_recovered\", IntegerType(), True),\n",
    "    StructField(\"s196_reallocated_event_count\", IntegerType(), True),\n",
    "    StructField(\"s197_current_pending_sector\", IntegerType(), True),\n",
    "    StructField(\"s198_offline_uncorrectable\", IntegerType(), True),\n",
    "    StructField(\"s199_udma_crc_error_count\", IntegerType(), True),\n",
    "    StructField(\"s200_multi_zone_error_rate\", IntegerType(), True),\n",
    "    StructField(\"s220_disk_shift\", IntegerType(), True),\n",
    "    StructField(\"s222_loaded_hours\", IntegerType(), True),\n",
    "    StructField(\"s223_load_retry_count\", IntegerType(), True),\n",
    "    StructField(\"s226_load_in_time\", IntegerType(), True),\n",
    "    StructField(\"s240_head_flying_hours\", IntegerType(), True),\n",
    "    StructField(\"s241_total_lbas_written\", IntegerType(), True),\n",
    "    StructField(\"s242_total_lbas_read\", IntegerType(), True)\n",
    "])\n",
    "\n",
    "spark = SparkSession.builder.appName(\"StreamingFromCSV\").getOrCreate()\n",
    "\n",
    "\n",
    "#read from csv file\n",
    "#drivedata = spark.readStream.csv(\"streaming_data_dir/drivedata-small.csv\", schema=schema, header=True)\n",
    "\n",
    "# Read the CSV files as a data stream\n",
    "streamingData = spark.readStream.schema(schema).option(\"maxFilesPerTrigger\", 1).csv(\"streaming_data_dir\")\n",
    "# print true if both are true\n",
    "print((streamingData.schema == schema)==( streamingData.isStreaming == True))"
   ]
  },
  {
   "cell_type": "markdown",
   "metadata": {},
   "source": [
    "### First Query"
   ]
  },
  {
   "cell_type": "code",
   "execution_count": 4,
   "metadata": {},
   "outputs": [
    {
     "name": "stderr",
     "output_type": "stream",
     "text": [
      "24/01/26 15:47:12 WARN ResolveWriteToStream: Temporary checkpoint location created which is deleted normally when the query didn't fail: /private/var/folders/p0/qbnst5tj08g1z35zyllsm5vc0000gn/T/temporary-d0323577-d312-40a1-80a4-cf9f58ea260d. If it's required to delete it under any circumstances, please set spark.sql.streaming.forceDeleteTempCheckpointLocation to true. Important to know deleting temp checkpoint folder is best effort.\n",
      "24/01/26 15:47:12 WARN ResolveWriteToStream: spark.sql.adaptive.enabled is not supported in streaming DataFrames/Datasets and will be disabled.\n",
      "                                                                                \r"
     ]
    },
    {
     "name": "stdout",
     "output_type": "stream",
     "text": [
      "-------------------------------------------\n",
      "Batch: 0\n",
      "-------------------------------------------\n",
      "+-------------------+--------+--------------+\n",
      "|start              |vault_id|total_failures|\n",
      "+-------------------+--------+--------------+\n",
      "|2023-03-31 02:00:00|1149    |1             |\n",
      "|2023-06-05 02:00:00|1042    |1             |\n",
      "|2023-06-01 02:00:00|1097    |1             |\n",
      "|2023-05-24 02:00:00|1042    |1             |\n",
      "|2023-06-17 02:00:00|1406    |1             |\n",
      "|2023-03-13 01:00:00|1124    |1             |\n",
      "|2023-06-06 02:00:00|1406    |1             |\n",
      "|2023-06-02 02:00:00|1406    |1             |\n",
      "|2023-05-31 02:00:00|1042    |1             |\n",
      "|2023-04-09 02:00:00|1149    |1             |\n",
      "|2023-06-11 02:00:00|1042    |1             |\n",
      "|2023-05-27 02:00:00|1406    |1             |\n",
      "|2023-06-01 02:00:00|1406    |1             |\n",
      "|2023-04-03 02:00:00|1149    |1             |\n",
      "|2023-06-13 02:00:00|1042    |1             |\n",
      "|2023-03-09 01:00:00|1124    |1             |\n",
      "|2023-03-10 01:00:00|1124    |1             |\n",
      "|2023-06-16 02:00:00|1406    |1             |\n",
      "|2023-04-02 02:00:00|1149    |1             |\n",
      "|2023-06-02 02:00:00|1042    |1             |\n",
      "+-------------------+--------+--------------+\n",
      "only showing top 20 rows\n",
      "\n"
     ]
    },
    {
     "name": "stderr",
     "output_type": "stream",
     "text": [
      "ERROR:root:KeyboardInterrupt while sending command.\n",
      "Traceback (most recent call last):\n",
      "  File \"/Users/jonas/Documents/Uni/Erasmus/Cloud Computing for Big Data/Cloud-Computing-and-Big-Data-Applications/.conda/lib/python3.9/site-packages/py4j/java_gateway.py\", line 1038, in send_command\n",
      "    response = connection.send_command(command)\n",
      "  File \"/Users/jonas/Documents/Uni/Erasmus/Cloud Computing for Big Data/Cloud-Computing-and-Big-Data-Applications/.conda/lib/python3.9/site-packages/py4j/clientserver.py\", line 511, in send_command\n",
      "    answer = smart_decode(self.stream.readline()[:-1])\n",
      "  File \"/Users/jonas/Documents/Uni/Erasmus/Cloud Computing for Big Data/Cloud-Computing-and-Big-Data-Applications/.conda/lib/python3.9/socket.py\", line 704, in readinto\n",
      "    return self._sock.recv_into(b)\n",
      "KeyboardInterrupt\n"
     ]
    },
    {
     "ename": "KeyboardInterrupt",
     "evalue": "",
     "output_type": "error",
     "traceback": [
      "\u001b[0;31m---------------------------------------------------------------------------\u001b[0m",
      "\u001b[0;31mKeyboardInterrupt\u001b[0m                         Traceback (most recent call last)",
      "Cell \u001b[0;32mIn[4], line 24\u001b[0m\n\u001b[1;32m     15\u001b[0m \u001b[38;5;66;03m# Write the windowed data stream out to a memory sink for testing\u001b[39;00m\n\u001b[1;32m     16\u001b[0m query \u001b[38;5;241m=\u001b[39m filteredData \\\n\u001b[1;32m     17\u001b[0m     \u001b[38;5;241m.\u001b[39mwriteStream \\\n\u001b[1;32m     18\u001b[0m     \u001b[38;5;241m.\u001b[39moutputMode(\u001b[38;5;124m\"\u001b[39m\u001b[38;5;124mcomplete\u001b[39m\u001b[38;5;124m\"\u001b[39m) \\\n\u001b[0;32m   (...)\u001b[0m\n\u001b[1;32m     21\u001b[0m     \u001b[38;5;241m.\u001b[39moption(\u001b[38;5;124m\"\u001b[39m\u001b[38;5;124mtruncate\u001b[39m\u001b[38;5;124m\"\u001b[39m, \u001b[38;5;124m\"\u001b[39m\u001b[38;5;124mfalse\u001b[39m\u001b[38;5;124m\"\u001b[39m) \\\n\u001b[1;32m     22\u001b[0m     \u001b[38;5;241m.\u001b[39mstart()\n\u001b[0;32m---> 24\u001b[0m \u001b[43mquery\u001b[49m\u001b[38;5;241;43m.\u001b[39;49m\u001b[43mawaitTermination\u001b[49m\u001b[43m(\u001b[49m\u001b[43m)\u001b[49m\n",
      "File \u001b[0;32m~/Documents/Uni/Erasmus/Cloud Computing for Big Data/Cloud-Computing-and-Big-Data-Applications/.conda/lib/python3.9/site-packages/pyspark/sql/streaming/query.py:221\u001b[0m, in \u001b[0;36mStreamingQuery.awaitTermination\u001b[0;34m(self, timeout)\u001b[0m\n\u001b[1;32m    219\u001b[0m     \u001b[38;5;28;01mreturn\u001b[39;00m \u001b[38;5;28mself\u001b[39m\u001b[38;5;241m.\u001b[39m_jsq\u001b[38;5;241m.\u001b[39mawaitTermination(\u001b[38;5;28mint\u001b[39m(timeout \u001b[38;5;241m*\u001b[39m \u001b[38;5;241m1000\u001b[39m))\n\u001b[1;32m    220\u001b[0m \u001b[38;5;28;01melse\u001b[39;00m:\n\u001b[0;32m--> 221\u001b[0m     \u001b[38;5;28;01mreturn\u001b[39;00m \u001b[38;5;28;43mself\u001b[39;49m\u001b[38;5;241;43m.\u001b[39;49m\u001b[43m_jsq\u001b[49m\u001b[38;5;241;43m.\u001b[39;49m\u001b[43mawaitTermination\u001b[49m\u001b[43m(\u001b[49m\u001b[43m)\u001b[49m\n",
      "File \u001b[0;32m~/Documents/Uni/Erasmus/Cloud Computing for Big Data/Cloud-Computing-and-Big-Data-Applications/.conda/lib/python3.9/site-packages/py4j/java_gateway.py:1321\u001b[0m, in \u001b[0;36mJavaMember.__call__\u001b[0;34m(self, *args)\u001b[0m\n\u001b[1;32m   1314\u001b[0m args_command, temp_args \u001b[38;5;241m=\u001b[39m \u001b[38;5;28mself\u001b[39m\u001b[38;5;241m.\u001b[39m_build_args(\u001b[38;5;241m*\u001b[39margs)\n\u001b[1;32m   1316\u001b[0m command \u001b[38;5;241m=\u001b[39m proto\u001b[38;5;241m.\u001b[39mCALL_COMMAND_NAME \u001b[38;5;241m+\u001b[39m\\\n\u001b[1;32m   1317\u001b[0m     \u001b[38;5;28mself\u001b[39m\u001b[38;5;241m.\u001b[39mcommand_header \u001b[38;5;241m+\u001b[39m\\\n\u001b[1;32m   1318\u001b[0m     args_command \u001b[38;5;241m+\u001b[39m\\\n\u001b[1;32m   1319\u001b[0m     proto\u001b[38;5;241m.\u001b[39mEND_COMMAND_PART\n\u001b[0;32m-> 1321\u001b[0m answer \u001b[38;5;241m=\u001b[39m \u001b[38;5;28;43mself\u001b[39;49m\u001b[38;5;241;43m.\u001b[39;49m\u001b[43mgateway_client\u001b[49m\u001b[38;5;241;43m.\u001b[39;49m\u001b[43msend_command\u001b[49m\u001b[43m(\u001b[49m\u001b[43mcommand\u001b[49m\u001b[43m)\u001b[49m\n\u001b[1;32m   1322\u001b[0m return_value \u001b[38;5;241m=\u001b[39m get_return_value(\n\u001b[1;32m   1323\u001b[0m     answer, \u001b[38;5;28mself\u001b[39m\u001b[38;5;241m.\u001b[39mgateway_client, \u001b[38;5;28mself\u001b[39m\u001b[38;5;241m.\u001b[39mtarget_id, \u001b[38;5;28mself\u001b[39m\u001b[38;5;241m.\u001b[39mname)\n\u001b[1;32m   1325\u001b[0m \u001b[38;5;28;01mfor\u001b[39;00m temp_arg \u001b[38;5;129;01min\u001b[39;00m temp_args:\n",
      "File \u001b[0;32m~/Documents/Uni/Erasmus/Cloud Computing for Big Data/Cloud-Computing-and-Big-Data-Applications/.conda/lib/python3.9/site-packages/py4j/java_gateway.py:1038\u001b[0m, in \u001b[0;36mGatewayClient.send_command\u001b[0;34m(self, command, retry, binary)\u001b[0m\n\u001b[1;32m   1036\u001b[0m connection \u001b[38;5;241m=\u001b[39m \u001b[38;5;28mself\u001b[39m\u001b[38;5;241m.\u001b[39m_get_connection()\n\u001b[1;32m   1037\u001b[0m \u001b[38;5;28;01mtry\u001b[39;00m:\n\u001b[0;32m-> 1038\u001b[0m     response \u001b[38;5;241m=\u001b[39m \u001b[43mconnection\u001b[49m\u001b[38;5;241;43m.\u001b[39;49m\u001b[43msend_command\u001b[49m\u001b[43m(\u001b[49m\u001b[43mcommand\u001b[49m\u001b[43m)\u001b[49m\n\u001b[1;32m   1039\u001b[0m     \u001b[38;5;28;01mif\u001b[39;00m binary:\n\u001b[1;32m   1040\u001b[0m         \u001b[38;5;28;01mreturn\u001b[39;00m response, \u001b[38;5;28mself\u001b[39m\u001b[38;5;241m.\u001b[39m_create_connection_guard(connection)\n",
      "File \u001b[0;32m~/Documents/Uni/Erasmus/Cloud Computing for Big Data/Cloud-Computing-and-Big-Data-Applications/.conda/lib/python3.9/site-packages/py4j/clientserver.py:511\u001b[0m, in \u001b[0;36mClientServerConnection.send_command\u001b[0;34m(self, command)\u001b[0m\n\u001b[1;32m    509\u001b[0m \u001b[38;5;28;01mtry\u001b[39;00m:\n\u001b[1;32m    510\u001b[0m     \u001b[38;5;28;01mwhile\u001b[39;00m \u001b[38;5;28;01mTrue\u001b[39;00m:\n\u001b[0;32m--> 511\u001b[0m         answer \u001b[38;5;241m=\u001b[39m smart_decode(\u001b[38;5;28;43mself\u001b[39;49m\u001b[38;5;241;43m.\u001b[39;49m\u001b[43mstream\u001b[49m\u001b[38;5;241;43m.\u001b[39;49m\u001b[43mreadline\u001b[49m\u001b[43m(\u001b[49m\u001b[43m)\u001b[49m[:\u001b[38;5;241m-\u001b[39m\u001b[38;5;241m1\u001b[39m])\n\u001b[1;32m    512\u001b[0m         logger\u001b[38;5;241m.\u001b[39mdebug(\u001b[38;5;124m\"\u001b[39m\u001b[38;5;124mAnswer received: \u001b[39m\u001b[38;5;132;01m{0}\u001b[39;00m\u001b[38;5;124m\"\u001b[39m\u001b[38;5;241m.\u001b[39mformat(answer))\n\u001b[1;32m    513\u001b[0m         \u001b[38;5;66;03m# Happens when a the other end is dead. There might be an empty\u001b[39;00m\n\u001b[1;32m    514\u001b[0m         \u001b[38;5;66;03m# answer before the socket raises an error.\u001b[39;00m\n",
      "File \u001b[0;32m~/Documents/Uni/Erasmus/Cloud Computing for Big Data/Cloud-Computing-and-Big-Data-Applications/.conda/lib/python3.9/socket.py:704\u001b[0m, in \u001b[0;36mSocketIO.readinto\u001b[0;34m(self, b)\u001b[0m\n\u001b[1;32m    702\u001b[0m \u001b[38;5;28;01mwhile\u001b[39;00m \u001b[38;5;28;01mTrue\u001b[39;00m:\n\u001b[1;32m    703\u001b[0m     \u001b[38;5;28;01mtry\u001b[39;00m:\n\u001b[0;32m--> 704\u001b[0m         \u001b[38;5;28;01mreturn\u001b[39;00m \u001b[38;5;28;43mself\u001b[39;49m\u001b[38;5;241;43m.\u001b[39;49m\u001b[43m_sock\u001b[49m\u001b[38;5;241;43m.\u001b[39;49m\u001b[43mrecv_into\u001b[49m\u001b[43m(\u001b[49m\u001b[43mb\u001b[49m\u001b[43m)\u001b[49m\n\u001b[1;32m    705\u001b[0m     \u001b[38;5;28;01mexcept\u001b[39;00m timeout:\n\u001b[1;32m    706\u001b[0m         \u001b[38;5;28mself\u001b[39m\u001b[38;5;241m.\u001b[39m_timeout_occurred \u001b[38;5;241m=\u001b[39m \u001b[38;5;28;01mTrue\u001b[39;00m\n",
      "\u001b[0;31mKeyboardInterrupt\u001b[0m: "
     ]
    }
   ],
   "source": [
    "\n",
    "# Apply a window function to the streaming data\n",
    "windowedData = streamingData \\\n",
    "    .withWatermark(\"date\", \"31 days\") \\\n",
    "    .groupBy(\n",
    "        streamingData.vault_id,\n",
    "        window(streamingData.date, \"30 days\", \"1 day\"),\n",
    "        streamingData.model\n",
    "    ) \\\n",
    "    .agg(_sum(\"failure\").alias(\"total_failures\"))\n",
    "\n",
    "# Select only the date and vault_id fields\n",
    "selectedData = windowedData.select(\"window.start\", \"vault_id\", \"total_failures\")\n",
    "filteredData = selectedData.filter(selectedData.total_failures > 0)\n",
    "\n",
    "# Write the windowed data stream out to a memory sink for testing\n",
    "query = filteredData \\\n",
    "    .writeStream \\\n",
    "    .outputMode(\"complete\") \\\n",
    "    .format(\"console\") \\\n",
    "    .queryName(\"filteredData\") \\\n",
    "    .option(\"numRows\", 50) \\\n",
    "    .option(\"truncate\", \"false\") \\\n",
    "    .start()\n",
    "\n",
    "query.awaitTermination()"
   ]
  },
  {
   "cell_type": "code",
   "execution_count": 5,
   "metadata": {},
   "outputs": [],
   "source": [
    "query.stop()"
   ]
  },
  {
   "cell_type": "code",
   "execution_count": null,
   "metadata": {},
   "outputs": [],
   "source": []
  }
 ],
 "metadata": {
  "kernelspec": {
   "display_name": "Python 3",
   "language": "python",
   "name": "python3"
  },
  "language_info": {
   "codemirror_mode": {
    "name": "ipython",
    "version": 3
   },
   "file_extension": ".py",
   "mimetype": "text/x-python",
   "name": "python",
   "nbconvert_exporter": "python",
   "pygments_lexer": "ipython3",
   "version": "3.9.18"
  }
 },
 "nbformat": 4,
 "nbformat_minor": 2
}
