{
 "cells": [
  {
   "cell_type": "markdown",
   "metadata": {},
   "source": [
    "# Project Draft"
   ]
  },
  {
   "cell_type": "markdown",
   "metadata": {},
   "source": [
    "#### Requirements\n",
    "- ```Python 3.9.18``` (conda env)\n",
    "- ```pip freeze > requirements.txt```\n",
    "- ```conda env export > environment.yml```"
   ]
  },
  {
   "cell_type": "code",
   "execution_count": 73,
   "metadata": {},
   "outputs": [],
   "source": [
    "# Import necessary libraries\n",
    "from pyspark.sql import SparkSession\n",
    "from pyspark.sql.types import StructType, StructField, StringType, IntegerType, DoubleType, TimestampType\n",
    "#from pyspark.sql.functions import *\n",
    "from pyspark.sql.functions import window, sum as _sum"
   ]
  },
  {
   "cell_type": "code",
   "execution_count": 74,
   "metadata": {},
   "outputs": [
    {
     "name": "stderr",
     "output_type": "stream",
     "text": [
      "                                                                                \r"
     ]
    }
   ],
   "source": [
    "spark = SparkSession.builder.appName(\"StreamingFromCSV\").getOrCreate()\n",
    "\n",
    "# load df from csv\n",
    "df = spark.read.csv(\"streaming_data_dir/drivedata-small.csv\", header=True, inferSchema=True)"
   ]
  },
  {
   "cell_type": "code",
   "execution_count": 75,
   "metadata": {},
   "outputs": [
    {
     "name": "stderr",
     "output_type": "stream",
     "text": [
      "[Stage 38:======================================>                   (2 + 1) / 3]\r"
     ]
    },
    {
     "name": "stdout",
     "output_type": "stream",
     "text": [
      "+-------------------+-------------+--------------------+-------+--------+------------------+-------------------------+---------------+-------------------+---------------------------+------------------+------------------------+-----------------+--------------------+---------------------+------------------------+--------------------------------+-------------------------+----------------------------------+--------------------+--------------------+----------------------------+-----------------------+----------------------------+----------------------------+------------------------+---------------------------+----------------------------+---------------------------+--------------------------+-------------------------+--------------------------+---------------+-----------------+---------------------+-----------------+----------------------+-----------------------+--------------------+\n",
      "|               date|serial_number|               model|failure|vault_id|s1_read_error_rate|s2_throughput_performance|s3_spin_up_time|s4_start_stop_count|s5_reallocated_sector_count|s7_seek_error_rate|s8_seek_time_performance|s9_power_on_hours|s10_spin_retry_count|s12_power_cycle_count|s173_wear_leveling_count|s174_unexpected_power_loss_count|s183_sata_downshift_count|s187_reported_uncorrectable_errors|s188_command_timeout|s189_high_fly_writes|s190_airflow_temperature_cel|s191_g_sense_error_rate|s192_power_off_retract_count|s193_load_unload_cycle_count|s194_temperature_celsius|s195_hardware_ecc_recovered|s196_reallocated_event_count|s197_current_pending_sector|s198_offline_uncorrectable|s199_udma_crc_error_count|s200_multi_zone_error_rate|s220_disk_shift|s222_loaded_hours|s223_load_retry_count|s226_load_in_time|s240_head_flying_hours|s241_total_lbas_written|s242_total_lbas_read|\n",
      "+-------------------+-------------+--------------------+-------+--------+------------------+-------------------------+---------------+-------------------+---------------------------+------------------+------------------------+-----------------+--------------------+---------------------+------------------------+--------------------------------+-------------------------+----------------------------------+--------------------+--------------------+----------------------------+-----------------------+----------------------------+----------------------------+------------------------+---------------------------+----------------------------+---------------------------+--------------------------+-------------------------+--------------------------+---------------+-----------------+---------------------+-----------------+----------------------+-----------------------+--------------------+\n",
      "|2023-04-08 00:00:00|     8CH4X57E|HGST HUH721212ALN604|      1|    1124|             65536|                        0|            398|                 13|                          2|                 0|                       0|            34183|                   0|                   13|                    NULL|                            NULL|                     NULL|                              NULL|                NULL|                NULL|                        NULL|                   NULL|                        1718|                        1718|                      42|                       NULL|                           2|                         65|                        92|                        0|                      NULL|           NULL|             NULL|                 NULL|             NULL|                  NULL|                   NULL|                NULL|\n",
      "|2023-04-19 00:00:00|     X0GEBGSC| WDC WUH721414ALE6L4|      1|    1149|                 0|                       92|            381|                  4|                          0|                 0|                      18|            21940|                   0|                    4|                    NULL|                            NULL|                     NULL|                              NULL|                NULL|                NULL|                        NULL|                   NULL|                        1532|                        1532|                      40|                       NULL|                           0|                          0|                         0|                        0|                      NULL|           NULL|             NULL|                 NULL|             NULL|                  NULL|                   NULL|                NULL|\n",
      "|2023-06-14 00:00:00|     ZLW0H3KN|       ST12000NM001G|      1|    1097|         238299832|                     NULL|              0|                  4|                          8|        4812972878|                    NULL|            23158|                   0|                    4|                    NULL|                            NULL|                     NULL|                                41|             2621480|                NULL|                          34|                   NULL|                           1|                        1118|                      34|                       NULL|                        NULL|                       7632|                      7632|                        0|                         0|           NULL|             NULL|                 NULL|             NULL|                 22995|            72120351136|        269431057712|\n",
      "|2023-06-17 00:00:00|     ZA13F75D|        ST8000NM0055|      1|    1042|         200441864|                     NULL|              0|                 16|                         88|        1562276778|                    NULL|            52919|                   0|                   16|                    NULL|                            NULL|                     NULL|                                 0|                   0|                   0|                          32|                   9967|                           4|                       69639|                      32|                  200441864|                        NULL|                          0|                         0|                        0|                      NULL|           NULL|             NULL|                 NULL|             NULL|                 52876|            97520408640|        448293518336|\n",
      "|2023-06-23 00:00:00|     ZL23B532|       ST16000NM001G|      1|    1406|         133014064|                     NULL|              0|                 16|                          0|         753873075|                    NULL|            15591|                   0|                   16|                    NULL|                            NULL|                     NULL|                                 0|                   0|                NULL|                          37|                   NULL|                           8|                        4074|                      37|                       NULL|                        NULL|                          0|                         0|                        0|                         0|           NULL|             NULL|                 NULL|             NULL|                 14105|            91286568400|        230874495462|\n",
      "+-------------------+-------------+--------------------+-------+--------+------------------+-------------------------+---------------+-------------------+---------------------------+------------------+------------------------+-----------------+--------------------+---------------------+------------------------+--------------------------------+-------------------------+----------------------------------+--------------------+--------------------+----------------------------+-----------------------+----------------------------+----------------------------+------------------------+---------------------------+----------------------------+---------------------------+--------------------------+-------------------------+--------------------------+---------------+-----------------+---------------------+-----------------+----------------------+-----------------------+--------------------+\n",
      "\n"
     ]
    },
    {
     "name": "stderr",
     "output_type": "stream",
     "text": [
      "                                                                                \r"
     ]
    }
   ],
   "source": [
    "# show only rows where failure is not 0\n",
    "df.where(df.failure != 0).show()\n"
   ]
  },
  {
   "cell_type": "code",
   "execution_count": 76,
   "metadata": {},
   "outputs": [
    {
     "name": "stdout",
     "output_type": "stream",
     "text": [
      "root\n",
      " |-- date: timestamp (nullable = true)\n",
      " |-- serial_number: string (nullable = true)\n",
      " |-- model: string (nullable = true)\n",
      " |-- failure: integer (nullable = true)\n",
      " |-- vault_id: integer (nullable = true)\n",
      " |-- s1_read_error_rate: integer (nullable = true)\n",
      " |-- s2_throughput_performance: integer (nullable = true)\n",
      " |-- s3_spin_up_time: integer (nullable = true)\n",
      " |-- s4_start_stop_count: integer (nullable = true)\n",
      " |-- s5_reallocated_sector_count: integer (nullable = true)\n",
      " |-- s7_seek_error_rate: long (nullable = true)\n",
      " |-- s8_seek_time_performance: integer (nullable = true)\n",
      " |-- s9_power_on_hours: integer (nullable = true)\n",
      " |-- s10_spin_retry_count: integer (nullable = true)\n",
      " |-- s12_power_cycle_count: integer (nullable = true)\n",
      " |-- s173_wear_leveling_count: long (nullable = true)\n",
      " |-- s174_unexpected_power_loss_count: integer (nullable = true)\n",
      " |-- s183_sata_downshift_count: integer (nullable = true)\n",
      " |-- s187_reported_uncorrectable_errors: integer (nullable = true)\n",
      " |-- s188_command_timeout: long (nullable = true)\n",
      " |-- s189_high_fly_writes: integer (nullable = true)\n",
      " |-- s190_airflow_temperature_cel: integer (nullable = true)\n",
      " |-- s191_g_sense_error_rate: integer (nullable = true)\n",
      " |-- s192_power_off_retract_count: integer (nullable = true)\n",
      " |-- s193_load_unload_cycle_count: integer (nullable = true)\n",
      " |-- s194_temperature_celsius: integer (nullable = true)\n",
      " |-- s195_hardware_ecc_recovered: integer (nullable = true)\n",
      " |-- s196_reallocated_event_count: integer (nullable = true)\n",
      " |-- s197_current_pending_sector: integer (nullable = true)\n",
      " |-- s198_offline_uncorrectable: integer (nullable = true)\n",
      " |-- s199_udma_crc_error_count: integer (nullable = true)\n",
      " |-- s200_multi_zone_error_rate: integer (nullable = true)\n",
      " |-- s220_disk_shift: integer (nullable = true)\n",
      " |-- s222_loaded_hours: integer (nullable = true)\n",
      " |-- s223_load_retry_count: integer (nullable = true)\n",
      " |-- s226_load_in_time: integer (nullable = true)\n",
      " |-- s240_head_flying_hours: integer (nullable = true)\n",
      " |-- s241_total_lbas_written: long (nullable = true)\n",
      " |-- s242_total_lbas_read: long (nullable = true)\n",
      "\n"
     ]
    }
   ],
   "source": [
    "# show the column names and types\n",
    "df.printSchema()\n"
   ]
  },
  {
   "cell_type": "code",
   "execution_count": 77,
   "metadata": {},
   "outputs": [],
   "source": [
    "# load cluster centers from csv\n",
    "cluster_centers = spark.read.csv(\"cluster_data_dir/clusters.csv\", header=True, inferSchema=True)"
   ]
  },
  {
   "cell_type": "code",
   "execution_count": 78,
   "metadata": {},
   "outputs": [
    {
     "name": "stdout",
     "output_type": "stream",
     "text": [
      "root\n",
      " |-- cluster: integer (nullable = true)\n",
      " |-- s1_read_error_rate: double (nullable = true)\n",
      " |-- s2_throughput_performance: double (nullable = true)\n",
      " |-- s3_spin_up_time: double (nullable = true)\n",
      " |-- s4_start_stop_count: double (nullable = true)\n",
      " |-- s5_reallocated_sector_count: double (nullable = true)\n",
      " |-- s7_seek_error_rate: double (nullable = true)\n",
      " |-- s8_seek_time_performance: double (nullable = true)\n",
      " |-- s9_power_on_hours: double (nullable = true)\n",
      " |-- s10_spin_retry_count: double (nullable = true)\n",
      " |-- s12_power_cycle_count: double (nullable = true)\n",
      " |-- s173_wear_leveling_count: double (nullable = true)\n",
      " |-- s174_unexpected_power_loss_count: double (nullable = true)\n",
      " |-- s183_sata_downshift_count: double (nullable = true)\n",
      " |-- s187_reported_uncorrectable_errors: double (nullable = true)\n",
      " |-- s188_command_timeout: double (nullable = true)\n",
      " |-- s189_high_fly_writes: double (nullable = true)\n",
      " |-- s190_airflow_temperature_cel: double (nullable = true)\n",
      " |-- s191_g_sense_error_rate: double (nullable = true)\n",
      " |-- s192_power_off_retract_count: double (nullable = true)\n",
      " |-- s193_load_unload_cycle_count: double (nullable = true)\n",
      " |-- s194_temperature_celsius: double (nullable = true)\n",
      " |-- s195_hardware_ecc_recovered: double (nullable = true)\n",
      " |-- s196_reallocated_event_count: double (nullable = true)\n",
      " |-- s197_current_pending_sector: double (nullable = true)\n",
      " |-- s198_offline_uncorrectable: double (nullable = true)\n",
      " |-- s199_udma_crc_error_count: double (nullable = true)\n",
      " |-- s200_multi_zone_error_rate: double (nullable = true)\n",
      " |-- s220_disk_shift: double (nullable = true)\n",
      " |-- s222_loaded_hours: double (nullable = true)\n",
      " |-- s223_load_retry_count: double (nullable = true)\n",
      " |-- s226_load_in_time: double (nullable = true)\n",
      " |-- s240_head_flying_hours: double (nullable = true)\n",
      " |-- s241_total_lbas_written: double (nullable = true)\n",
      " |-- s242_total_lbas_read: double (nullable = true)\n",
      " |-- _c35: string (nullable = true)\n",
      "\n"
     ]
    }
   ],
   "source": [
    "# show the column names and types\n",
    "cluster_centers.printSchema()"
   ]
  },
  {
   "cell_type": "code",
   "execution_count": 79,
   "metadata": {},
   "outputs": [],
   "source": [
    "# drop _c35: string (nullable = true) from cluster_centers\n",
    "cluster_centers = cluster_centers.drop(\"_c35\")"
   ]
  },
  {
   "cell_type": "markdown",
   "metadata": {},
   "source": [
    "_c35: string (nullable = true) is just an empty cell\n",
    "\n",
    "We use date and vault ID to cluster all features s1 through s242 and re-write the centers"
   ]
  },
  {
   "cell_type": "code",
   "execution_count": 80,
   "metadata": {},
   "outputs": [
    {
     "name": "stdout",
     "output_type": "stream",
     "text": [
      "True\n"
     ]
    }
   ],
   "source": [
    "\n",
    "schema = StructType([\n",
    "    StructField(\"date\", TimestampType(), True),\n",
    "    StructField(\"serial_number\", StringType(), True),\n",
    "    StructField(\"model\", StringType(), True),\n",
    "    StructField(\"failure\", IntegerType(), True),\n",
    "    StructField(\"vault_id\", IntegerType(), True),\n",
    "    StructField(\"s1_read_error_rate\", IntegerType(), True),\n",
    "    StructField(\"s2_throughput_performance\", IntegerType(), True),\n",
    "    StructField(\"s3_spin_up_time\", IntegerType(), True),\n",
    "    StructField(\"s4_start_stop_count\", IntegerType(), True),\n",
    "    StructField(\"s5_reallocated_sector_count\", IntegerType(), True),\n",
    "    StructField(\"s7_seek_error_rate\", IntegerType(), True),\n",
    "    StructField(\"s8_seek_time_performance\", IntegerType(), True),\n",
    "    StructField(\"s9_power_on_hours\", IntegerType(), True),\n",
    "    StructField(\"s10_spin_retry_count\", IntegerType(), True),\n",
    "    StructField(\"s12_power_cycle_count\", IntegerType(), True),\n",
    "    StructField(\"s173_wear_leveling_count\", IntegerType(), True),\n",
    "    StructField(\"s174_unexpected_power_loss_count\", IntegerType(), True),\n",
    "    StructField(\"s183_sata_downshift_count\", IntegerType(), True),\n",
    "    StructField(\"s187_reported_uncorrectable_errors\", IntegerType(), True),\n",
    "    StructField(\"s188_command_timeout\", IntegerType(), True),\n",
    "    StructField(\"s189_high_fly_writes\", IntegerType(), True),\n",
    "    StructField(\"s190_airflow_temperature_cel\", IntegerType(), True),\n",
    "    StructField(\"s191_g_sense_error_rate\", IntegerType(), True),\n",
    "    StructField(\"s192_power_off_retract_count\", IntegerType(), True),\n",
    "    StructField(\"s193_load_unload_cycle_count\", IntegerType(), True),\n",
    "    StructField(\"s194_temperature_celsius\", IntegerType(), True),\n",
    "    StructField(\"s195_hardware_ecc_recovered\", IntegerType(), True),\n",
    "    StructField(\"s196_reallocated_event_count\", IntegerType(), True),\n",
    "    StructField(\"s197_current_pending_sector\", IntegerType(), True),\n",
    "    StructField(\"s198_offline_uncorrectable\", IntegerType(), True),\n",
    "    StructField(\"s199_udma_crc_error_count\", IntegerType(), True),\n",
    "    StructField(\"s200_multi_zone_error_rate\", IntegerType(), True),\n",
    "    StructField(\"s220_disk_shift\", IntegerType(), True),\n",
    "    StructField(\"s222_loaded_hours\", IntegerType(), True),\n",
    "    StructField(\"s223_load_retry_count\", IntegerType(), True),\n",
    "    StructField(\"s226_load_in_time\", IntegerType(), True),\n",
    "    StructField(\"s240_head_flying_hours\", IntegerType(), True),\n",
    "    StructField(\"s241_total_lbas_written\", IntegerType(), True),\n",
    "    StructField(\"s242_total_lbas_read\", IntegerType(), True)\n",
    "])\n",
    "\n",
    "#read from csv file\n",
    "#drivedata = spark.readStream.csv(\"streaming_data_dir/drivedata-small.csv\", schema=schema, header=True)\n",
    "\n",
    "# Read the CSV files as a data stream\n",
    "streamingData = spark.readStream.schema(schema).option(\"maxFilesPerTrigger\", 1).csv(\"streaming_data_dir\")\n",
    "# print true if both are true\n",
    "print((streamingData.schema == schema)==( streamingData.isStreaming == True))"
   ]
  },
  {
   "cell_type": "markdown",
   "metadata": {},
   "source": [
    "### First Query"
   ]
  },
  {
   "cell_type": "code",
   "execution_count": 15,
   "metadata": {},
   "outputs": [
    {
     "name": "stderr",
     "output_type": "stream",
     "text": [
      "24/01/26 16:06:10 WARN ResolveWriteToStream: Temporary checkpoint location created which is deleted normally when the query didn't fail: /private/var/folders/p0/qbnst5tj08g1z35zyllsm5vc0000gn/T/temporary-8e16d53e-195d-44ee-86c4-c9b438f75afc. If it's required to delete it under any circumstances, please set spark.sql.streaming.forceDeleteTempCheckpointLocation to true. Important to know deleting temp checkpoint folder is best effort.\n",
      "24/01/26 16:06:10 WARN ResolveWriteToStream: spark.sql.adaptive.enabled is not supported in streaming DataFrames/Datasets and will be disabled.\n"
     ]
    },
    {
     "name": "stderr",
     "output_type": "stream",
     "text": [
      "[Stage 6:==============>                                            (1 + 3) / 4]\r"
     ]
    }
   ],
   "source": [
    "\n",
    "# Apply a window function to the streaming data\n",
    "windowedData = streamingData \\\n",
    "    .withWatermark(\"date\", \"31 days\") \\\n",
    "    .groupBy(\n",
    "        streamingData.vault_id,\n",
    "        window(streamingData.date, \"30 days\", \"1 day\"),\n",
    "        streamingData.model\n",
    "    ) \\\n",
    "    .agg(_sum(\"failure\").alias(\"total_failures\"))\n",
    "\n",
    "# Select only the date and vault_id fields\n",
    "selectedData = windowedData.select(\"window.start\", \"vault_id\", \"total_failures\")\n",
    "filteredData = selectedData.filter(selectedData.total_failures > 0)\n",
    "\n",
    "# Write the windowed data stream out to a memory sink for testing\n",
    "query = filteredData \\\n",
    "    .writeStream \\\n",
    "    .outputMode(\"complete\") \\\n",
    "    .format(\"console\") \\\n",
    "    .queryName(\"filteredData\") \\\n",
    "    .option(\"numRows\", 50) \\\n",
    "    .option(\"truncate\", \"false\") \\\n",
    "    .start()\n",
    "\n"
   ]
  },
  {
   "cell_type": "code",
   "execution_count": null,
   "metadata": {},
   "outputs": [],
   "source": [
    "query.awaitTermination()"
   ]
  },
  {
   "cell_type": "code",
   "execution_count": 69,
   "metadata": {},
   "outputs": [],
   "source": [
    "query.stop()"
   ]
  },
  {
   "cell_type": "markdown",
   "metadata": {},
   "source": [
    "## Second query"
   ]
  },
  {
   "cell_type": "code",
   "execution_count": 82,
   "metadata": {},
   "outputs": [],
   "source": [
    "from pyspark.mllib.linalg import Vectors\n",
    "from pyspark.mllib.clustering import StreamingKMeans\n",
    "\n",
    "# Load initial center points from a CSV file\n",
    "centers_df = spark.read.csv(\"cluster_data_dir/clusters.csv\", header=True, inferSchema=True)\n",
    "\n",
    "# drop _c35: string (nullable = true) from cluster_centers\n",
    "centers_df = centers_df.drop(\"_c35\")\n",
    "\n",
    "# Convert the DataFrame to a list of DenseVector\n",
    "centers = [Vectors.dense(row) for row in centers_df.collect()]\n",
    "# Define the model\n",
    "model = StreamingKMeans(k=len(centers), decayFactor=1.0)\n"
   ]
  },
  {
   "cell_type": "code",
   "execution_count": 84,
   "metadata": {},
   "outputs": [
    {
     "data": {
      "text/plain": [
       "<pyspark.mllib.clustering.StreamingKMeans at 0x7fcfc47dca90>"
      ]
     },
     "execution_count": 84,
     "metadata": {},
     "output_type": "execute_result"
    }
   ],
   "source": [
    "# create list of weights for each center point\n",
    "weights = [1.0 for center in centers]\n",
    "\n",
    "\n",
    "model.setInitialCenters(centers, weights)\n"
   ]
  },
  {
   "cell_type": "code",
   "execution_count": 89,
   "metadata": {},
   "outputs": [
    {
     "name": "stderr",
     "output_type": "stream",
     "text": [
      "24/01/26 17:35:37 WARN ResolveWriteToStream: Temporary checkpoint location created which is deleted normally when the query didn't fail: /private/var/folders/p0/qbnst5tj08g1z35zyllsm5vc0000gn/T/temporary-78b93846-4b73-4690-865d-0185b053138d. If it's required to delete it under any circumstances, please set spark.sql.streaming.forceDeleteTempCheckpointLocation to true. Important to know deleting temp checkpoint folder is best effort.\n",
      "24/01/26 17:35:37 WARN ResolveWriteToStream: spark.sql.adaptive.enabled is not supported in streaming DataFrames/Datasets and will be disabled.\n"
     ]
    },
    {
     "name": "stderr",
     "output_type": "stream",
     "text": [
      "                                                                                \r"
     ]
    },
    {
     "name": "stdout",
     "output_type": "stream",
     "text": [
      "-------------------------------------------\n",
      "Batch: 0\n",
      "-------------------------------------------\n",
      "+-------------------+--------------+--------------------+-------+--------+------------------+-------------------------+---------------+-------------------+---------------------------+------------------+------------------------+-----------------+--------------------+---------------------+------------------------+--------------------------------+-------------------------+----------------------------------+--------------------+--------------------+----------------------------+-----------------------+----------------------------+----------------------------+------------------------+---------------------------+----------------------------+---------------------------+--------------------------+-------------------------+--------------------------+---------------+-----------------+---------------------+-----------------+----------------------+-----------------------+--------------------+\n",
      "|               date| serial_number|               model|failure|vault_id|s1_read_error_rate|s2_throughput_performance|s3_spin_up_time|s4_start_stop_count|s5_reallocated_sector_count|s7_seek_error_rate|s8_seek_time_performance|s9_power_on_hours|s10_spin_retry_count|s12_power_cycle_count|s173_wear_leveling_count|s174_unexpected_power_loss_count|s183_sata_downshift_count|s187_reported_uncorrectable_errors|s188_command_timeout|s189_high_fly_writes|s190_airflow_temperature_cel|s191_g_sense_error_rate|s192_power_off_retract_count|s193_load_unload_cycle_count|s194_temperature_celsius|s195_hardware_ecc_recovered|s196_reallocated_event_count|s197_current_pending_sector|s198_offline_uncorrectable|s199_udma_crc_error_count|s200_multi_zone_error_rate|s220_disk_shift|s222_loaded_hours|s223_load_retry_count|s226_load_in_time|s240_head_flying_hours|s241_total_lbas_written|s242_total_lbas_read|\n",
      "+-------------------+--------------+--------------------+-------+--------+------------------+-------------------------+---------------+-------------------+---------------------------+------------------+------------------------+-----------------+--------------------+---------------------+------------------------+--------------------------------+-------------------------+----------------------------------+--------------------+--------------------+----------------------------+-----------------------+----------------------------+----------------------------+------------------------+---------------------------+----------------------------+---------------------------+--------------------------+-------------------------+--------------------------+---------------+-----------------+---------------------+-----------------+----------------------+-----------------------+--------------------+\n",
      "|               NULL| serial_number|               model|   NULL|    NULL|              NULL|                     NULL|           NULL|               NULL|                       NULL|              NULL|                    NULL|             NULL|                NULL|                 NULL|                    NULL|                            NULL|                     NULL|                              NULL|                NULL|                NULL|                        NULL|                   NULL|                        NULL|                        NULL|                    NULL|                       NULL|                        NULL|                       NULL|                      NULL|                     NULL|                      NULL|           NULL|             NULL|                 NULL|             NULL|                  NULL|                   NULL|                NULL|\n",
      "|2023-04-01 00:00:00|PL2331LAGUJ28J|HGST HMS5C4040ALE640|      0|    1000|                 0|                      103|            566|                 37|                          0|                 0|                      42|            61361|                   0|                   34|                    NULL|                            NULL|                     NULL|                              NULL|                NULL|                NULL|                        NULL|                   NULL|                         519|                         519|                      22|                       NULL|                           0|                          0|                         0|                        0|                      NULL|           NULL|             NULL|                 NULL|             NULL|                  NULL|                   NULL|                NULL|\n",
      "|2023-04-01 00:00:00|PL2331LAGM89GJ|HGST HMS5C4040BLE640|      0|    1000|                 0|                      100|            545|                 21|                          0|                 0|                      42|            77180|                   0|                   21|                    NULL|                            NULL|                     NULL|                              NULL|                NULL|                NULL|                        NULL|                   NULL|                        1114|                        1114|                      23|                       NULL|                           0|                          0|                         0|                        3|                      NULL|           NULL|             NULL|                 NULL|             NULL|                  NULL|                   NULL|                NULL|\n",
      "|2023-04-01 00:00:00|PL2331LAGNZH9J|HGST HMS5C4040ALE640|      0|    1000|                 0|                      102|            550|                 13|                          0|                 0|                      42|            77184|                   0|                   13|                    NULL|                            NULL|                     NULL|                              NULL|                NULL|                NULL|                        NULL|                   NULL|                        1351|                        1351|                      20|                       NULL|                           0|                          0|                         0|                       13|                      NULL|           NULL|             NULL|                 NULL|             NULL|                  NULL|                   NULL|                NULL|\n",
      "|2023-04-01 00:00:00|PL1331LAGSRA3H|HGST HMS5C4040ALE640|      0|    1000|                 0|                      100|            530|                 18|                          0|                 0|                      42|            46881|                   0|                   18|                    NULL|                            NULL|                     NULL|                              NULL|                NULL|                NULL|                        NULL|                   NULL|                         607|                         607|                      20|                       NULL|                           0|                          0|                         0|                        0|                      NULL|           NULL|             NULL|                 NULL|             NULL|                  NULL|                   NULL|                NULL|\n",
      "|2023-04-01 00:00:00|      W300R7M8|         ST4000DM000|      0|    1000|         131792128|                     NULL|              0|                 18|                          0|         121283338|                    NULL|            69099|                   0|                    8|                    NULL|                            NULL|                        0|                                 0|                   0|                   0|                          18|                      0|                           2|                        9315|                      18|                       NULL|                        NULL|                          0|                         0|                        0|                      NULL|           NULL|             NULL|                 NULL|             NULL|                 69070|                   NULL|                NULL|\n",
      "|2023-04-01 00:00:00|      W300SS9X|         ST4000DM000|      0|    1000|         107377504|                     NULL|              0|                 18|                          0|         288561136|                    NULL|            69101|                   0|                    8|                    NULL|                            NULL|                        0|                                 0|                   0|                   0|                          20|                      0|                           0|                       13638|                      20|                       NULL|                        NULL|                          0|                         0|                        0|                      NULL|           NULL|             NULL|                 NULL|             NULL|                 69053|                   NULL|                NULL|\n",
      "|2023-04-01 00:00:00|      Z3029G5N|         ST4000DM000|      0|    1001|          89998792|                     NULL|              0|                 16|                          0|         247316132|                    NULL|            71401|                   0|                   16|                    NULL|                            NULL|                        0|                                 0|                   0|                   0|                          19|                      0|                           0|                       57733|                      19|                       NULL|                        NULL|                          0|                         0|                        0|                      NULL|           NULL|             NULL|                 NULL|             NULL|                 71188|                   NULL|                NULL|\n",
      "|2023-04-01 00:00:00|      Z302AKT8|         ST4000DM000|      0|    1001|          10373528|                     NULL|              0|                 17|                          0|         301868195|                    NULL|            71373|                   0|                   17|                    NULL|                            NULL|                       12|                                 0|                   0|                   0|                          19|                      0|                           0|                       55119|                      19|                       NULL|                        NULL|                          0|                         0|                        0|                      NULL|           NULL|             NULL|                 NULL|             NULL|                 71183|                   NULL|                NULL|\n",
      "|2023-04-01 00:00:00|      Z302EL5T|         ST4000DM000|      0|    1001|          66114352|                     NULL|              0|                 28|                          0|         367603914|                    NULL|            71387|                   0|                   28|                    NULL|                            NULL|                        2|                                 0|                   0|                   0|                          15|                      0|                           5|                       56047|                      15|                       NULL|                        NULL|                          0|                         0|                        0|                      NULL|           NULL|             NULL|                 NULL|             NULL|                 71199|                   NULL|                NULL|\n",
      "|2023-04-01 00:00:00|      Z302ET0P|         ST4000DM000|      0|    1001|         237150872|                     NULL|              0|                 13|                          0|         361097389|                    NULL|            71396|                   0|                   13|                    NULL|                            NULL|                        3|                                 0|                   0|                   0|                          18|                      0|                           0|                       54135|                      18|                       NULL|                        NULL|                          0|                         0|                        0|                      NULL|           NULL|             NULL|                 NULL|             NULL|                 71203|                   NULL|                NULL|\n",
      "|2023-04-01 00:00:00|      Z302F44S|         ST4000DM000|      0|    1001|         136273704|                     NULL|              0|                 13|                          0|         897969227|                    NULL|            71406|                   0|                   13|                    NULL|                            NULL|                        1|                                 0|                   0|                   0|                          18|                      0|                           0|                       56859|                      18|                       NULL|                        NULL|                          0|                         0|                        0|                      NULL|           NULL|             NULL|                 NULL|             NULL|                 71204|                   NULL|                NULL|\n",
      "|2023-04-01 00:00:00|      Z4D0ALAM|         ST6000DX000|      0|    1002|          59895120|                     NULL|              0|                  9|                          0|              NULL|                    NULL|            70152|                   0|                    8|                    NULL|                            NULL|                        0|                                 0|                   0|                   0|                          19|                  68382|                           0|                       94939|                      19|                   59895120|                        NULL|                          0|                         0|                        0|                      NULL|           NULL|             NULL|                 NULL|             NULL|                 69724|                   NULL|                NULL|\n",
      "|2023-04-01 00:00:00|      Z4D0ACLA|         ST6000DX000|      0|    1002|         186204632|                     NULL|              0|                 14|                          0|              NULL|                    NULL|            70156|                   0|                   14|                    NULL|                            NULL|                        0|                                 0|                   0|                   0|                          28|                  21868|                           0|                      101065|                      28|                  186204632|                        NULL|                          0|                         0|                        0|                      NULL|           NULL|             NULL|                 NULL|             NULL|                 69656|                   NULL|                NULL|\n",
      "|2023-04-01 00:00:00|      S3011FG7|         ST4000DM000|      0|    1003|         219826760|                     NULL|              0|                 12|                          0|         291680982|                    NULL|            69712|                   0|                   12|                    NULL|                            NULL|                        0|                                 0|                   0|                   0|                          16|                      0|                           2|                       37057|                      16|                       NULL|                        NULL|                          0|                         0|                        0|                      NULL|           NULL|             NULL|                 NULL|             NULL|                 69531|                   NULL|                NULL|\n",
      "|2023-04-01 00:00:00|      S30112Q2|         ST4000DM000|      0|    1003|         112220696|                     NULL|              0|                 13|                          0|         452653978|                    NULL|            69712|                   0|                   13|                    NULL|                            NULL|                        1|                                 0|                   0|                   0|                          17|                      0|                           1|                       34808|                      17|                       NULL|                        NULL|                          0|                         0|                        0|                      NULL|           NULL|             NULL|                 NULL|             NULL|                 69537|                   NULL|                NULL|\n",
      "|2023-04-01 00:00:00|      Z3029A89|         ST4000DM000|      0|    1003|         228640616|                     NULL|              0|                 15|                          0|         342262066|                    NULL|            69716|                   0|                   15|                    NULL|                            NULL|                        0|                                 0|                   0|                   0|                          18|                      0|                           0|                       32276|                      18|                       NULL|                        NULL|                          0|                         0|                        0|                      NULL|           NULL|             NULL|                 NULL|             NULL|                 69548|                   NULL|                NULL|\n",
      "|2023-04-01 00:00:00|      S300Z71B|         ST4000DM000|      0|    1004|         135014256|                     NULL|              0|                  6|                          0|         274838393|                    NULL|            69054|                   0|                    6|                    NULL|                            NULL|                        0|                                 0|                   0|                   0|                          17|                      0|                           1|                       35759|                      17|                       NULL|                        NULL|                          0|                         0|                        0|                      NULL|           NULL|             NULL|                 NULL|             NULL|                 68909|                   NULL|                NULL|\n",
      "|2023-04-01 00:00:00|S2ZYJ9AFA09511|       ST500LM012 HN|      0|    1004|                13|                        0|           1842|                 19|                          0|                 0|                       0|            39036|                   0|                   21|                    NULL|                            NULL|                     NULL|                              NULL|                NULL|                NULL|                        NULL|                      9|                           2|                        NULL|                      21|                          0|                           0|                          0|                         0|                        0|                     83544|           NULL|             NULL|                 1517|             NULL|                  NULL|                   NULL|                NULL|\n",
      "|2023-04-01 00:00:00|      Z3029BAN|         ST4000DM000|      0|    1004|         209447488|                     NULL|              0|                  7|                          0|         236239211|                    NULL|            69026|                   0|                    7|                    NULL|                            NULL|                        2|                                 0|                   0|                   0|                          22|                      0|                           0|                       38899|                      22|                       NULL|                        NULL|                          0|                         0|                        0|                      NULL|           NULL|             NULL|                 NULL|             NULL|                 68869|                   NULL|                NULL|\n",
      "+-------------------+--------------+--------------------+-------+--------+------------------+-------------------------+---------------+-------------------+---------------------------+------------------+------------------------+-----------------+--------------------+---------------------+------------------------+--------------------------------+-------------------------+----------------------------------+--------------------+--------------------+----------------------------+-----------------------+----------------------------+----------------------------+------------------------+---------------------------+----------------------------+---------------------------+--------------------------+-------------------------+--------------------------+---------------+-----------------+---------------------+-----------------+----------------------+-----------------------+--------------------+\n",
      "only showing top 20 rows\n",
      "\n"
     ]
    },
    {
     "name": "stderr",
     "output_type": "stream",
     "text": [
      "ERROR:root:KeyboardInterrupt while sending command.\n",
      "Traceback (most recent call last):\n",
      "  File \"/Users/jonas/Documents/Uni/Erasmus/Cloud Computing for Big Data/Cloud-Computing-and-Big-Data-Applications/.conda/lib/python3.9/site-packages/py4j/java_gateway.py\", line 1038, in send_command\n",
      "    response = connection.send_command(command)\n",
      "  File \"/Users/jonas/Documents/Uni/Erasmus/Cloud Computing for Big Data/Cloud-Computing-and-Big-Data-Applications/.conda/lib/python3.9/site-packages/py4j/clientserver.py\", line 511, in send_command\n",
      "    answer = smart_decode(self.stream.readline()[:-1])\n",
      "  File \"/Users/jonas/Documents/Uni/Erasmus/Cloud Computing for Big Data/Cloud-Computing-and-Big-Data-Applications/.conda/lib/python3.9/socket.py\", line 704, in readinto\n",
      "    return self._sock.recv_into(b)\n",
      "KeyboardInterrupt\n"
     ]
    },
    {
     "ename": "KeyboardInterrupt",
     "evalue": "",
     "output_type": "error",
     "traceback": [
      "\u001b[0;31m---------------------------------------------------------------------------\u001b[0m",
      "\u001b[0;31mKeyboardInterrupt\u001b[0m                         Traceback (most recent call last)",
      "Cell \u001b[0;32mIn[89], line 13\u001b[0m\n\u001b[1;32m     10\u001b[0m query \u001b[38;5;241m=\u001b[39m streamingData\u001b[38;5;241m.\u001b[39mwriteStream\u001b[38;5;241m.\u001b[39moutputMode(\u001b[38;5;124m\"\u001b[39m\u001b[38;5;124mappend\u001b[39m\u001b[38;5;124m\"\u001b[39m)\u001b[38;5;241m.\u001b[39mformat(\u001b[38;5;124m\"\u001b[39m\u001b[38;5;124mconsole\u001b[39m\u001b[38;5;124m\"\u001b[39m)\u001b[38;5;241m.\u001b[39mstart()\n\u001b[1;32m     12\u001b[0m \u001b[38;5;66;03m# Wait for the query to start\u001b[39;00m\n\u001b[0;32m---> 13\u001b[0m \u001b[43mquery\u001b[49m\u001b[38;5;241;43m.\u001b[39;49m\u001b[43mawaitTermination\u001b[49m\u001b[43m(\u001b[49m\u001b[43m)\u001b[49m\n\u001b[1;32m     15\u001b[0m \u001b[38;5;66;03m# Now you can convert the streaming DataFrame to an RDD\u001b[39;00m\n\u001b[1;32m     16\u001b[0m rdd \u001b[38;5;241m=\u001b[39m streamingData\u001b[38;5;241m.\u001b[39mrdd\n",
      "File \u001b[0;32m~/Documents/Uni/Erasmus/Cloud Computing for Big Data/Cloud-Computing-and-Big-Data-Applications/.conda/lib/python3.9/site-packages/pyspark/sql/streaming/query.py:221\u001b[0m, in \u001b[0;36mStreamingQuery.awaitTermination\u001b[0;34m(self, timeout)\u001b[0m\n\u001b[1;32m    219\u001b[0m     \u001b[38;5;28;01mreturn\u001b[39;00m \u001b[38;5;28mself\u001b[39m\u001b[38;5;241m.\u001b[39m_jsq\u001b[38;5;241m.\u001b[39mawaitTermination(\u001b[38;5;28mint\u001b[39m(timeout \u001b[38;5;241m*\u001b[39m \u001b[38;5;241m1000\u001b[39m))\n\u001b[1;32m    220\u001b[0m \u001b[38;5;28;01melse\u001b[39;00m:\n\u001b[0;32m--> 221\u001b[0m     \u001b[38;5;28;01mreturn\u001b[39;00m \u001b[38;5;28;43mself\u001b[39;49m\u001b[38;5;241;43m.\u001b[39;49m\u001b[43m_jsq\u001b[49m\u001b[38;5;241;43m.\u001b[39;49m\u001b[43mawaitTermination\u001b[49m\u001b[43m(\u001b[49m\u001b[43m)\u001b[49m\n",
      "File \u001b[0;32m~/Documents/Uni/Erasmus/Cloud Computing for Big Data/Cloud-Computing-and-Big-Data-Applications/.conda/lib/python3.9/site-packages/py4j/java_gateway.py:1321\u001b[0m, in \u001b[0;36mJavaMember.__call__\u001b[0;34m(self, *args)\u001b[0m\n\u001b[1;32m   1314\u001b[0m args_command, temp_args \u001b[38;5;241m=\u001b[39m \u001b[38;5;28mself\u001b[39m\u001b[38;5;241m.\u001b[39m_build_args(\u001b[38;5;241m*\u001b[39margs)\n\u001b[1;32m   1316\u001b[0m command \u001b[38;5;241m=\u001b[39m proto\u001b[38;5;241m.\u001b[39mCALL_COMMAND_NAME \u001b[38;5;241m+\u001b[39m\\\n\u001b[1;32m   1317\u001b[0m     \u001b[38;5;28mself\u001b[39m\u001b[38;5;241m.\u001b[39mcommand_header \u001b[38;5;241m+\u001b[39m\\\n\u001b[1;32m   1318\u001b[0m     args_command \u001b[38;5;241m+\u001b[39m\\\n\u001b[1;32m   1319\u001b[0m     proto\u001b[38;5;241m.\u001b[39mEND_COMMAND_PART\n\u001b[0;32m-> 1321\u001b[0m answer \u001b[38;5;241m=\u001b[39m \u001b[38;5;28;43mself\u001b[39;49m\u001b[38;5;241;43m.\u001b[39;49m\u001b[43mgateway_client\u001b[49m\u001b[38;5;241;43m.\u001b[39;49m\u001b[43msend_command\u001b[49m\u001b[43m(\u001b[49m\u001b[43mcommand\u001b[49m\u001b[43m)\u001b[49m\n\u001b[1;32m   1322\u001b[0m return_value \u001b[38;5;241m=\u001b[39m get_return_value(\n\u001b[1;32m   1323\u001b[0m     answer, \u001b[38;5;28mself\u001b[39m\u001b[38;5;241m.\u001b[39mgateway_client, \u001b[38;5;28mself\u001b[39m\u001b[38;5;241m.\u001b[39mtarget_id, \u001b[38;5;28mself\u001b[39m\u001b[38;5;241m.\u001b[39mname)\n\u001b[1;32m   1325\u001b[0m \u001b[38;5;28;01mfor\u001b[39;00m temp_arg \u001b[38;5;129;01min\u001b[39;00m temp_args:\n",
      "File \u001b[0;32m~/Documents/Uni/Erasmus/Cloud Computing for Big Data/Cloud-Computing-and-Big-Data-Applications/.conda/lib/python3.9/site-packages/py4j/java_gateway.py:1038\u001b[0m, in \u001b[0;36mGatewayClient.send_command\u001b[0;34m(self, command, retry, binary)\u001b[0m\n\u001b[1;32m   1036\u001b[0m connection \u001b[38;5;241m=\u001b[39m \u001b[38;5;28mself\u001b[39m\u001b[38;5;241m.\u001b[39m_get_connection()\n\u001b[1;32m   1037\u001b[0m \u001b[38;5;28;01mtry\u001b[39;00m:\n\u001b[0;32m-> 1038\u001b[0m     response \u001b[38;5;241m=\u001b[39m \u001b[43mconnection\u001b[49m\u001b[38;5;241;43m.\u001b[39;49m\u001b[43msend_command\u001b[49m\u001b[43m(\u001b[49m\u001b[43mcommand\u001b[49m\u001b[43m)\u001b[49m\n\u001b[1;32m   1039\u001b[0m     \u001b[38;5;28;01mif\u001b[39;00m binary:\n\u001b[1;32m   1040\u001b[0m         \u001b[38;5;28;01mreturn\u001b[39;00m response, \u001b[38;5;28mself\u001b[39m\u001b[38;5;241m.\u001b[39m_create_connection_guard(connection)\n",
      "File \u001b[0;32m~/Documents/Uni/Erasmus/Cloud Computing for Big Data/Cloud-Computing-and-Big-Data-Applications/.conda/lib/python3.9/site-packages/py4j/clientserver.py:511\u001b[0m, in \u001b[0;36mClientServerConnection.send_command\u001b[0;34m(self, command)\u001b[0m\n\u001b[1;32m    509\u001b[0m \u001b[38;5;28;01mtry\u001b[39;00m:\n\u001b[1;32m    510\u001b[0m     \u001b[38;5;28;01mwhile\u001b[39;00m \u001b[38;5;28;01mTrue\u001b[39;00m:\n\u001b[0;32m--> 511\u001b[0m         answer \u001b[38;5;241m=\u001b[39m smart_decode(\u001b[38;5;28;43mself\u001b[39;49m\u001b[38;5;241;43m.\u001b[39;49m\u001b[43mstream\u001b[49m\u001b[38;5;241;43m.\u001b[39;49m\u001b[43mreadline\u001b[49m\u001b[43m(\u001b[49m\u001b[43m)\u001b[49m[:\u001b[38;5;241m-\u001b[39m\u001b[38;5;241m1\u001b[39m])\n\u001b[1;32m    512\u001b[0m         logger\u001b[38;5;241m.\u001b[39mdebug(\u001b[38;5;124m\"\u001b[39m\u001b[38;5;124mAnswer received: \u001b[39m\u001b[38;5;132;01m{0}\u001b[39;00m\u001b[38;5;124m\"\u001b[39m\u001b[38;5;241m.\u001b[39mformat(answer))\n\u001b[1;32m    513\u001b[0m         \u001b[38;5;66;03m# Happens when a the other end is dead. There might be an empty\u001b[39;00m\n\u001b[1;32m    514\u001b[0m         \u001b[38;5;66;03m# answer before the socket raises an error.\u001b[39;00m\n",
      "File \u001b[0;32m~/Documents/Uni/Erasmus/Cloud Computing for Big Data/Cloud-Computing-and-Big-Data-Applications/.conda/lib/python3.9/socket.py:704\u001b[0m, in \u001b[0;36mSocketIO.readinto\u001b[0;34m(self, b)\u001b[0m\n\u001b[1;32m    702\u001b[0m \u001b[38;5;28;01mwhile\u001b[39;00m \u001b[38;5;28;01mTrue\u001b[39;00m:\n\u001b[1;32m    703\u001b[0m     \u001b[38;5;28;01mtry\u001b[39;00m:\n\u001b[0;32m--> 704\u001b[0m         \u001b[38;5;28;01mreturn\u001b[39;00m \u001b[38;5;28;43mself\u001b[39;49m\u001b[38;5;241;43m.\u001b[39;49m\u001b[43m_sock\u001b[49m\u001b[38;5;241;43m.\u001b[39;49m\u001b[43mrecv_into\u001b[49m\u001b[43m(\u001b[49m\u001b[43mb\u001b[49m\u001b[43m)\u001b[49m\n\u001b[1;32m    705\u001b[0m     \u001b[38;5;28;01mexcept\u001b[39;00m timeout:\n\u001b[1;32m    706\u001b[0m         \u001b[38;5;28mself\u001b[39m\u001b[38;5;241m.\u001b[39m_timeout_occurred \u001b[38;5;241m=\u001b[39m \u001b[38;5;28;01mTrue\u001b[39;00m\n",
      "\u001b[0;31mKeyboardInterrupt\u001b[0m: "
     ]
    }
   ],
   "source": [
    "from pyspark import SparkContext\n",
    "from pyspark.streaming import StreamingContext\n",
    "from pyspark.sql import SparkSession\n",
    "\n",
    "# Create a SparkSession\n",
    "spark = SparkSession.builder.getOrCreate()\n",
    "\n",
    "# Read the streaming data\n",
    "streamingData = spark.readStream.schema(schema).csv(\"streaming_data_dir\")# Define a query\n",
    "query = streamingData.writeStream.outputMode(\"append\").format(\"console\").start()\n",
    "\n",
    "# Wait for the query to start\n",
    "query.awaitTermination()\n",
    "\n",
    "# Now you can convert the streaming DataFrame to an RDD\n",
    "rdd = streamingData.rdd\n",
    "# Create a SparkContext\n",
    "sc = SparkContext.getOrCreate()\n",
    "\n",
    "# Create a StreamingContext with a batch interval of 1 second\n",
    "ssc = StreamingContext(sc, 1)\n",
    "\n",
    "# Assuming that your streaming data is in the form of DataFrame named streamingData\n",
    "# Convert DataFrame to RDD\n",
    "rdd = streamingData.rdd\n",
    "\n",
    "# Convert RDD to DStream\n",
    "queue = [rdd]\n",
    "stream = ssc.queueStream(queue)\n",
    "\n",
    "# Now you can train the model on the DStream\n",
    "model.trainOn(stream)"
   ]
  },
  {
   "cell_type": "code",
   "execution_count": null,
   "metadata": {},
   "outputs": [],
   "source": []
  }
 ],
 "metadata": {
  "kernelspec": {
   "display_name": "Python 3",
   "language": "python",
   "name": "python3"
  },
  "language_info": {
   "codemirror_mode": {
    "name": "ipython",
    "version": 3
   },
   "file_extension": ".py",
   "mimetype": "text/x-python",
   "name": "python",
   "nbconvert_exporter": "python",
   "pygments_lexer": "ipython3",
   "version": "3.9.18"
  }
 },
 "nbformat": 4,
 "nbformat_minor": 2
}
