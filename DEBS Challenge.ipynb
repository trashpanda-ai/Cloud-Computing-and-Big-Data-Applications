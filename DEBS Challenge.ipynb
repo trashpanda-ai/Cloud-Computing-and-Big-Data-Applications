{
 "cells": [
  {
   "cell_type": "markdown",
   "metadata": {},
   "source": [
    "<a ><img src=\"https://upload.wikimedia.org/wikipedia/commons/thumb/b/b9/Logo_INSA_Lyon_%282014%29.svg/langfr-2560px-Logo_INSA_Lyon_%282014%29.svg.png\"  width=\"200\" align=\"left\"> </a>\n",
    "<div style=\"text-align: right\"> <a ><img src=\"https://2024.debs.org/img/debs-logo_keep.png\"  width=\"200\" align=\"right\"> </a> </div>\n",
    "\n",
    "<br>\n",
    "<br>\n",
    "<br>\n",
    "\n",
    "\n",
    "<h1><center>DEBS 2024 </center></h1>\n",
    "<h2><center> <span style=\"font-weight:normal\"><font color='#e42618'> 18TH ACM INTERNATIONAL CONFERENCE ON DISTRIBUTED AND EVENT-BASED SYSTEMS (June 25th–28th 2024, Lyon, France)</font>  </span></center></h2>\n",
    "\n",
    "\n",
    "<h3><center><font color='gray'>ABNER | JONAS | KEVIN | BENJAMIN</font></center></h3>"
   ]
  },
  {
   "cell_type": "markdown",
   "metadata": {},
   "source": [
    "As a part of the _Cloud Computing and Big Data Application_ course we participate at the Grand Challenge:\n",
    "    \n",
    "    \n",
    "> The 2024 DEBS Grand Challenge focuses on real-time complex event processing of real-world telemetry data provided by Backblaze (https://www.backblaze.com/).The dataset used for the Grand Challenge is based on fine-granular telemetry data about over 200k hard drives in data centers operated by Backblaze. The goal of the challenge is to identify models that exhibit comparable behavior with respect to a set of attributes best suited to predict failures. Further details on the dataset provided, the queries, non-functional requirements and the overall submission process can be found here: https://2024.debs.org/call-for-grand-challenge-solutions/.\n",
    "\n",
    "\n",
    "This year’s DEBS Grand Challenge requires you to implement two queries\n",
    "- Query 1: Count of the recent number of failures detected for each vault (group by storage servers) (Continuous Querying)\n",
    "- Query 2: Use this number to continuously compute a cluster of the drives (Streaming K-Means)\n",
    "\n",
    "Input data consists of batches and each batch contains\n",
    "- SMART readings for a list of drives (```s_1, ..., s_242```)\n",
    "- ```vault_ids```: a list of vault identifiers of interest for this batch (used in Q1, see below)\n",
    "- ```cluster_ids```: a list of cluster identifiers of interest for this batch (used in Q2, see below)\n",
    "- ```day_end```: a flag that marks the end of one day of readings (could not be found - will be created)"
   ]
  },
  {
   "cell_type": "markdown",
   "metadata": {},
   "source": [
    "#### Requirements\n",
    "- ```Python 3.9.18``` (conda env)\n",
    "- ```pip freeze > requirements.txt```\n",
    "- ```conda env export > environment.yml```"
   ]
  },
  {
   "cell_type": "markdown",
   "metadata": {},
   "source": [
    "## Our approach\n",
    "\n",
    "We opted for Apache Spark, not only because some of us already gave a short presentation on Spark, but because of its polyglot nature and vast implementations of different libraries. Also we can easily start a data stream from a folder of ```CSV``` files!"
   ]
  },
  {
   "cell_type": "code",
   "execution_count": 1,
   "metadata": {},
   "outputs": [],
   "source": [
    "# Import necessary libraries\n",
    "from pyspark.sql import SparkSession\n",
    "from pyspark.sql.types import StructType, StructField, StringType, IntegerType, DoubleType, TimestampType\n",
    "#from pyspark.sql.functions import *\n",
    "from pyspark.sql.functions import window, sum as _sum"
   ]
  },
  {
   "cell_type": "markdown",
   "metadata": {},
   "source": [
    "# Exploration"
   ]
  },
  {
   "cell_type": "code",
   "execution_count": 2,
   "metadata": {},
   "outputs": [
    {
     "name": "stderr",
     "output_type": "stream",
     "text": [
      "Setting default log level to \"WARN\".\n",
      "To adjust logging level use sc.setLogLevel(newLevel). For SparkR, use setLogLevel(newLevel).\n",
      "24/01/30 16:07:42 WARN NativeCodeLoader: Unable to load native-hadoop library for your platform... using builtin-java classes where applicable\n",
      "                                                                                \r"
     ]
    }
   ],
   "source": [
    "spark = SparkSession.builder.appName(\"StreamingFromCSV\").getOrCreate()\n",
    "\n",
    "# load df from csv\n",
    "df = spark.read.csv(\"streaming_data_dir/drivedata-small.csv\", header=True, inferSchema=True)"
   ]
  },
  {
   "cell_type": "code",
   "execution_count": 75,
   "metadata": {},
   "outputs": [
    {
     "name": "stderr",
     "output_type": "stream",
     "text": [
      "[Stage 38:======================================>                   (2 + 1) / 3]\r"
     ]
    },
    {
     "name": "stdout",
     "output_type": "stream",
     "text": [
      "+-------------------+-------------+--------------------+-------+--------+------------------+-------------------------+---------------+-------------------+---------------------------+------------------+------------------------+-----------------+--------------------+---------------------+------------------------+--------------------------------+-------------------------+----------------------------------+--------------------+--------------------+----------------------------+-----------------------+----------------------------+----------------------------+------------------------+---------------------------+----------------------------+---------------------------+--------------------------+-------------------------+--------------------------+---------------+-----------------+---------------------+-----------------+----------------------+-----------------------+--------------------+\n",
      "|               date|serial_number|               model|failure|vault_id|s1_read_error_rate|s2_throughput_performance|s3_spin_up_time|s4_start_stop_count|s5_reallocated_sector_count|s7_seek_error_rate|s8_seek_time_performance|s9_power_on_hours|s10_spin_retry_count|s12_power_cycle_count|s173_wear_leveling_count|s174_unexpected_power_loss_count|s183_sata_downshift_count|s187_reported_uncorrectable_errors|s188_command_timeout|s189_high_fly_writes|s190_airflow_temperature_cel|s191_g_sense_error_rate|s192_power_off_retract_count|s193_load_unload_cycle_count|s194_temperature_celsius|s195_hardware_ecc_recovered|s196_reallocated_event_count|s197_current_pending_sector|s198_offline_uncorrectable|s199_udma_crc_error_count|s200_multi_zone_error_rate|s220_disk_shift|s222_loaded_hours|s223_load_retry_count|s226_load_in_time|s240_head_flying_hours|s241_total_lbas_written|s242_total_lbas_read|\n",
      "+-------------------+-------------+--------------------+-------+--------+------------------+-------------------------+---------------+-------------------+---------------------------+------------------+------------------------+-----------------+--------------------+---------------------+------------------------+--------------------------------+-------------------------+----------------------------------+--------------------+--------------------+----------------------------+-----------------------+----------------------------+----------------------------+------------------------+---------------------------+----------------------------+---------------------------+--------------------------+-------------------------+--------------------------+---------------+-----------------+---------------------+-----------------+----------------------+-----------------------+--------------------+\n",
      "|2023-04-08 00:00:00|     8CH4X57E|HGST HUH721212ALN604|      1|    1124|             65536|                        0|            398|                 13|                          2|                 0|                       0|            34183|                   0|                   13|                    NULL|                            NULL|                     NULL|                              NULL|                NULL|                NULL|                        NULL|                   NULL|                        1718|                        1718|                      42|                       NULL|                           2|                         65|                        92|                        0|                      NULL|           NULL|             NULL|                 NULL|             NULL|                  NULL|                   NULL|                NULL|\n",
      "|2023-04-19 00:00:00|     X0GEBGSC| WDC WUH721414ALE6L4|      1|    1149|                 0|                       92|            381|                  4|                          0|                 0|                      18|            21940|                   0|                    4|                    NULL|                            NULL|                     NULL|                              NULL|                NULL|                NULL|                        NULL|                   NULL|                        1532|                        1532|                      40|                       NULL|                           0|                          0|                         0|                        0|                      NULL|           NULL|             NULL|                 NULL|             NULL|                  NULL|                   NULL|                NULL|\n",
      "|2023-06-14 00:00:00|     ZLW0H3KN|       ST12000NM001G|      1|    1097|         238299832|                     NULL|              0|                  4|                          8|        4812972878|                    NULL|            23158|                   0|                    4|                    NULL|                            NULL|                     NULL|                                41|             2621480|                NULL|                          34|                   NULL|                           1|                        1118|                      34|                       NULL|                        NULL|                       7632|                      7632|                        0|                         0|           NULL|             NULL|                 NULL|             NULL|                 22995|            72120351136|        269431057712|\n",
      "|2023-06-17 00:00:00|     ZA13F75D|        ST8000NM0055|      1|    1042|         200441864|                     NULL|              0|                 16|                         88|        1562276778|                    NULL|            52919|                   0|                   16|                    NULL|                            NULL|                     NULL|                                 0|                   0|                   0|                          32|                   9967|                           4|                       69639|                      32|                  200441864|                        NULL|                          0|                         0|                        0|                      NULL|           NULL|             NULL|                 NULL|             NULL|                 52876|            97520408640|        448293518336|\n",
      "|2023-06-23 00:00:00|     ZL23B532|       ST16000NM001G|      1|    1406|         133014064|                     NULL|              0|                 16|                          0|         753873075|                    NULL|            15591|                   0|                   16|                    NULL|                            NULL|                     NULL|                                 0|                   0|                NULL|                          37|                   NULL|                           8|                        4074|                      37|                       NULL|                        NULL|                          0|                         0|                        0|                         0|           NULL|             NULL|                 NULL|             NULL|                 14105|            91286568400|        230874495462|\n",
      "+-------------------+-------------+--------------------+-------+--------+------------------+-------------------------+---------------+-------------------+---------------------------+------------------+------------------------+-----------------+--------------------+---------------------+------------------------+--------------------------------+-------------------------+----------------------------------+--------------------+--------------------+----------------------------+-----------------------+----------------------------+----------------------------+------------------------+---------------------------+----------------------------+---------------------------+--------------------------+-------------------------+--------------------------+---------------+-----------------+---------------------+-----------------+----------------------+-----------------------+--------------------+\n",
      "\n"
     ]
    },
    {
     "name": "stderr",
     "output_type": "stream",
     "text": [
      "                                                                                \r"
     ]
    }
   ],
   "source": [
    "# show only rows where failure is not 0\n",
    "df.where(df.failure != 0).show()\n"
   ]
  },
  {
   "cell_type": "code",
   "execution_count": 76,
   "metadata": {},
   "outputs": [
    {
     "name": "stdout",
     "output_type": "stream",
     "text": [
      "root\n",
      " |-- date: timestamp (nullable = true)\n",
      " |-- serial_number: string (nullable = true)\n",
      " |-- model: string (nullable = true)\n",
      " |-- failure: integer (nullable = true)\n",
      " |-- vault_id: integer (nullable = true)\n",
      " |-- s1_read_error_rate: integer (nullable = true)\n",
      " |-- s2_throughput_performance: integer (nullable = true)\n",
      " |-- s3_spin_up_time: integer (nullable = true)\n",
      " |-- s4_start_stop_count: integer (nullable = true)\n",
      " |-- s5_reallocated_sector_count: integer (nullable = true)\n",
      " |-- s7_seek_error_rate: long (nullable = true)\n",
      " |-- s8_seek_time_performance: integer (nullable = true)\n",
      " |-- s9_power_on_hours: integer (nullable = true)\n",
      " |-- s10_spin_retry_count: integer (nullable = true)\n",
      " |-- s12_power_cycle_count: integer (nullable = true)\n",
      " |-- s173_wear_leveling_count: long (nullable = true)\n",
      " |-- s174_unexpected_power_loss_count: integer (nullable = true)\n",
      " |-- s183_sata_downshift_count: integer (nullable = true)\n",
      " |-- s187_reported_uncorrectable_errors: integer (nullable = true)\n",
      " |-- s188_command_timeout: long (nullable = true)\n",
      " |-- s189_high_fly_writes: integer (nullable = true)\n",
      " |-- s190_airflow_temperature_cel: integer (nullable = true)\n",
      " |-- s191_g_sense_error_rate: integer (nullable = true)\n",
      " |-- s192_power_off_retract_count: integer (nullable = true)\n",
      " |-- s193_load_unload_cycle_count: integer (nullable = true)\n",
      " |-- s194_temperature_celsius: integer (nullable = true)\n",
      " |-- s195_hardware_ecc_recovered: integer (nullable = true)\n",
      " |-- s196_reallocated_event_count: integer (nullable = true)\n",
      " |-- s197_current_pending_sector: integer (nullable = true)\n",
      " |-- s198_offline_uncorrectable: integer (nullable = true)\n",
      " |-- s199_udma_crc_error_count: integer (nullable = true)\n",
      " |-- s200_multi_zone_error_rate: integer (nullable = true)\n",
      " |-- s220_disk_shift: integer (nullable = true)\n",
      " |-- s222_loaded_hours: integer (nullable = true)\n",
      " |-- s223_load_retry_count: integer (nullable = true)\n",
      " |-- s226_load_in_time: integer (nullable = true)\n",
      " |-- s240_head_flying_hours: integer (nullable = true)\n",
      " |-- s241_total_lbas_written: long (nullable = true)\n",
      " |-- s242_total_lbas_read: long (nullable = true)\n",
      "\n"
     ]
    }
   ],
   "source": [
    "# show the column names and types\n",
    "df.printSchema()\n"
   ]
  },
  {
   "cell_type": "code",
   "execution_count": 77,
   "metadata": {},
   "outputs": [],
   "source": [
    "# load cluster centers from csv\n",
    "cluster_centers = spark.read.csv(\"cluster_data_dir/clusters.csv\", header=True, inferSchema=True)"
   ]
  },
  {
   "cell_type": "code",
   "execution_count": 78,
   "metadata": {},
   "outputs": [
    {
     "name": "stdout",
     "output_type": "stream",
     "text": [
      "root\n",
      " |-- cluster: integer (nullable = true)\n",
      " |-- s1_read_error_rate: double (nullable = true)\n",
      " |-- s2_throughput_performance: double (nullable = true)\n",
      " |-- s3_spin_up_time: double (nullable = true)\n",
      " |-- s4_start_stop_count: double (nullable = true)\n",
      " |-- s5_reallocated_sector_count: double (nullable = true)\n",
      " |-- s7_seek_error_rate: double (nullable = true)\n",
      " |-- s8_seek_time_performance: double (nullable = true)\n",
      " |-- s9_power_on_hours: double (nullable = true)\n",
      " |-- s10_spin_retry_count: double (nullable = true)\n",
      " |-- s12_power_cycle_count: double (nullable = true)\n",
      " |-- s173_wear_leveling_count: double (nullable = true)\n",
      " |-- s174_unexpected_power_loss_count: double (nullable = true)\n",
      " |-- s183_sata_downshift_count: double (nullable = true)\n",
      " |-- s187_reported_uncorrectable_errors: double (nullable = true)\n",
      " |-- s188_command_timeout: double (nullable = true)\n",
      " |-- s189_high_fly_writes: double (nullable = true)\n",
      " |-- s190_airflow_temperature_cel: double (nullable = true)\n",
      " |-- s191_g_sense_error_rate: double (nullable = true)\n",
      " |-- s192_power_off_retract_count: double (nullable = true)\n",
      " |-- s193_load_unload_cycle_count: double (nullable = true)\n",
      " |-- s194_temperature_celsius: double (nullable = true)\n",
      " |-- s195_hardware_ecc_recovered: double (nullable = true)\n",
      " |-- s196_reallocated_event_count: double (nullable = true)\n",
      " |-- s197_current_pending_sector: double (nullable = true)\n",
      " |-- s198_offline_uncorrectable: double (nullable = true)\n",
      " |-- s199_udma_crc_error_count: double (nullable = true)\n",
      " |-- s200_multi_zone_error_rate: double (nullable = true)\n",
      " |-- s220_disk_shift: double (nullable = true)\n",
      " |-- s222_loaded_hours: double (nullable = true)\n",
      " |-- s223_load_retry_count: double (nullable = true)\n",
      " |-- s226_load_in_time: double (nullable = true)\n",
      " |-- s240_head_flying_hours: double (nullable = true)\n",
      " |-- s241_total_lbas_written: double (nullable = true)\n",
      " |-- s242_total_lbas_read: double (nullable = true)\n",
      " |-- _c35: string (nullable = true)\n",
      "\n"
     ]
    }
   ],
   "source": [
    "# show the column names and types\n",
    "cluster_centers.printSchema()"
   ]
  },
  {
   "cell_type": "code",
   "execution_count": 79,
   "metadata": {},
   "outputs": [],
   "source": [
    "# drop _c35: string (nullable = true) from cluster_centers\n",
    "cluster_centers = cluster_centers.drop(\"_c35\")"
   ]
  },
  {
   "cell_type": "markdown",
   "metadata": {},
   "source": [
    "_c35: string (nullable = true) is just an empty cell\n",
    "\n",
    "We use date and vault ID to cluster all features s1 through s242 and re-write the centers"
   ]
  },
  {
   "cell_type": "code",
   "execution_count": 80,
   "metadata": {},
   "outputs": [
    {
     "name": "stdout",
     "output_type": "stream",
     "text": [
      "True\n"
     ]
    }
   ],
   "source": [
    "\n",
    "schema = StructType([\n",
    "    StructField(\"date\", TimestampType(), True),\n",
    "    StructField(\"serial_number\", StringType(), True),\n",
    "    StructField(\"model\", StringType(), True),\n",
    "    StructField(\"failure\", IntegerType(), True),\n",
    "    StructField(\"vault_id\", IntegerType(), True),\n",
    "    StructField(\"s1_read_error_rate\", IntegerType(), True),\n",
    "    StructField(\"s2_throughput_performance\", IntegerType(), True),\n",
    "    StructField(\"s3_spin_up_time\", IntegerType(), True),\n",
    "    StructField(\"s4_start_stop_count\", IntegerType(), True),\n",
    "    StructField(\"s5_reallocated_sector_count\", IntegerType(), True),\n",
    "    StructField(\"s7_seek_error_rate\", IntegerType(), True),\n",
    "    StructField(\"s8_seek_time_performance\", IntegerType(), True),\n",
    "    StructField(\"s9_power_on_hours\", IntegerType(), True),\n",
    "    StructField(\"s10_spin_retry_count\", IntegerType(), True),\n",
    "    StructField(\"s12_power_cycle_count\", IntegerType(), True),\n",
    "    StructField(\"s173_wear_leveling_count\", IntegerType(), True),\n",
    "    StructField(\"s174_unexpected_power_loss_count\", IntegerType(), True),\n",
    "    StructField(\"s183_sata_downshift_count\", IntegerType(), True),\n",
    "    StructField(\"s187_reported_uncorrectable_errors\", IntegerType(), True),\n",
    "    StructField(\"s188_command_timeout\", IntegerType(), True),\n",
    "    StructField(\"s189_high_fly_writes\", IntegerType(), True),\n",
    "    StructField(\"s190_airflow_temperature_cel\", IntegerType(), True),\n",
    "    StructField(\"s191_g_sense_error_rate\", IntegerType(), True),\n",
    "    StructField(\"s192_power_off_retract_count\", IntegerType(), True),\n",
    "    StructField(\"s193_load_unload_cycle_count\", IntegerType(), True),\n",
    "    StructField(\"s194_temperature_celsius\", IntegerType(), True),\n",
    "    StructField(\"s195_hardware_ecc_recovered\", IntegerType(), True),\n",
    "    StructField(\"s196_reallocated_event_count\", IntegerType(), True),\n",
    "    StructField(\"s197_current_pending_sector\", IntegerType(), True),\n",
    "    StructField(\"s198_offline_uncorrectable\", IntegerType(), True),\n",
    "    StructField(\"s199_udma_crc_error_count\", IntegerType(), True),\n",
    "    StructField(\"s200_multi_zone_error_rate\", IntegerType(), True),\n",
    "    StructField(\"s220_disk_shift\", IntegerType(), True),\n",
    "    StructField(\"s222_loaded_hours\", IntegerType(), True),\n",
    "    StructField(\"s223_load_retry_count\", IntegerType(), True),\n",
    "    StructField(\"s226_load_in_time\", IntegerType(), True),\n",
    "    StructField(\"s240_head_flying_hours\", IntegerType(), True),\n",
    "    StructField(\"s241_total_lbas_written\", IntegerType(), True),\n",
    "    StructField(\"s242_total_lbas_read\", IntegerType(), True)\n",
    "])\n",
    "\n",
    "#read from csv file\n",
    "#drivedata = spark.readStream.csv(\"streaming_data_dir/drivedata-small.csv\", schema=schema, header=True)\n",
    "\n",
    "# Read the CSV files as a data stream\n",
    "streamingData = spark.readStream.schema(schema).option(\"maxFilesPerTrigger\", 1).csv(\"streaming_data_dir\")\n",
    "# print true if both are true\n",
    "print((streamingData.schema == schema)==( streamingData.isStreaming == True))"
   ]
  },
  {
   "cell_type": "markdown",
   "metadata": {},
   "source": [
    "# First Query\n",
    "\n",
    "- Size = 30 days\n",
    "- Slide = 1 day\n",
    "- For every vault $v$, count the number of failures $NF_v$ in a sliding window $W$\n",
    "- For a given day $i$, $NF_v^i$ is the count of failures in the window that starts at $i-31$ (included) and ends at $i-1$ (included)\n",
    "- The first window closes at day 0: you can assume 0 failures for every day $i <= 0$\n",
    "- Each batch of input data will contain the identifiers of 5 vaults: you are to return the current value of $NF_v$ for those vaults"
   ]
  },
  {
   "cell_type": "code",
   "execution_count": 15,
   "metadata": {},
   "outputs": [
    {
     "name": "stderr",
     "output_type": "stream",
     "text": [
      "24/01/26 16:06:10 WARN ResolveWriteToStream: Temporary checkpoint location created which is deleted normally when the query didn't fail: /private/var/folders/p0/qbnst5tj08g1z35zyllsm5vc0000gn/T/temporary-8e16d53e-195d-44ee-86c4-c9b438f75afc. If it's required to delete it under any circumstances, please set spark.sql.streaming.forceDeleteTempCheckpointLocation to true. Important to know deleting temp checkpoint folder is best effort.\n",
      "24/01/26 16:06:10 WARN ResolveWriteToStream: spark.sql.adaptive.enabled is not supported in streaming DataFrames/Datasets and will be disabled.\n"
     ]
    },
    {
     "name": "stderr",
     "output_type": "stream",
     "text": [
      "[Stage 6:==============>                                            (1 + 3) / 4]\r"
     ]
    }
   ],
   "source": [
    "\n",
    "# Apply a window function to the streaming data\n",
    "windowedData = streamingData \\\n",
    "    .withWatermark(\"date\", \"31 days\") \\\n",
    "    .groupBy(\n",
    "        streamingData.vault_id,\n",
    "        window(streamingData.date, \"30 days\", \"1 day\"),\n",
    "        streamingData.model\n",
    "    ) \\\n",
    "    .agg(_sum(\"failure\").alias(\"total_failures\"))\n",
    "\n",
    "# Select only the date and vault_id fields\n",
    "selectedData = windowedData.select(\"window.start\", \"vault_id\", \"total_failures\")\n",
    "filteredData = selectedData.filter(selectedData.total_failures > 0)\n",
    "\n",
    "# Write the windowed data stream out to a memory sink for testing\n",
    "query = filteredData \\\n",
    "    .writeStream \\\n",
    "    .outputMode(\"complete\") \\\n",
    "    .format(\"console\") \\\n",
    "    .queryName(\"filteredData\") \\\n",
    "    .option(\"numRows\", 50) \\\n",
    "    .option(\"truncate\", \"false\") \\\n",
    "    .start()\n",
    "\n"
   ]
  },
  {
   "cell_type": "code",
   "execution_count": null,
   "metadata": {},
   "outputs": [],
   "source": [
    "query.awaitTermination()"
   ]
  },
  {
   "cell_type": "code",
   "execution_count": 69,
   "metadata": {},
   "outputs": [],
   "source": [
    "query.stop()"
   ]
  },
  {
   "cell_type": "markdown",
   "metadata": {},
   "source": [
    "# Second query"
   ]
  },
  {
   "cell_type": "markdown",
   "metadata": {},
   "source": [
    "- For each reading at day $i$ regarding a drive $d$ belonging to vault $v$, add $NF_v^i$ to the reading\n",
    "- Rescale the smart values within the provided ranges\n",
    "- Compute dynamic K-means clustering:\n",
    "    - Assign incoming readings to the nearest centroid\n",
    "    - At the end of one day, which is marked by a ```day_end``` flag in the batch, update the centroids positions with the average coordinates of all the readings currently associated to that centroid\n",
    "    - The initial coordinates of centroids are provided \n",
    "    - Each batch of input data will contain a list of cluster identifiers ($0 - 49$) \n",
    "    - Return the number of drives associated to each of those clusters"
   ]
  },
  {
   "cell_type": "markdown",
   "metadata": {},
   "source": [
    "## Our preliminary approach\n",
    "- Use data stream from folder with CSV file\n",
    "- Batch by day, because there are no day_end flags\n",
    "- Normalize the data within the given ranges\n",
    "- Start KMeans Model initialized by CSV centers\n",
    "- Return the assigned labels for the batched data (```model.predictOn(dstream)```)\n",
    "- Count the drives (entries) by label ($0-49$)\n",
    "- Return new centers after end of day (```model.trainOn(dstream)```) and (```model.latestModel.clusterCenters```)"
   ]
  },
  {
   "cell_type": "markdown",
   "metadata": {},
   "source": [
    "we use min max scaling:\n",
    "$$\n",
    "x_{\\text {scaled }}=\\frac{x-x_{\\min }}{x_{\\max }-x_{\\min }}\n",
    "$$\n",
    "and scale it to the desired range"
   ]
  },
  {
   "cell_type": "code",
   "execution_count": 3,
   "metadata": {},
   "outputs": [
    {
     "name": "stdout",
     "output_type": "stream",
     "text": [
      "True\n"
     ]
    }
   ],
   "source": [
    "# Import necessary libraries\n",
    "from pyspark.sql import SparkSession\n",
    "from pyspark.sql.types import StructType, StructField, StringType, IntegerType, TimestampType\n",
    "#from pyspark.sql.functions import *\n",
    "from pyspark.sql.functions import window, col, sum as _sum\n",
    "\n",
    "from pyspark.mllib.linalg import Vectors\n",
    "from pyspark.mllib.clustering import StreamingKMeans\n",
    "\n",
    "schema = StructType([\n",
    "    StructField(\"date\", TimestampType(), True),\n",
    "    StructField(\"serial_number\", StringType(), True),\n",
    "    StructField(\"model\", StringType(), True),\n",
    "    StructField(\"failure\", IntegerType(), True),\n",
    "    StructField(\"vault_id\", IntegerType(), True),\n",
    "    StructField(\"s1_read_error_rate\", IntegerType(), True),\n",
    "    StructField(\"s2_throughput_performance\", IntegerType(), True),\n",
    "    StructField(\"s3_spin_up_time\", IntegerType(), True),\n",
    "    StructField(\"s4_start_stop_count\", IntegerType(), True),\n",
    "    StructField(\"s5_reallocated_sector_count\", IntegerType(), True),\n",
    "    StructField(\"s7_seek_error_rate\", IntegerType(), True),\n",
    "    StructField(\"s8_seek_time_performance\", IntegerType(), True),\n",
    "    StructField(\"s9_power_on_hours\", IntegerType(), True),\n",
    "    StructField(\"s10_spin_retry_count\", IntegerType(), True),\n",
    "    StructField(\"s12_power_cycle_count\", IntegerType(), True),\n",
    "    StructField(\"s173_wear_leveling_count\", IntegerType(), True),\n",
    "    StructField(\"s174_unexpected_power_loss_count\", IntegerType(), True),\n",
    "    StructField(\"s183_sata_downshift_count\", IntegerType(), True),\n",
    "    StructField(\"s187_reported_uncorrectable_errors\", IntegerType(), True),\n",
    "    StructField(\"s188_command_timeout\", IntegerType(), True),\n",
    "    StructField(\"s189_high_fly_writes\", IntegerType(), True),\n",
    "    StructField(\"s190_airflow_temperature_cel\", IntegerType(), True),\n",
    "    StructField(\"s191_g_sense_error_rate\", IntegerType(), True),\n",
    "    StructField(\"s192_power_off_retract_count\", IntegerType(), True),\n",
    "    StructField(\"s193_load_unload_cycle_count\", IntegerType(), True),\n",
    "    StructField(\"s194_temperature_celsius\", IntegerType(), True),\n",
    "    StructField(\"s195_hardware_ecc_recovered\", IntegerType(), True),\n",
    "    StructField(\"s196_reallocated_event_count\", IntegerType(), True),\n",
    "    StructField(\"s197_current_pending_sector\", IntegerType(), True),\n",
    "    StructField(\"s198_offline_uncorrectable\", IntegerType(), True),\n",
    "    StructField(\"s199_udma_crc_error_count\", IntegerType(), True),\n",
    "    StructField(\"s200_multi_zone_error_rate\", IntegerType(), True),\n",
    "    StructField(\"s220_disk_shift\", IntegerType(), True),\n",
    "    StructField(\"s222_loaded_hours\", IntegerType(), True),\n",
    "    StructField(\"s223_load_retry_count\", IntegerType(), True),\n",
    "    StructField(\"s226_load_in_time\", IntegerType(), True),\n",
    "    StructField(\"s240_head_flying_hours\", IntegerType(), True),\n",
    "    StructField(\"s241_total_lbas_written\", IntegerType(), True),\n",
    "    StructField(\"s242_total_lbas_read\", IntegerType(), True)\n",
    "])\n",
    "\n",
    "#read from csv file\n",
    "#drivedata = spark.readStream.csv(\"streaming_data_dir/drivedata-small.csv\", schema=schema, header=True)\n",
    "spark = SparkSession.builder.appName(\"StreamingFromCSV\").getOrCreate()\n",
    "\n",
    "# Read the CSV files as a data stream\n",
    "streamingData = spark.readStream.schema(schema).option(\"maxFilesPerTrigger\", 1).csv(\"streaming_data_dir\")\n",
    "# print true if both are true\n",
    "print((streamingData.schema == schema)==( streamingData.isStreaming == True))\n"
   ]
  },
  {
   "cell_type": "code",
   "execution_count": 51,
   "metadata": {},
   "outputs": [],
   "source": [
    "# Load initial center points from a CSV file\n",
    "centers_df = spark.read.csv(\"cluster_data_dir/clusters.csv\", header=True, inferSchema=True)\n",
    "\n",
    "# drop _c35: string (nullable = true) from cluster_centers\n",
    "centers_df = centers_df.drop(\"_c35\")\n",
    "centers_df = centers_df.drop(\"cluster\")\n",
    "# Convert the DataFrame to a list of DenseVector\n",
    "centers = [Vectors.dense(row) for row in centers_df.collect()]\n",
    "\n",
    "# we load the norm data from csv\n",
    "norm_data = spark.read.csv(\"cluster_data_dir/norm.csv\", header=True, inferSchema=True)\n",
    "\n",
    "# Define the model\n",
    "#model = StreamingKMeans(k=len(centers), decayFactor=1.0)"
   ]
  },
  {
   "cell_type": "code",
   "execution_count": null,
   "metadata": {},
   "outputs": [],
   "source": []
  },
  {
   "cell_type": "code",
   "execution_count": 5,
   "metadata": {},
   "outputs": [],
   "source": [
    "# create list of weights for each center point\n",
    "#weights = [1.0 for center in centers]\n",
    "\n",
    "#model.setInitialCenters(centers, weights)\n"
   ]
  },
  {
   "cell_type": "code",
   "execution_count": 48,
   "metadata": {},
   "outputs": [
    {
     "name": "stderr",
     "output_type": "stream",
     "text": [
      "24/01/30 16:57:40 WARN ResolveWriteToStream: Temporary checkpoint location created which is deleted normally when the query didn't fail: /private/var/folders/p0/qbnst5tj08g1z35zyllsm5vc0000gn/T/temporary-2e0abe71-57da-44f0-9db4-230a8f982775. If it's required to delete it under any circumstances, please set spark.sql.streaming.forceDeleteTempCheckpointLocation to true. Important to know deleting temp checkpoint folder is best effort.\n",
      "24/01/30 16:57:40 WARN ResolveWriteToStream: spark.sql.adaptive.enabled is not supported in streaming DataFrames/Datasets and will be disabled.\n",
      "                                                                                \r"
     ]
    },
    {
     "name": "stdout",
     "output_type": "stream",
     "text": [
      "-------------------------------------------\n",
      "Batch: 0\n",
      "-------------------------------------------\n",
      "+-------------------+--------------+--------------------+-------+--------+------------------+-------------------------+---------------+-------------------+---------------------------+------------------+------------------------+-----------------+--------------------+---------------------+------------------------+--------------------------------+-------------------------+----------------------------------+--------------------+--------------------+----------------------------+-----------------------+----------------------------+----------------------------+------------------------+---------------------------+----------------------------+---------------------------+--------------------------+-------------------------+--------------------------+---------------+-----------------+---------------------+-----------------+----------------------+-----------------------+--------------------+-----------------------------+------------------------------------+--------------------------+------------------------------+--------------------------------------+-----------------------------+-----------------------------------+----------------------------+-------------------------------+--------------------------------+-----------------------------------+-------------------------------------------+------------------------------------+---------------------------------------------+-------------------------------+-------------------------------+---------------------------------------+----------------------------------+---------------------------------------+---------------------------------------+-----------------------------------+--------------------------------------+---------------------------------------+--------------------------------------+-------------------------------------+------------------------------------+-------------------------------------+--------------------------+----------------------------+--------------------------------+----------------------------+---------------------------------+----------------------------------+-------------------------------+\n",
      "|               date| serial_number|               model|failure|vault_id|s1_read_error_rate|s2_throughput_performance|s3_spin_up_time|s4_start_stop_count|s5_reallocated_sector_count|s7_seek_error_rate|s8_seek_time_performance|s9_power_on_hours|s10_spin_retry_count|s12_power_cycle_count|s173_wear_leveling_count|s174_unexpected_power_loss_count|s183_sata_downshift_count|s187_reported_uncorrectable_errors|s188_command_timeout|s189_high_fly_writes|s190_airflow_temperature_cel|s191_g_sense_error_rate|s192_power_off_retract_count|s193_load_unload_cycle_count|s194_temperature_celsius|s195_hardware_ecc_recovered|s196_reallocated_event_count|s197_current_pending_sector|s198_offline_uncorrectable|s199_udma_crc_error_count|s200_multi_zone_error_rate|s220_disk_shift|s222_loaded_hours|s223_load_retry_count|s226_load_in_time|s240_head_flying_hours|s241_total_lbas_written|s242_total_lbas_read|s1_read_error_rate_normalized|s2_throughput_performance_normalized|s3_spin_up_time_normalized|s4_start_stop_count_normalized|s5_reallocated_sector_count_normalized|s7_seek_error_rate_normalized|s8_seek_time_performance_normalized|s9_power_on_hours_normalized|s10_spin_retry_count_normalized|s12_power_cycle_count_normalized|s173_wear_leveling_count_normalized|s174_unexpected_power_loss_count_normalized|s183_sata_downshift_count_normalized|s187_reported_uncorrectable_errors_normalized|s188_command_timeout_normalized|s189_high_fly_writes_normalized|s190_airflow_temperature_cel_normalized|s191_g_sense_error_rate_normalized|s192_power_off_retract_count_normalized|s193_load_unload_cycle_count_normalized|s194_temperature_celsius_normalized|s195_hardware_ecc_recovered_normalized|s196_reallocated_event_count_normalized|s197_current_pending_sector_normalized|s198_offline_uncorrectable_normalized|s199_udma_crc_error_count_normalized|s200_multi_zone_error_rate_normalized|s220_disk_shift_normalized|s222_loaded_hours_normalized|s223_load_retry_count_normalized|s226_load_in_time_normalized|s240_head_flying_hours_normalized|s241_total_lbas_written_normalized|s242_total_lbas_read_normalized|\n",
      "+-------------------+--------------+--------------------+-------+--------+------------------+-------------------------+---------------+-------------------+---------------------------+------------------+------------------------+-----------------+--------------------+---------------------+------------------------+--------------------------------+-------------------------+----------------------------------+--------------------+--------------------+----------------------------+-----------------------+----------------------------+----------------------------+------------------------+---------------------------+----------------------------+---------------------------+--------------------------+-------------------------+--------------------------+---------------+-----------------+---------------------+-----------------+----------------------+-----------------------+--------------------+-----------------------------+------------------------------------+--------------------------+------------------------------+--------------------------------------+-----------------------------+-----------------------------------+----------------------------+-------------------------------+--------------------------------+-----------------------------------+-------------------------------------------+------------------------------------+---------------------------------------------+-------------------------------+-------------------------------+---------------------------------------+----------------------------------+---------------------------------------+---------------------------------------+-----------------------------------+--------------------------------------+---------------------------------------+--------------------------------------+-------------------------------------+------------------------------------+-------------------------------------+--------------------------+----------------------------+--------------------------------+----------------------------+---------------------------------+----------------------------------+-------------------------------+\n",
      "|               NULL| serial_number|               model|   NULL|    NULL|              NULL|                     NULL|           NULL|               NULL|                       NULL|              NULL|                    NULL|             NULL|                NULL|                 NULL|                    NULL|                            NULL|                     NULL|                              NULL|                NULL|                NULL|                        NULL|                   NULL|                        NULL|                        NULL|                    NULL|                       NULL|                        NULL|                       NULL|                      NULL|                     NULL|                      NULL|           NULL|             NULL|                 NULL|             NULL|                  NULL|                   NULL|                NULL|                         NULL|                                NULL|                      NULL|                          NULL|                                  NULL|                         NULL|                               NULL|                        NULL|                           NULL|                            NULL|                               NULL|                                       NULL|                                NULL|                                         NULL|                           NULL|                           NULL|                                   NULL|                              NULL|                                   NULL|                                   NULL|                               NULL|                                  NULL|                                   NULL|                                  NULL|                                 NULL|                                NULL|                                 NULL|                      NULL|                        NULL|                            NULL|                        NULL|                             NULL|                              NULL|                           NULL|\n",
      "|2023-04-01 00:00:00|PL2331LAGUJ28J|HGST HMS5C4040ALE640|      0|    1000|                 0|                      103|            566|                 37|                          0|                 0|                      42|            61361|                   0|                   34|                    NULL|                            NULL|                     NULL|                              NULL|                NULL|                NULL|                        NULL|                   NULL|                         519|                         519|                      22|                       NULL|                           0|                          0|                         0|                        0|                      NULL|           NULL|             NULL|                 NULL|             NULL|                  NULL|                   NULL|                NULL|                          0.0|                  0.7862595419847328|       0.05266096017863789|          0.009610250934329953|                                   0.0|                          0.0|                 0.9333333333333333|          0.7733988905698437|                            0.0|            0.048316251830161056|                               NULL|                                       NULL|                                NULL|                                         NULL|                           NULL|                           NULL|                                   NULL|                              NULL|                    0.03637000700770848|                   0.001057557246921...|                                0.2|                                  NULL|                                    0.0|                                   0.0|                                  0.0|                                 0.0|                                 NULL|                      NULL|                        NULL|                            NULL|                        NULL|                             NULL|                              NULL|                           NULL|\n",
      "|2023-04-01 00:00:00|PL2331LAGM89GJ|HGST HMS5C4040BLE640|      0|    1000|                 0|                      100|            545|                 21|                          0|                 0|                      42|            77180|                   0|                   21|                    NULL|                            NULL|                     NULL|                              NULL|                NULL|                NULL|                        NULL|                   NULL|                        1114|                        1114|                      23|                       NULL|                           0|                          0|                         0|                        3|                      NULL|           NULL|             NULL|                 NULL|             NULL|                  NULL|                   NULL|                NULL|                          0.0|                  0.7633587786259542|      0.050707108299218456|          0.005339028296849973|                                   0.0|                          0.0|                 0.9333333333333333|          0.9728315683308119|                            0.0|            0.029282576866764276|                               NULL|                                       NULL|                                NULL|                                         NULL|                           NULL|                           NULL|                                   NULL|                              NULL|                    0.07806587245970567|                   0.002272318949465913|                              0.225|                                  NULL|                                    0.0|                                   0.0|                                  0.0|                 5.81170089112747E-4|                                 NULL|                      NULL|                        NULL|                            NULL|                        NULL|                             NULL|                              NULL|                           NULL|\n",
      "|2023-04-01 00:00:00|PL2331LAGNZH9J|HGST HMS5C4040ALE640|      0|    1000|                 0|                      102|            550|                 13|                          0|                 0|                      42|            77184|                   0|                   13|                    NULL|                            NULL|                     NULL|                              NULL|                NULL|                NULL|                        NULL|                   NULL|                        1351|                        1351|                      20|                       NULL|                           0|                          0|                         0|                       13|                      NULL|           NULL|             NULL|                 NULL|             NULL|                  NULL|                   NULL|                NULL|                          0.0|                  0.7786259541984732|       0.05117231112765166|          0.003203416978109984|                                   0.0|                          0.0|                 0.9333333333333333|          0.9728819969742813|                            0.0|            0.017569546120058566|                               NULL|                                       NULL|                                NULL|                                         NULL|                           NULL|                           NULL|                                   NULL|                              NULL|                    0.09467414155571129|                   0.002756182014176...|                               0.15|                                  NULL|                                    0.0|                                   0.0|                                  0.0|                0.002518403719488...|                                 NULL|                      NULL|                        NULL|                            NULL|                        NULL|                             NULL|                              NULL|                           NULL|\n",
      "|2023-04-01 00:00:00|PL1331LAGSRA3H|HGST HMS5C4040ALE640|      0|    1000|                 0|                      100|            530|                 18|                          0|                 0|                      42|            46881|                   0|                   18|                    NULL|                            NULL|                     NULL|                              NULL|                NULL|                NULL|                        NULL|                   NULL|                         607|                         607|                      20|                       NULL|                           0|                          0|                         0|                        0|                      NULL|           NULL|             NULL|                 NULL|             NULL|                  NULL|                   NULL|                NULL|                          0.0|                  0.7633587786259542|       0.04931149981391887|          0.004538174052322477|                                   0.0|                          0.0|                 0.9333333333333333|          0.5908472012102874|                            0.0|            0.024890190336749635|                               NULL|                                       NULL|                                NULL|                                         NULL|                           NULL|                           NULL|                                   NULL|                              NULL|                   0.042536790469516465|                   0.001237219481919446|                               0.15|                                  NULL|                                    0.0|                                   0.0|                                  0.0|                                 0.0|                                 NULL|                      NULL|                        NULL|                            NULL|                        NULL|                             NULL|                              NULL|                           NULL|\n",
      "|2023-04-01 00:00:00|      W300R7M8|         ST4000DM000|      0|    1000|         131792128|                     NULL|              0|                 18|                          0|         121283338|                    NULL|            69099|                   0|                    8|                    NULL|                            NULL|                        0|                                 0|                   0|                   0|                          18|                      0|                           2|                        9315|                      18|                       NULL|                        NULL|                          0|                         0|                        0|                      NULL|           NULL|             NULL|                 NULL|             NULL|                 69070|                   NULL|                NULL|           0.5399219876739673|                                NULL|                       0.0|          0.004538174052322477|                                   0.0|         1.972331816656039...|                               NULL|          0.8709531013615733|                            0.0|            0.010248901903367497|                               NULL|                                       NULL|                                 0.0|                                          0.0|                            0.0|                            0.0|                    0.07692307692307693|                               0.0|                   1.401541695865452E-4|                    0.01901561428151439|                                0.1|                                  NULL|                                   NULL|                                   0.0|                                  0.0|                                 0.0|                                 NULL|                      NULL|                        NULL|                            NULL|                        NULL|               0.9162300192345958|                              NULL|                           NULL|\n",
      "|2023-04-01 00:00:00|      W300SS9X|         ST4000DM000|      0|    1000|         107377504|                     NULL|              0|                 18|                          0|         288561136|                    NULL|            69101|                   0|                    8|                    NULL|                            NULL|                        0|                                 0|                   0|                   0|                          20|                      0|                           0|                       13638|                      20|                       NULL|                        NULL|                          0|                         0|                        0|                      NULL|           NULL|             NULL|                 NULL|             NULL|                 69053|                   NULL|                NULL|           0.4399008975039038|                                NULL|                       0.0|          0.004538174052322477|                                   0.0|         4.692633950948897...|                               NULL|          0.8709783156833081|                            0.0|            0.010248901903367497|                               NULL|                                       NULL|                                 0.0|                                          0.0|                            0.0|                            0.0|                     0.1282051282051282|                               0.0|                                    0.0|                    0.02784152157580113|                               0.15|                                  NULL|                                   NULL|                                   0.0|                                  0.0|                                 0.0|                                 NULL|                      NULL|                        NULL|                            NULL|                        NULL|               0.9160045101810705|                              NULL|                           NULL|\n",
      "|2023-04-01 00:00:00|      Z3029G5N|         ST4000DM000|      0|    1001|          89998792|                     NULL|              0|                 16|                          0|         247316132|                    NULL|            71401|                   0|                   16|                    NULL|                            NULL|                        0|                                 0|                   0|                   0|                          19|                      0|                           0|                       57733|                      19|                       NULL|                        NULL|                          0|                         0|                        0|                      NULL|           NULL|             NULL|                 NULL|             NULL|                 71188|                   NULL|                NULL|           0.3687043179460305|                                NULL|                       0.0|           0.00400427122263748|                                   0.0|         4.021900155121925E-4|                               NULL|          0.8999747856782653|                            0.0|            0.021961932650073207|                               NULL|                                       NULL|                                 0.0|                                          0.0|                            0.0|                            0.0|                    0.10256410256410256|                               0.0|                                    0.0|                    0.11786659262404861|                              0.125|                                  NULL|                                   NULL|                                   0.0|                                  0.0|                                 0.0|                                 NULL|                      NULL|                        NULL|                            NULL|                        NULL|               0.9443257942561517|                              NULL|                           NULL|\n",
      "|2023-04-01 00:00:00|      Z302AKT8|         ST4000DM000|      0|    1001|          10373528|                     NULL|              0|                 17|                          0|         301868195|                    NULL|            71373|                   0|                   17|                    NULL|                            NULL|                       12|                                 0|                   0|                   0|                          19|                      0|                           0|                       55119|                      19|                       NULL|                        NULL|                          0|                         0|                        0|                      NULL|           NULL|             NULL|                 NULL|             NULL|                 71183|                   NULL|                NULL|          0.04249795448292294|                                NULL|                       0.0|          0.004271222637479978|                                   0.0|          4.90903577732194E-4|                               NULL|          0.8996217851739788|                            0.0|             0.02342606149341142|                               NULL|                                       NULL|                0.010443864229765013|                                          0.0|                            0.0|                            0.0|                    0.10256410256410256|                               0.0|                                    0.0|                    0.11252980759807925|                              0.125|                                  NULL|                                   NULL|                                   0.0|                                  0.0|                                 0.0|                                 NULL|                      NULL|                        NULL|                            NULL|                        NULL|               0.9442594680639385|                              NULL|                           NULL|\n",
      "|2023-04-01 00:00:00|      Z302EL5T|         ST4000DM000|      0|    1001|          66114352|                     NULL|              0|                 28|                          0|         367603914|                    NULL|            71387|                   0|                   28|                    NULL|                            NULL|                        2|                                 0|                   0|                   0|                          15|                      0|                           5|                       56047|                      15|                       NULL|                        NULL|                          0|                         0|                        0|                      NULL|           NULL|             NULL|                 NULL|             NULL|                 71199|                   NULL|                NULL|           0.2708552694863257|                                NULL|                       0.0|          0.007207688200747464|                                   0.0|          5.97804205808955E-4|                               NULL|          0.8997982854261221|                            0.0|             0.03953147877013177|                               NULL|                                       NULL|                0.001740644038294...|                                          0.0|                            0.0|                            0.0|                                    0.0|                               0.0|                    3.50385423966363E-4|                    0.11442442753078758|                              0.025|                                  NULL|                                   NULL|                                   0.0|                                  0.0|                                 0.0|                                 NULL|                      NULL|                        NULL|                            NULL|                        NULL|                0.944471711879021|                              NULL|                           NULL|\n",
      "|2023-04-01 00:00:00|      Z302ET0P|         ST4000DM000|      0|    1001|         237150872|                     NULL|              0|                 13|                          0|         361097389|                    NULL|            71396|                   0|                   13|                    NULL|                            NULL|                        3|                                 0|                   0|                   0|                          18|                      0|                           0|                       54135|                      18|                       NULL|                        NULL|                          0|                         0|                        0|                      NULL|           NULL|             NULL|                 NULL|             NULL|                 71203|                   NULL|                NULL|            0.971552490516388|                                NULL|                       0.0|          0.003203416978109984|                                   0.0|           5.8722317589587E-4|                               NULL|          0.8999117498739284|                            0.0|            0.017569546120058566|                               NULL|                                       NULL|                0.002610966057441...|                                          0.0|                            0.0|                            0.0|                    0.07692307692307693|                               0.0|                                    0.0|                    0.11052085715219025|                                0.1|                                  NULL|                                   NULL|                                   0.0|                                  0.0|                                 0.0|                                 NULL|                      NULL|                        NULL|                            NULL|                        NULL|               0.9445247728327917|                              NULL|                           NULL|\n",
      "|2023-04-01 00:00:00|      Z302F44S|         ST4000DM000|      0|    1001|         136273704|                     NULL|              0|                 13|                          0|         897969227|                    NULL|            71406|                   0|                   13|                    NULL|                            NULL|                        1|                                 0|                   0|                   0|                          18|                      0|                           0|                       56859|                      18|                       NULL|                        NULL|                          0|                         0|                        0|                      NULL|           NULL|             NULL|                 NULL|             NULL|                 71204|                   NULL|                NULL|            0.558281972132462|                                NULL|                       0.0|          0.003203416978109984|                                   0.0|         0.001460293974420567|                               NULL|          0.9000378214826021|                            0.0|            0.017569546120058566|                               NULL|                                       NULL|                8.703220191470844E-4|                                          0.0|                            0.0|                            0.0|                    0.07692307692307693|                               0.0|                                    0.0|                    0.11608221997190736|                                0.1|                                  NULL|                                   NULL|                                   0.0|                                  0.0|                                 0.0|                                 NULL|                      NULL|                        NULL|                            NULL|                        NULL|               0.9445380380712344|                              NULL|                           NULL|\n",
      "|2023-04-01 00:00:00|      Z4D0ALAM|         ST6000DX000|      0|    1002|          59895120|                     NULL|              0|                  9|                          0|              NULL|                    NULL|            70152|                   0|                    8|                    NULL|                            NULL|                        0|                                 0|                   0|                   0|                          19|                  68382|                           0|                       94939|                      19|                   59895120|                        NULL|                          0|                         0|                        0|                      NULL|           NULL|             NULL|                 NULL|             NULL|                 69724|                   NULL|                NULL|           0.2453765086968684|                                NULL|                       0.0|          0.002135611318739989|                                   0.0|                         NULL|                               NULL|          0.8842284417549168|                            0.0|            0.010248901903367497|                               NULL|                                       NULL|                                 0.0|                                          0.0|                            0.0|                            0.0|                    0.10256410256410256|              0.004631466473918048|                                    0.0|                    0.19382696893476628|                              0.125|                   0.24535421827513024|                                   NULL|                                   0.0|                                  0.0|                                 0.0|                                 NULL|                      NULL|                        NULL|                            NULL|                        NULL|                0.924905485176096|                              NULL|                           NULL|\n",
      "|2023-04-01 00:00:00|      Z4D0ACLA|         ST6000DX000|      0|    1002|         186204632|                     NULL|              0|                 14|                          0|              NULL|                    NULL|            70156|                   0|                   14|                    NULL|                            NULL|                        0|                                 0|                   0|                   0|                          28|                  21868|                           0|                      101065|                      28|                  186204632|                        NULL|                          0|                         0|                        0|                      NULL|           NULL|             NULL|                 NULL|             NULL|                 69656|                   NULL|                NULL|           0.7628374816403269|                                NULL|                       0.0|          0.003470368392952...|                                   0.0|                         NULL|                               NULL|          0.8842788703983863|                            0.0|             0.01903367496339678|                               NULL|                                       NULL|                                 0.0|                                          0.0|                            0.0|                            0.0|                     0.3333333333333333|              0.001481104806113...|                                    0.0|                    0.20633391043020938|                               0.35|                    0.7627681841787495|                                   NULL|                                   0.0|                                  0.0|                                 0.0|                                 NULL|                      NULL|                        NULL|                            NULL|                        NULL|                0.924003448961995|                              NULL|                           NULL|\n",
      "|2023-04-01 00:00:00|      S3011FG7|         ST4000DM000|      0|    1003|         219826760|                     NULL|              0|                 12|                          0|         291680982|                    NULL|            69712|                   0|                   12|                    NULL|                            NULL|                        0|                                 0|                   0|                   0|                          16|                      0|                           2|                       37057|                      16|                       NULL|                        NULL|                          0|                         0|                        0|                      NULL|           NULL|             NULL|                 NULL|             NULL|                 69531|                   NULL|                NULL|           0.9005795945803998|                                NULL|                       0.0|          0.002936465563267...|                                   0.0|         4.743369456998929E-4|                               NULL|          0.8786812909732729|                            0.0|            0.016105417276720352|                               NULL|                                       NULL|                                 0.0|                                          0.0|                            0.0|                            0.0|                    0.02564102564102564|                               0.0|                   1.401541695865452E-4|                      0.075654133864698|                               0.05|                                  NULL|                                   NULL|                                   0.0|                                  0.0|                                 0.0|                                 NULL|                      NULL|                        NULL|                            NULL|                        NULL|               0.9223452941566624|                              NULL|                           NULL|\n",
      "|2023-04-01 00:00:00|      S30112Q2|         ST4000DM000|      0|    1003|         112220696|                     NULL|              0|                 13|                          0|         452653978|                    NULL|            69712|                   0|                   13|                    NULL|                            NULL|                        1|                                 0|                   0|                   0|                          17|                      0|                           1|                       34808|                      17|                       NULL|                        NULL|                          0|                         0|                        0|                      NULL|           NULL|             NULL|                 NULL|             NULL|                 69537|                   NULL|                NULL|          0.45974233940949816|                                NULL|                       0.0|          0.003203416978109984|                                   0.0|         7.361141748467733E-4|                               NULL|          0.8786812909732729|                            0.0|            0.017569546120058566|                               NULL|                                       NULL|                8.703220191470844E-4|                                          0.0|                            0.0|                            0.0|                    0.05128205128205128|                               0.0|                    7.00770847932726E-5|                    0.07106253879070983|                              0.075|                                  NULL|                                   NULL|                                   0.0|                                  0.0|                                 0.0|                                 NULL|                      NULL|                        NULL|                            NULL|                        NULL|               0.9224248855873184|                              NULL|                           NULL|\n",
      "|2023-04-01 00:00:00|      Z3029A89|         ST4000DM000|      0|    1003|         228640616|                     NULL|              0|                 15|                          0|         342262066|                    NULL|            69716|                   0|                   15|                    NULL|                            NULL|                        0|                                 0|                   0|                   0|                          18|                      0|                           0|                       32276|                      18|                       NULL|                        NULL|                          0|                         0|                        0|                      NULL|           NULL|             NULL|                 NULL|             NULL|                 69548|                   NULL|                NULL|           0.9366879321784704|                                NULL|                       0.0|          0.003737319807794...|                                   0.0|         5.565928292691197E-4|                               NULL|          0.8787317196167423|                            0.0|            0.020497803806734993|                               NULL|                                       NULL|                                 0.0|                                          0.0|                            0.0|                            0.0|                    0.07692307692307693|                               0.0|                                    0.0|                    0.06589316630189788|                                0.1|                                  NULL|                                   NULL|                                   0.0|                                  0.0|                                 0.0|                                 NULL|                      NULL|                        NULL|                            NULL|                        NULL|               0.9225708032101877|                              NULL|                           NULL|\n",
      "|2023-04-01 00:00:00|      S300Z71B|         ST4000DM000|      0|    1004|         135014256|                     NULL|              0|                  6|                          0|         274838393|                    NULL|            69054|                   0|                    6|                    NULL|                            NULL|                        0|                                 0|                   0|                   0|                          17|                      0|                           1|                       35759|                      17|                       NULL|                        NULL|                          0|                         0|                        0|                      NULL|           NULL|             NULL|                 NULL|             NULL|                 68909|                   NULL|                NULL|           0.5531223038134863|                                NULL|                       0.0|          0.001334757074212...|                                   0.0|         4.469472195368802...|                               NULL|          0.8703857791225416|                            0.0|            0.007320644216691069|                               NULL|                                       NULL|                                 0.0|                                          0.0|                            0.0|                            0.0|                    0.05128205128205128|                               0.0|                    7.00770847932726E-5|                     0.0730041158984745|                              0.075|                                  NULL|                                   NULL|                                   0.0|                                  0.0|                                 0.0|                                 NULL|                      NULL|                        NULL|                            NULL|                        NULL|               0.9140943158453273|                              NULL|                           NULL|\n",
      "|2023-04-01 00:00:00|S2ZYJ9AFA09511|       ST500LM012 HN|      0|    1004|                13|                        0|           1842|                 19|                          0|                 0|                       0|            39036|                   0|                   21|                    NULL|                            NULL|                     NULL|                              NULL|                NULL|                NULL|                        NULL|                      9|                           2|                        NULL|                      21|                          0|                           0|                          0|                         0|                        0|                     83544|           NULL|             NULL|                 1517|             NULL|                  NULL|                   NULL|                NULL|         5.325800521076323E-8|                                 0.0|       0.17138072199478974|          0.004805125467164976|                                   0.0|                          0.0|                                0.0|         0.49194402420574884|                            0.0|            0.029282576866764276|                               NULL|                                       NULL|                                NULL|                                         NULL|                           NULL|                           NULL|                                   NULL|              6.095638949615752E-7|                   1.401541695865452E-4|                                   NULL|                              0.175|                                   0.0|                                    0.0|                                   0.0|                                  0.0|                                 0.0|                  0.05034827477728856|                      NULL|                        NULL|             0.02314722980911546|                        NULL|                             NULL|                              NULL|                           NULL|\n",
      "|2023-04-01 00:00:00|      Z3029BAN|         ST4000DM000|      0|    1004|         209447488|                     NULL|              0|                  7|                          0|         236239211|                    NULL|            69026|                   0|                    7|                    NULL|                            NULL|                        2|                                 0|                   0|                   0|                          22|                      0|                           0|                       38899|                      22|                       NULL|                        NULL|                          0|                         0|                        0|                      NULL|           NULL|             NULL|                 NULL|             NULL|                 68869|                   NULL|                NULL|            0.858058108252713|                                NULL|                       0.0|          0.001601708489054992|                                   0.0|         3.841765240638574E-4|                               NULL|          0.8700327786182551|                            0.0|            0.008784773060029283|                               NULL|                                       NULL|                0.001740644038294...|                                          0.0|                            0.0|                            0.0|                     0.1794871794871795|                               0.0|                                    0.0|                    0.07941479110181948|                                0.2|                                  NULL|                                   NULL|                                   0.0|                                  0.0|                                 0.0|                                 NULL|                      NULL|                        NULL|                            NULL|                        NULL|               0.9135637063076208|                              NULL|                           NULL|\n",
      "+-------------------+--------------+--------------------+-------+--------+------------------+-------------------------+---------------+-------------------+---------------------------+------------------+------------------------+-----------------+--------------------+---------------------+------------------------+--------------------------------+-------------------------+----------------------------------+--------------------+--------------------+----------------------------+-----------------------+----------------------------+----------------------------+------------------------+---------------------------+----------------------------+---------------------------+--------------------------+-------------------------+--------------------------+---------------+-----------------+---------------------+-----------------+----------------------+-----------------------+--------------------+-----------------------------+------------------------------------+--------------------------+------------------------------+--------------------------------------+-----------------------------+-----------------------------------+----------------------------+-------------------------------+--------------------------------+-----------------------------------+-------------------------------------------+------------------------------------+---------------------------------------------+-------------------------------+-------------------------------+---------------------------------------+----------------------------------+---------------------------------------+---------------------------------------+-----------------------------------+--------------------------------------+---------------------------------------+--------------------------------------+-------------------------------------+------------------------------------+-------------------------------------+--------------------------+----------------------------+--------------------------------+----------------------------+---------------------------------+----------------------------------+-------------------------------+\n",
      "only showing top 20 rows\n",
      "\n"
     ]
    },
    {
     "name": "stderr",
     "output_type": "stream",
     "text": [
      "ERROR:root:KeyboardInterrupt while sending command.\n",
      "Traceback (most recent call last):\n",
      "  File \"/Users/jonas/Documents/Uni/Erasmus/Cloud Computing for Big Data/Cloud-Computing-and-Big-Data-Applications/.conda/lib/python3.9/site-packages/py4j/java_gateway.py\", line 1038, in send_command\n",
      "    response = connection.send_command(command)\n",
      "  File \"/Users/jonas/Documents/Uni/Erasmus/Cloud Computing for Big Data/Cloud-Computing-and-Big-Data-Applications/.conda/lib/python3.9/site-packages/py4j/clientserver.py\", line 511, in send_command\n",
      "    answer = smart_decode(self.stream.readline()[:-1])\n",
      "  File \"/Users/jonas/Documents/Uni/Erasmus/Cloud Computing for Big Data/Cloud-Computing-and-Big-Data-Applications/.conda/lib/python3.9/socket.py\", line 704, in readinto\n",
      "    return self._sock.recv_into(b)\n",
      "KeyboardInterrupt\n"
     ]
    },
    {
     "ename": "KeyboardInterrupt",
     "evalue": "",
     "output_type": "error",
     "traceback": [
      "\u001b[0;31m---------------------------------------------------------------------------\u001b[0m",
      "\u001b[0;31mKeyboardInterrupt\u001b[0m                         Traceback (most recent call last)",
      "Cell \u001b[0;32mIn[48], line 34\u001b[0m\n\u001b[1;32m     27\u001b[0m \u001b[38;5;66;03m# Start the streaming query\u001b[39;00m\n\u001b[1;32m     28\u001b[0m query \u001b[38;5;241m=\u001b[39m streamingData \\\n\u001b[1;32m     29\u001b[0m     \u001b[38;5;241m.\u001b[39mwriteStream \\\n\u001b[1;32m     30\u001b[0m     \u001b[38;5;241m.\u001b[39moutputMode(\u001b[38;5;124m\"\u001b[39m\u001b[38;5;124mupdate\u001b[39m\u001b[38;5;124m\"\u001b[39m) \\\n\u001b[1;32m     31\u001b[0m     \u001b[38;5;241m.\u001b[39mformat(\u001b[38;5;124m\"\u001b[39m\u001b[38;5;124mconsole\u001b[39m\u001b[38;5;124m\"\u001b[39m) \\\n\u001b[1;32m     32\u001b[0m     \u001b[38;5;241m.\u001b[39mstart()\n\u001b[0;32m---> 34\u001b[0m \u001b[43mquery\u001b[49m\u001b[38;5;241;43m.\u001b[39;49m\u001b[43mawaitTermination\u001b[49m\u001b[43m(\u001b[49m\u001b[43m)\u001b[49m\n",
      "File \u001b[0;32m~/Documents/Uni/Erasmus/Cloud Computing for Big Data/Cloud-Computing-and-Big-Data-Applications/.conda/lib/python3.9/site-packages/pyspark/sql/streaming/query.py:221\u001b[0m, in \u001b[0;36mStreamingQuery.awaitTermination\u001b[0;34m(self, timeout)\u001b[0m\n\u001b[1;32m    219\u001b[0m     \u001b[38;5;28;01mreturn\u001b[39;00m \u001b[38;5;28mself\u001b[39m\u001b[38;5;241m.\u001b[39m_jsq\u001b[38;5;241m.\u001b[39mawaitTermination(\u001b[38;5;28mint\u001b[39m(timeout \u001b[38;5;241m*\u001b[39m \u001b[38;5;241m1000\u001b[39m))\n\u001b[1;32m    220\u001b[0m \u001b[38;5;28;01melse\u001b[39;00m:\n\u001b[0;32m--> 221\u001b[0m     \u001b[38;5;28;01mreturn\u001b[39;00m \u001b[38;5;28;43mself\u001b[39;49m\u001b[38;5;241;43m.\u001b[39;49m\u001b[43m_jsq\u001b[49m\u001b[38;5;241;43m.\u001b[39;49m\u001b[43mawaitTermination\u001b[49m\u001b[43m(\u001b[49m\u001b[43m)\u001b[49m\n",
      "File \u001b[0;32m~/Documents/Uni/Erasmus/Cloud Computing for Big Data/Cloud-Computing-and-Big-Data-Applications/.conda/lib/python3.9/site-packages/py4j/java_gateway.py:1321\u001b[0m, in \u001b[0;36mJavaMember.__call__\u001b[0;34m(self, *args)\u001b[0m\n\u001b[1;32m   1314\u001b[0m args_command, temp_args \u001b[38;5;241m=\u001b[39m \u001b[38;5;28mself\u001b[39m\u001b[38;5;241m.\u001b[39m_build_args(\u001b[38;5;241m*\u001b[39margs)\n\u001b[1;32m   1316\u001b[0m command \u001b[38;5;241m=\u001b[39m proto\u001b[38;5;241m.\u001b[39mCALL_COMMAND_NAME \u001b[38;5;241m+\u001b[39m\\\n\u001b[1;32m   1317\u001b[0m     \u001b[38;5;28mself\u001b[39m\u001b[38;5;241m.\u001b[39mcommand_header \u001b[38;5;241m+\u001b[39m\\\n\u001b[1;32m   1318\u001b[0m     args_command \u001b[38;5;241m+\u001b[39m\\\n\u001b[1;32m   1319\u001b[0m     proto\u001b[38;5;241m.\u001b[39mEND_COMMAND_PART\n\u001b[0;32m-> 1321\u001b[0m answer \u001b[38;5;241m=\u001b[39m \u001b[38;5;28;43mself\u001b[39;49m\u001b[38;5;241;43m.\u001b[39;49m\u001b[43mgateway_client\u001b[49m\u001b[38;5;241;43m.\u001b[39;49m\u001b[43msend_command\u001b[49m\u001b[43m(\u001b[49m\u001b[43mcommand\u001b[49m\u001b[43m)\u001b[49m\n\u001b[1;32m   1322\u001b[0m return_value \u001b[38;5;241m=\u001b[39m get_return_value(\n\u001b[1;32m   1323\u001b[0m     answer, \u001b[38;5;28mself\u001b[39m\u001b[38;5;241m.\u001b[39mgateway_client, \u001b[38;5;28mself\u001b[39m\u001b[38;5;241m.\u001b[39mtarget_id, \u001b[38;5;28mself\u001b[39m\u001b[38;5;241m.\u001b[39mname)\n\u001b[1;32m   1325\u001b[0m \u001b[38;5;28;01mfor\u001b[39;00m temp_arg \u001b[38;5;129;01min\u001b[39;00m temp_args:\n",
      "File \u001b[0;32m~/Documents/Uni/Erasmus/Cloud Computing for Big Data/Cloud-Computing-and-Big-Data-Applications/.conda/lib/python3.9/site-packages/py4j/java_gateway.py:1038\u001b[0m, in \u001b[0;36mGatewayClient.send_command\u001b[0;34m(self, command, retry, binary)\u001b[0m\n\u001b[1;32m   1036\u001b[0m connection \u001b[38;5;241m=\u001b[39m \u001b[38;5;28mself\u001b[39m\u001b[38;5;241m.\u001b[39m_get_connection()\n\u001b[1;32m   1037\u001b[0m \u001b[38;5;28;01mtry\u001b[39;00m:\n\u001b[0;32m-> 1038\u001b[0m     response \u001b[38;5;241m=\u001b[39m \u001b[43mconnection\u001b[49m\u001b[38;5;241;43m.\u001b[39;49m\u001b[43msend_command\u001b[49m\u001b[43m(\u001b[49m\u001b[43mcommand\u001b[49m\u001b[43m)\u001b[49m\n\u001b[1;32m   1039\u001b[0m     \u001b[38;5;28;01mif\u001b[39;00m binary:\n\u001b[1;32m   1040\u001b[0m         \u001b[38;5;28;01mreturn\u001b[39;00m response, \u001b[38;5;28mself\u001b[39m\u001b[38;5;241m.\u001b[39m_create_connection_guard(connection)\n",
      "File \u001b[0;32m~/Documents/Uni/Erasmus/Cloud Computing for Big Data/Cloud-Computing-and-Big-Data-Applications/.conda/lib/python3.9/site-packages/py4j/clientserver.py:511\u001b[0m, in \u001b[0;36mClientServerConnection.send_command\u001b[0;34m(self, command)\u001b[0m\n\u001b[1;32m    509\u001b[0m \u001b[38;5;28;01mtry\u001b[39;00m:\n\u001b[1;32m    510\u001b[0m     \u001b[38;5;28;01mwhile\u001b[39;00m \u001b[38;5;28;01mTrue\u001b[39;00m:\n\u001b[0;32m--> 511\u001b[0m         answer \u001b[38;5;241m=\u001b[39m smart_decode(\u001b[38;5;28;43mself\u001b[39;49m\u001b[38;5;241;43m.\u001b[39;49m\u001b[43mstream\u001b[49m\u001b[38;5;241;43m.\u001b[39;49m\u001b[43mreadline\u001b[49m\u001b[43m(\u001b[49m\u001b[43m)\u001b[49m[:\u001b[38;5;241m-\u001b[39m\u001b[38;5;241m1\u001b[39m])\n\u001b[1;32m    512\u001b[0m         logger\u001b[38;5;241m.\u001b[39mdebug(\u001b[38;5;124m\"\u001b[39m\u001b[38;5;124mAnswer received: \u001b[39m\u001b[38;5;132;01m{0}\u001b[39;00m\u001b[38;5;124m\"\u001b[39m\u001b[38;5;241m.\u001b[39mformat(answer))\n\u001b[1;32m    513\u001b[0m         \u001b[38;5;66;03m# Happens when a the other end is dead. There might be an empty\u001b[39;00m\n\u001b[1;32m    514\u001b[0m         \u001b[38;5;66;03m# answer before the socket raises an error.\u001b[39;00m\n",
      "File \u001b[0;32m~/Documents/Uni/Erasmus/Cloud Computing for Big Data/Cloud-Computing-and-Big-Data-Applications/.conda/lib/python3.9/socket.py:704\u001b[0m, in \u001b[0;36mSocketIO.readinto\u001b[0;34m(self, b)\u001b[0m\n\u001b[1;32m    702\u001b[0m \u001b[38;5;28;01mwhile\u001b[39;00m \u001b[38;5;28;01mTrue\u001b[39;00m:\n\u001b[1;32m    703\u001b[0m     \u001b[38;5;28;01mtry\u001b[39;00m:\n\u001b[0;32m--> 704\u001b[0m         \u001b[38;5;28;01mreturn\u001b[39;00m \u001b[38;5;28;43mself\u001b[39;49m\u001b[38;5;241;43m.\u001b[39;49m\u001b[43m_sock\u001b[49m\u001b[38;5;241;43m.\u001b[39;49m\u001b[43mrecv_into\u001b[49m\u001b[43m(\u001b[49m\u001b[43mb\u001b[49m\u001b[43m)\u001b[49m\n\u001b[1;32m    705\u001b[0m     \u001b[38;5;28;01mexcept\u001b[39;00m timeout:\n\u001b[1;32m    706\u001b[0m         \u001b[38;5;28mself\u001b[39m\u001b[38;5;241m.\u001b[39m_timeout_occurred \u001b[38;5;241m=\u001b[39m \u001b[38;5;28;01mTrue\u001b[39;00m\n",
      "\u001b[0;31mKeyboardInterrupt\u001b[0m: "
     ]
    }
   ],
   "source": [
    "from pyspark.sql.functions import col, lit\n",
    "\n",
    "def min_max_normalization(df, column, norm_data):\n",
    "    # Get the min and max values of the column from norm_data\n",
    "    norm_row = norm_data.filter(norm_data['column'] == column).first()\n",
    "    if norm_row is not None:  # Check if a matching row was found\n",
    "        lower_thresh = norm_row['min']\n",
    "        upper_thresh = norm_row['max']\n",
    "\n",
    "        # Perform min-max normalization and rescaling\n",
    "        normalized_column = (col(column) - lit(lower_thresh)) / (lit(upper_thresh) - lit(lower_thresh))\n",
    "        return normalized_column\n",
    "    else:\n",
    "        raise ValueError(f\"No normalization data found for column {column}\")\n",
    "\n",
    "# List of columns to ignore\n",
    "ignore_columns = ['date', 'serial_number', 'model', 'failure', 'vault_id']\n",
    "\n",
    "# Get the list of columns to normalize\n",
    "columns_to_normalize = [col for col in streamingData.columns if col not in ignore_columns]\n",
    "\n",
    "# Apply min_max_normalization on all columns\n",
    "for column in columns_to_normalize:\n",
    "    normalized_column = min_max_normalization(streamingData, column, norm_data)\n",
    "    streamingData = streamingData.withColumn(column, normalized_column)\n",
    "\n",
    "# Start the streaming query\n",
    "query = streamingData \\\n",
    "    .writeStream \\\n",
    "    .outputMode(\"update\") \\\n",
    "    .format(\"console\") \\\n",
    "    .start()\n",
    "\n",
    "query.awaitTermination()"
   ]
  },
  {
   "cell_type": "code",
   "execution_count": 49,
   "metadata": {},
   "outputs": [],
   "source": [
    "query.stop()"
   ]
  },
  {
   "cell_type": "code",
   "execution_count": 53,
   "metadata": {},
   "outputs": [
    {
     "name": "stderr",
     "output_type": "stream",
     "text": [
      "24/01/30 17:06:56 WARN ResolveWriteToStream: Temporary checkpoint location created which is deleted normally when the query didn't fail: /private/var/folders/p0/qbnst5tj08g1z35zyllsm5vc0000gn/T/temporary-ef222dd5-bc6f-485a-bd20-0c8e02c523e0. If it's required to delete it under any circumstances, please set spark.sql.streaming.forceDeleteTempCheckpointLocation to true. Important to know deleting temp checkpoint folder is best effort.\n",
      "24/01/30 17:06:56 WARN ResolveWriteToStream: spark.sql.adaptive.enabled is not supported in streaming DataFrames/Datasets and will be disabled.\n",
      "ERROR:root:KeyboardInterrupt while sending command.\n",
      "Traceback (most recent call last):\n",
      "  File \"/Users/jonas/Documents/Uni/Erasmus/Cloud Computing for Big Data/Cloud-Computing-and-Big-Data-Applications/.conda/lib/python3.9/site-packages/py4j/java_gateway.py\", line 1038, in send_command\n",
      "    response = connection.send_command(command)\n",
      "  File \"/Users/jonas/Documents/Uni/Erasmus/Cloud Computing for Big Data/Cloud-Computing-and-Big-Data-Applications/.conda/lib/python3.9/site-packages/py4j/clientserver.py\", line 511, in send_command\n",
      "    answer = smart_decode(self.stream.readline()[:-1])\n",
      "  File \"/Users/jonas/Documents/Uni/Erasmus/Cloud Computing for Big Data/Cloud-Computing-and-Big-Data-Applications/.conda/lib/python3.9/socket.py\", line 704, in readinto\n",
      "    return self._sock.recv_into(b)\n",
      "KeyboardInterrupt\n"
     ]
    },
    {
     "ename": "KeyboardInterrupt",
     "evalue": "",
     "output_type": "error",
     "traceback": [
      "\u001b[0;31m---------------------------------------------------------------------------\u001b[0m",
      "\u001b[0;31mKeyboardInterrupt\u001b[0m                         Traceback (most recent call last)",
      "Cell \u001b[0;32mIn[53], line 29\u001b[0m\n\u001b[1;32m     23\u001b[0m \u001b[38;5;66;03m# Apply the function on micro-batches of the data stream\u001b[39;00m\n\u001b[1;32m     24\u001b[0m query \u001b[38;5;241m=\u001b[39m streamingData \\\n\u001b[1;32m     25\u001b[0m     \u001b[38;5;241m.\u001b[39mwriteStream \\\n\u001b[1;32m     26\u001b[0m     \u001b[38;5;241m.\u001b[39mforeachBatch(\u001b[38;5;28;01mlambda\u001b[39;00m df, epoch_id: kmeans_centers(df, k\u001b[38;5;241m=\u001b[39m\u001b[38;5;28mlen\u001b[39m(centers))) \\\n\u001b[1;32m     27\u001b[0m     \u001b[38;5;241m.\u001b[39mstart()\n\u001b[0;32m---> 29\u001b[0m \u001b[43mquery\u001b[49m\u001b[38;5;241;43m.\u001b[39;49m\u001b[43mawaitTermination\u001b[49m\u001b[43m(\u001b[49m\u001b[43m)\u001b[49m\n",
      "File \u001b[0;32m~/Documents/Uni/Erasmus/Cloud Computing for Big Data/Cloud-Computing-and-Big-Data-Applications/.conda/lib/python3.9/site-packages/pyspark/sql/streaming/query.py:221\u001b[0m, in \u001b[0;36mStreamingQuery.awaitTermination\u001b[0;34m(self, timeout)\u001b[0m\n\u001b[1;32m    219\u001b[0m     \u001b[38;5;28;01mreturn\u001b[39;00m \u001b[38;5;28mself\u001b[39m\u001b[38;5;241m.\u001b[39m_jsq\u001b[38;5;241m.\u001b[39mawaitTermination(\u001b[38;5;28mint\u001b[39m(timeout \u001b[38;5;241m*\u001b[39m \u001b[38;5;241m1000\u001b[39m))\n\u001b[1;32m    220\u001b[0m \u001b[38;5;28;01melse\u001b[39;00m:\n\u001b[0;32m--> 221\u001b[0m     \u001b[38;5;28;01mreturn\u001b[39;00m \u001b[38;5;28;43mself\u001b[39;49m\u001b[38;5;241;43m.\u001b[39;49m\u001b[43m_jsq\u001b[49m\u001b[38;5;241;43m.\u001b[39;49m\u001b[43mawaitTermination\u001b[49m\u001b[43m(\u001b[49m\u001b[43m)\u001b[49m\n",
      "File \u001b[0;32m~/Documents/Uni/Erasmus/Cloud Computing for Big Data/Cloud-Computing-and-Big-Data-Applications/.conda/lib/python3.9/site-packages/py4j/java_gateway.py:1321\u001b[0m, in \u001b[0;36mJavaMember.__call__\u001b[0;34m(self, *args)\u001b[0m\n\u001b[1;32m   1314\u001b[0m args_command, temp_args \u001b[38;5;241m=\u001b[39m \u001b[38;5;28mself\u001b[39m\u001b[38;5;241m.\u001b[39m_build_args(\u001b[38;5;241m*\u001b[39margs)\n\u001b[1;32m   1316\u001b[0m command \u001b[38;5;241m=\u001b[39m proto\u001b[38;5;241m.\u001b[39mCALL_COMMAND_NAME \u001b[38;5;241m+\u001b[39m\\\n\u001b[1;32m   1317\u001b[0m     \u001b[38;5;28mself\u001b[39m\u001b[38;5;241m.\u001b[39mcommand_header \u001b[38;5;241m+\u001b[39m\\\n\u001b[1;32m   1318\u001b[0m     args_command \u001b[38;5;241m+\u001b[39m\\\n\u001b[1;32m   1319\u001b[0m     proto\u001b[38;5;241m.\u001b[39mEND_COMMAND_PART\n\u001b[0;32m-> 1321\u001b[0m answer \u001b[38;5;241m=\u001b[39m \u001b[38;5;28;43mself\u001b[39;49m\u001b[38;5;241;43m.\u001b[39;49m\u001b[43mgateway_client\u001b[49m\u001b[38;5;241;43m.\u001b[39;49m\u001b[43msend_command\u001b[49m\u001b[43m(\u001b[49m\u001b[43mcommand\u001b[49m\u001b[43m)\u001b[49m\n\u001b[1;32m   1322\u001b[0m return_value \u001b[38;5;241m=\u001b[39m get_return_value(\n\u001b[1;32m   1323\u001b[0m     answer, \u001b[38;5;28mself\u001b[39m\u001b[38;5;241m.\u001b[39mgateway_client, \u001b[38;5;28mself\u001b[39m\u001b[38;5;241m.\u001b[39mtarget_id, \u001b[38;5;28mself\u001b[39m\u001b[38;5;241m.\u001b[39mname)\n\u001b[1;32m   1325\u001b[0m \u001b[38;5;28;01mfor\u001b[39;00m temp_arg \u001b[38;5;129;01min\u001b[39;00m temp_args:\n",
      "File \u001b[0;32m~/Documents/Uni/Erasmus/Cloud Computing for Big Data/Cloud-Computing-and-Big-Data-Applications/.conda/lib/python3.9/site-packages/py4j/java_gateway.py:1038\u001b[0m, in \u001b[0;36mGatewayClient.send_command\u001b[0;34m(self, command, retry, binary)\u001b[0m\n\u001b[1;32m   1036\u001b[0m connection \u001b[38;5;241m=\u001b[39m \u001b[38;5;28mself\u001b[39m\u001b[38;5;241m.\u001b[39m_get_connection()\n\u001b[1;32m   1037\u001b[0m \u001b[38;5;28;01mtry\u001b[39;00m:\n\u001b[0;32m-> 1038\u001b[0m     response \u001b[38;5;241m=\u001b[39m \u001b[43mconnection\u001b[49m\u001b[38;5;241;43m.\u001b[39;49m\u001b[43msend_command\u001b[49m\u001b[43m(\u001b[49m\u001b[43mcommand\u001b[49m\u001b[43m)\u001b[49m\n\u001b[1;32m   1039\u001b[0m     \u001b[38;5;28;01mif\u001b[39;00m binary:\n\u001b[1;32m   1040\u001b[0m         \u001b[38;5;28;01mreturn\u001b[39;00m response, \u001b[38;5;28mself\u001b[39m\u001b[38;5;241m.\u001b[39m_create_connection_guard(connection)\n",
      "File \u001b[0;32m~/Documents/Uni/Erasmus/Cloud Computing for Big Data/Cloud-Computing-and-Big-Data-Applications/.conda/lib/python3.9/site-packages/py4j/clientserver.py:511\u001b[0m, in \u001b[0;36mClientServerConnection.send_command\u001b[0;34m(self, command)\u001b[0m\n\u001b[1;32m    509\u001b[0m \u001b[38;5;28;01mtry\u001b[39;00m:\n\u001b[1;32m    510\u001b[0m     \u001b[38;5;28;01mwhile\u001b[39;00m \u001b[38;5;28;01mTrue\u001b[39;00m:\n\u001b[0;32m--> 511\u001b[0m         answer \u001b[38;5;241m=\u001b[39m smart_decode(\u001b[38;5;28;43mself\u001b[39;49m\u001b[38;5;241;43m.\u001b[39;49m\u001b[43mstream\u001b[49m\u001b[38;5;241;43m.\u001b[39;49m\u001b[43mreadline\u001b[49m\u001b[43m(\u001b[49m\u001b[43m)\u001b[49m[:\u001b[38;5;241m-\u001b[39m\u001b[38;5;241m1\u001b[39m])\n\u001b[1;32m    512\u001b[0m         logger\u001b[38;5;241m.\u001b[39mdebug(\u001b[38;5;124m\"\u001b[39m\u001b[38;5;124mAnswer received: \u001b[39m\u001b[38;5;132;01m{0}\u001b[39;00m\u001b[38;5;124m\"\u001b[39m\u001b[38;5;241m.\u001b[39mformat(answer))\n\u001b[1;32m    513\u001b[0m         \u001b[38;5;66;03m# Happens when a the other end is dead. There might be an empty\u001b[39;00m\n\u001b[1;32m    514\u001b[0m         \u001b[38;5;66;03m# answer before the socket raises an error.\u001b[39;00m\n",
      "File \u001b[0;32m~/Documents/Uni/Erasmus/Cloud Computing for Big Data/Cloud-Computing-and-Big-Data-Applications/.conda/lib/python3.9/socket.py:704\u001b[0m, in \u001b[0;36mSocketIO.readinto\u001b[0;34m(self, b)\u001b[0m\n\u001b[1;32m    702\u001b[0m \u001b[38;5;28;01mwhile\u001b[39;00m \u001b[38;5;28;01mTrue\u001b[39;00m:\n\u001b[1;32m    703\u001b[0m     \u001b[38;5;28;01mtry\u001b[39;00m:\n\u001b[0;32m--> 704\u001b[0m         \u001b[38;5;28;01mreturn\u001b[39;00m \u001b[38;5;28;43mself\u001b[39;49m\u001b[38;5;241;43m.\u001b[39;49m\u001b[43m_sock\u001b[49m\u001b[38;5;241;43m.\u001b[39;49m\u001b[43mrecv_into\u001b[49m\u001b[43m(\u001b[49m\u001b[43mb\u001b[49m\u001b[43m)\u001b[49m\n\u001b[1;32m    705\u001b[0m     \u001b[38;5;28;01mexcept\u001b[39;00m timeout:\n\u001b[1;32m    706\u001b[0m         \u001b[38;5;28mself\u001b[39m\u001b[38;5;241m.\u001b[39m_timeout_occurred \u001b[38;5;241m=\u001b[39m \u001b[38;5;28;01mTrue\u001b[39;00m\n",
      "\u001b[0;31mKeyboardInterrupt\u001b[0m: "
     ]
    }
   ],
   "source": [
    "from pyspark.ml.clustering import KMeans\n",
    "from pyspark.ml.feature import VectorAssembler\n",
    "from pyspark.sql.functions import col\n",
    "\n",
    "def kmeans_centers(df, k):\n",
    "    # Ensure all columns are numeric and replace nulls with 0\n",
    "    for column in df.columns:\n",
    "        df = df.withColumn(column, col(column).cast(\"double\")).na.fill(0)\n",
    "\n",
    "    # Assemble the features into a single vector\n",
    "    assembler = VectorAssembler(inputCols=df.columns, outputCol=\"features\")\n",
    "    data = assembler.transform(df)\n",
    "\n",
    "    # Train a KMeans model\n",
    "    kmeans = KMeans(k=k, seed=1)\n",
    "    model = kmeans.fit(data.select('features'))\n",
    "\n",
    "    # Get the cluster centers\n",
    "    centers = model.clusterCenters()\n",
    "\n",
    "    return centers\n",
    "\n",
    "# Apply the function on micro-batches of the data stream\n",
    "query = streamingData \\\n",
    "    .writeStream \\\n",
    "    .foreachBatch(lambda df, epoch_id: kmeans_centers(df, k=len(centers))) \\\n",
    "    .start()\n",
    "\n",
    "query.awaitTermination()"
   ]
  },
  {
   "cell_type": "code",
   "execution_count": 56,
   "metadata": {},
   "outputs": [],
   "source": [
    "from pyspark.ml.clustering import KMeans\n",
    "from pyspark.ml.feature import VectorAssembler\n",
    "from pyspark.sql.functions import col\n",
    "\n",
    "# Ensure all columns in centers_df are numeric and replace nulls with 0\n",
    "for column in centers_df.columns:\n",
    "    centers_df = centers_df.withColumn(column, col(column).cast(\"double\")).na.fill(0)\n",
    "\n",
    "# Assemble the features into a single vector\n",
    "assembler = VectorAssembler(inputCols=centers_df.columns, outputCol=\"features\")\n",
    "data = assembler.transform(centers_df)\n",
    "\n",
    "# Train an initial KMeans model on centers_df\n",
    "kmeans = KMeans(k=centers_df.count(), seed=1)  # Adjust the number of clusters k as needed\n",
    "initial_model = kmeans.fit(data.select('features'))"
   ]
  },
  {
   "cell_type": "code",
   "execution_count": 54,
   "metadata": {},
   "outputs": [
    {
     "name": "stderr",
     "output_type": "stream",
     "text": [
      "Exception ignored in: <function JavaWrapper.__del__ at 0x7fd9232d5700>\n",
      "Traceback (most recent call last):\n",
      "  File \"/Users/jonas/Documents/Uni/Erasmus/Cloud Computing for Big Data/Cloud-Computing-and-Big-Data-Applications/.conda/lib/python3.9/site-packages/pyspark/ml/wrapper.py\", line 53, in __del__\n",
      "    if SparkContext._active_spark_context and self._java_obj is not None:\n",
      "AttributeError: 'KMeansModel' object has no attribute '_java_obj'\n"
     ]
    },
    {
     "ename": "TypeError",
     "evalue": "__init__() got an unexpected keyword argument 'clusterCenters'",
     "output_type": "error",
     "traceback": [
      "\u001b[0;31m---------------------------------------------------------------------------\u001b[0m",
      "\u001b[0;31mTypeError\u001b[0m                                 Traceback (most recent call last)",
      "Cell \u001b[0;32mIn[54], line 3\u001b[0m\n\u001b[1;32m      1\u001b[0m \u001b[38;5;28;01mfrom\u001b[39;00m \u001b[38;5;21;01mpyspark\u001b[39;00m\u001b[38;5;21;01m.\u001b[39;00m\u001b[38;5;21;01mml\u001b[39;00m\u001b[38;5;21;01m.\u001b[39;00m\u001b[38;5;21;01mclustering\u001b[39;00m \u001b[38;5;28;01mimport\u001b[39;00m KMeans, KMeansModel\n\u001b[0;32m----> 3\u001b[0m initial_model \u001b[38;5;241m=\u001b[39m \u001b[43mKMeansModel\u001b[49m\u001b[43m(\u001b[49m\u001b[43mclusterCenters\u001b[49m\u001b[38;5;241;43m=\u001b[39;49m\u001b[43mcenters\u001b[49m\u001b[43m)\u001b[49m\n",
      "\u001b[0;31mTypeError\u001b[0m: __init__() got an unexpected keyword argument 'clusterCenters'"
     ]
    }
   ],
   "source": [
    "from pyspark.ml.clustering import KMeans\n",
    "from pyspark.ml.feature import VectorAssembler\n",
    "from pyspark.sql.functions import col\n",
    "\n",
    "def kmeans_centers(df, initial_model):\n",
    "    # Ensure all columns are numeric and replace nulls with 0\n",
    "    for column in df.columns:\n",
    "        df = df.withColumn(column, col(column).cast(\"double\")).na.fill(0)\n",
    "\n",
    "    # Assemble the features into a single vector\n",
    "    assembler = VectorAssembler(inputCols=df.columns, outputCol=\"features\")\n",
    "    data = assembler.transform(df)\n",
    "\n",
    "    # Train a KMeans model with the initial model\n",
    "    kmeans = KMeans(k=initial_model.getK(), seed=1, initMode=\"k-means||\")\n",
    "    kmeans.setInitialModel(initial_model)\n",
    "    model = kmeans.fit(data.select('features'))\n",
    "\n",
    "    # Make predictions\n",
    "    predictions = model.transform(data)\n",
    "\n",
    "    return predictions\n",
    "\n",
    "# Apply the function on micro-batches of the data stream\n",
    "query = streamingData \\\n",
    "    .writeStream \\\n",
    "    .foreachBatch(lambda df, epoch_id: kmeans_centers(df, initial_model)) \\\n",
    "    .start()\n",
    "\n",
    "query.awaitTermination()"
   ]
  },
  {
   "cell_type": "code",
   "execution_count": null,
   "metadata": {},
   "outputs": [],
   "source": []
  },
  {
   "cell_type": "code",
   "execution_count": null,
   "metadata": {},
   "outputs": [],
   "source": [
    "from pyspark.sql.functions import when, sum\n",
    "from pyspark.ml.clustering import KMeans\n",
    "from pyspark.ml.feature import VectorAssembler\n",
    "from pyspark.ml.linalg import Vectors\n",
    "from pyspark.ml.clustering import KMeansModel\n",
    "from pyspark.sql.functions import col\n",
    "\n",
    "# Assemble the features into a single vector but ignore the date and serial_number fields\n",
    "\n",
    "# without the first two columns\n",
    "# Train a KMeans model on a static DataFrame\n",
    "staticData_tiny = spark.read.csv(\"cluster_data_dir/drivedata-tiny.csv\", header=True, inferSchema=True)\n",
    "staticData = staticData_tiny.limit(5).cache()\n",
    "\n",
    "#only the data from static data after the first 5 columns\n",
    "staticData = staticData.select(staticData.columns[5:])\n",
    "\n",
    "# Ensure all columns are numeric and replace nulls with 0\n",
    "for column in staticData.columns:\n",
    "    staticData = staticData.withColumn(column, col(column).cast(\"double\")).na.fill(0)\n",
    "\n",
    "# Select the first 500 rows\n",
    "\n",
    "# Assemble the features into a single vector\n",
    "assembler = VectorAssembler(inputCols=centers_df.columns, outputCol=\"features\")\n",
    "data = assembler.transform(centers_df)\n",
    "\n",
    "# Train a KMeans model\n",
    "kmeans = KMeans(k=(centers_df.count()), seed=1)\n",
    "kmeans.setMaxIter(1)\n",
    "\n",
    "model = kmeans.fit(data.select('features'))\n"
   ]
  },
  {
   "cell_type": "markdown",
   "metadata": {},
   "source": [
    "Now we need to normalize the data based on the CSV"
   ]
  },
  {
   "cell_type": "code",
   "execution_count": null,
   "metadata": {},
   "outputs": [],
   "source": []
  },
  {
   "cell_type": "code",
   "execution_count": null,
   "metadata": {},
   "outputs": [],
   "source": []
  },
  {
   "cell_type": "code",
   "execution_count": null,
   "metadata": {},
   "outputs": [],
   "source": []
  },
  {
   "cell_type": "code",
   "execution_count": null,
   "metadata": {},
   "outputs": [],
   "source": []
  },
  {
   "cell_type": "code",
   "execution_count": 74,
   "metadata": {},
   "outputs": [
    {
     "data": {
      "text/plain": [
       "0"
      ]
     },
     "execution_count": 74,
     "metadata": {},
     "output_type": "execute_result"
    }
   ],
   "source": []
  },
  {
   "cell_type": "code",
   "execution_count": null,
   "metadata": {},
   "outputs": [],
   "source": []
  }
 ],
 "metadata": {
  "kernelspec": {
   "display_name": "Python 3",
   "language": "python",
   "name": "python3"
  },
  "language_info": {
   "codemirror_mode": {
    "name": "ipython",
    "version": 3
   },
   "file_extension": ".py",
   "mimetype": "text/x-python",
   "name": "python",
   "nbconvert_exporter": "python",
   "pygments_lexer": "ipython3",
   "version": "3.9.18"
  }
 },
 "nbformat": 4,
 "nbformat_minor": 2
}
