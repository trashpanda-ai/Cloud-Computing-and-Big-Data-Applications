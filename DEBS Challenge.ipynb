{
 "cells": [
  {
   "cell_type": "markdown",
   "metadata": {},
   "source": [
    "<a ><img src=\"https://upload.wikimedia.org/wikipedia/commons/thumb/b/b9/Logo_INSA_Lyon_%282014%29.svg/langfr-2560px-Logo_INSA_Lyon_%282014%29.svg.png\"  width=\"200\" align=\"left\"> </a>\n",
    "<div style=\"text-align: right\"> <a ><img src=\"https://2024.debs.org/img/debs-logo_keep.png\"  width=\"200\" align=\"right\"> </a> </div>\n",
    "\n",
    "<br>\n",
    "<br>\n",
    "<br>\n",
    "\n",
    "\n",
    "<h1><center>DEBS 2024 </center></h1>\n",
    "<h2><center> <span style=\"font-weight:normal\"><font color='#e42618'> 18TH ACM INTERNATIONAL CONFERENCE ON DISTRIBUTED AND EVENT-BASED SYSTEMS (June 25th–28th 2024, Lyon, France)</font>  </span></center></h2>\n",
    "\n",
    "\n",
    "<h3><center><font color='gray'>ABNER | JONAS | KEVIN | BENJAMIN</font></center></h3>"
   ]
  },
  {
   "cell_type": "markdown",
   "metadata": {},
   "source": [
    "As a part of the _Cloud Computing and Big Data Application_ course we participate at the Grand Challenge:\n",
    "    \n",
    "    \n",
    "> The 2024 DEBS Grand Challenge focuses on real-time complex event processing of real-world telemetry data provided by Backblaze (https://www.backblaze.com/).The dataset used for the Grand Challenge is based on fine-granular telemetry data about over 200k hard drives in data centers operated by Backblaze. The goal of the challenge is to identify models that exhibit comparable behavior with respect to a set of attributes best suited to predict failures. Further details on the dataset provided, the queries, non-functional requirements and the overall submission process can be found here: https://2024.debs.org/call-for-grand-challenge-solutions/.\n",
    "\n",
    "\n",
    "This year’s DEBS Grand Challenge requires you to implement two queries\n",
    "- Query 1: Count of the recent number of failures detected for each vault (group by storage servers) (Continuous Querying)\n",
    "- Query 2: Use this number to continuously compute a cluster of the drives (Streaming K-Means)\n",
    "\n",
    "Input data consists of batches and each batch contains\n",
    "- SMART readings for a list of drives (```s_1, ..., s_242```)\n",
    "- ```vault_ids```: a list of vault identifiers of interest for this batch (used in Q1, see below)\n",
    "- ```cluster_ids```: a list of cluster identifiers of interest for this batch (used in Q2, see below)\n",
    "- ```day_end```: a flag that marks the end of one day of readings (could not be found - will be created)"
   ]
  },
  {
   "cell_type": "markdown",
   "metadata": {},
   "source": [
    "#### Requirements\n",
    "- ```Python 3.9.18``` (conda env)\n",
    "- ```pip freeze > requirements.txt```\n",
    "- ```conda env export > environment.yml```"
   ]
  },
  {
   "cell_type": "markdown",
   "metadata": {},
   "source": [
    "## Our approach\n",
    "\n",
    "We opted for Apache Spark, not only because some of us already gave a short presentation on Spark, but because of its polyglot nature and vast implementations of different libraries. Also we can easily start a data stream from a folder of ```CSV``` files!"
   ]
  },
  {
   "cell_type": "code",
   "execution_count": 1,
   "metadata": {},
   "outputs": [],
   "source": [
    "# Import necessary libraries\n",
    "from pyspark.sql import SparkSession\n",
    "from pyspark.sql.types import StructType, StructField, StringType, IntegerType, DoubleType, TimestampType\n",
    "#from pyspark.sql.functions import *\n",
    "from pyspark.sql.functions import window, sum as _sum"
   ]
  },
  {
   "cell_type": "markdown",
   "metadata": {},
   "source": [
    "# Exploration"
   ]
  },
  {
   "cell_type": "code",
   "execution_count": 2,
   "metadata": {},
   "outputs": [
    {
     "name": "stderr",
     "output_type": "stream",
     "text": [
      "24/01/31 10:08:18 WARN Utils: Your hostname, MacBook-Pro-von-Jonas.local resolves to a loopback address: 127.0.0.1; using 10.56.66.228 instead (on interface en0)\n",
      "24/01/31 10:08:18 WARN Utils: Set SPARK_LOCAL_IP if you need to bind to another address\n",
      "Setting default log level to \"WARN\".\n",
      "To adjust logging level use sc.setLogLevel(newLevel). For SparkR, use setLogLevel(newLevel).\n",
      "24/01/31 10:08:19 WARN NativeCodeLoader: Unable to load native-hadoop library for your platform... using builtin-java classes where applicable\n",
      "                                                                                \r"
     ]
    }
   ],
   "source": [
    "spark = SparkSession.builder.appName(\"StreamingFromCSV\").getOrCreate()\n",
    "\n",
    "# load df from csv\n",
    "df = spark.read.csv(\"streaming_data_dir/drivedata-small.csv\", header=True, inferSchema=True)"
   ]
  },
  {
   "cell_type": "code",
   "execution_count": 75,
   "metadata": {},
   "outputs": [
    {
     "name": "stderr",
     "output_type": "stream",
     "text": [
      "[Stage 38:======================================>                   (2 + 1) / 3]\r"
     ]
    },
    {
     "name": "stdout",
     "output_type": "stream",
     "text": [
      "+-------------------+-------------+--------------------+-------+--------+------------------+-------------------------+---------------+-------------------+---------------------------+------------------+------------------------+-----------------+--------------------+---------------------+------------------------+--------------------------------+-------------------------+----------------------------------+--------------------+--------------------+----------------------------+-----------------------+----------------------------+----------------------------+------------------------+---------------------------+----------------------------+---------------------------+--------------------------+-------------------------+--------------------------+---------------+-----------------+---------------------+-----------------+----------------------+-----------------------+--------------------+\n",
      "|               date|serial_number|               model|failure|vault_id|s1_read_error_rate|s2_throughput_performance|s3_spin_up_time|s4_start_stop_count|s5_reallocated_sector_count|s7_seek_error_rate|s8_seek_time_performance|s9_power_on_hours|s10_spin_retry_count|s12_power_cycle_count|s173_wear_leveling_count|s174_unexpected_power_loss_count|s183_sata_downshift_count|s187_reported_uncorrectable_errors|s188_command_timeout|s189_high_fly_writes|s190_airflow_temperature_cel|s191_g_sense_error_rate|s192_power_off_retract_count|s193_load_unload_cycle_count|s194_temperature_celsius|s195_hardware_ecc_recovered|s196_reallocated_event_count|s197_current_pending_sector|s198_offline_uncorrectable|s199_udma_crc_error_count|s200_multi_zone_error_rate|s220_disk_shift|s222_loaded_hours|s223_load_retry_count|s226_load_in_time|s240_head_flying_hours|s241_total_lbas_written|s242_total_lbas_read|\n",
      "+-------------------+-------------+--------------------+-------+--------+------------------+-------------------------+---------------+-------------------+---------------------------+------------------+------------------------+-----------------+--------------------+---------------------+------------------------+--------------------------------+-------------------------+----------------------------------+--------------------+--------------------+----------------------------+-----------------------+----------------------------+----------------------------+------------------------+---------------------------+----------------------------+---------------------------+--------------------------+-------------------------+--------------------------+---------------+-----------------+---------------------+-----------------+----------------------+-----------------------+--------------------+\n",
      "|2023-04-08 00:00:00|     8CH4X57E|HGST HUH721212ALN604|      1|    1124|             65536|                        0|            398|                 13|                          2|                 0|                       0|            34183|                   0|                   13|                    NULL|                            NULL|                     NULL|                              NULL|                NULL|                NULL|                        NULL|                   NULL|                        1718|                        1718|                      42|                       NULL|                           2|                         65|                        92|                        0|                      NULL|           NULL|             NULL|                 NULL|             NULL|                  NULL|                   NULL|                NULL|\n",
      "|2023-04-19 00:00:00|     X0GEBGSC| WDC WUH721414ALE6L4|      1|    1149|                 0|                       92|            381|                  4|                          0|                 0|                      18|            21940|                   0|                    4|                    NULL|                            NULL|                     NULL|                              NULL|                NULL|                NULL|                        NULL|                   NULL|                        1532|                        1532|                      40|                       NULL|                           0|                          0|                         0|                        0|                      NULL|           NULL|             NULL|                 NULL|             NULL|                  NULL|                   NULL|                NULL|\n",
      "|2023-06-14 00:00:00|     ZLW0H3KN|       ST12000NM001G|      1|    1097|         238299832|                     NULL|              0|                  4|                          8|        4812972878|                    NULL|            23158|                   0|                    4|                    NULL|                            NULL|                     NULL|                                41|             2621480|                NULL|                          34|                   NULL|                           1|                        1118|                      34|                       NULL|                        NULL|                       7632|                      7632|                        0|                         0|           NULL|             NULL|                 NULL|             NULL|                 22995|            72120351136|        269431057712|\n",
      "|2023-06-17 00:00:00|     ZA13F75D|        ST8000NM0055|      1|    1042|         200441864|                     NULL|              0|                 16|                         88|        1562276778|                    NULL|            52919|                   0|                   16|                    NULL|                            NULL|                     NULL|                                 0|                   0|                   0|                          32|                   9967|                           4|                       69639|                      32|                  200441864|                        NULL|                          0|                         0|                        0|                      NULL|           NULL|             NULL|                 NULL|             NULL|                 52876|            97520408640|        448293518336|\n",
      "|2023-06-23 00:00:00|     ZL23B532|       ST16000NM001G|      1|    1406|         133014064|                     NULL|              0|                 16|                          0|         753873075|                    NULL|            15591|                   0|                   16|                    NULL|                            NULL|                     NULL|                                 0|                   0|                NULL|                          37|                   NULL|                           8|                        4074|                      37|                       NULL|                        NULL|                          0|                         0|                        0|                         0|           NULL|             NULL|                 NULL|             NULL|                 14105|            91286568400|        230874495462|\n",
      "+-------------------+-------------+--------------------+-------+--------+------------------+-------------------------+---------------+-------------------+---------------------------+------------------+------------------------+-----------------+--------------------+---------------------+------------------------+--------------------------------+-------------------------+----------------------------------+--------------------+--------------------+----------------------------+-----------------------+----------------------------+----------------------------+------------------------+---------------------------+----------------------------+---------------------------+--------------------------+-------------------------+--------------------------+---------------+-----------------+---------------------+-----------------+----------------------+-----------------------+--------------------+\n",
      "\n"
     ]
    },
    {
     "name": "stderr",
     "output_type": "stream",
     "text": [
      "                                                                                \r"
     ]
    }
   ],
   "source": [
    "# show only rows where failure is not 0\n",
    "df.where(df.failure != 0).show()\n"
   ]
  },
  {
   "cell_type": "code",
   "execution_count": 76,
   "metadata": {},
   "outputs": [
    {
     "name": "stdout",
     "output_type": "stream",
     "text": [
      "root\n",
      " |-- date: timestamp (nullable = true)\n",
      " |-- serial_number: string (nullable = true)\n",
      " |-- model: string (nullable = true)\n",
      " |-- failure: integer (nullable = true)\n",
      " |-- vault_id: integer (nullable = true)\n",
      " |-- s1_read_error_rate: integer (nullable = true)\n",
      " |-- s2_throughput_performance: integer (nullable = true)\n",
      " |-- s3_spin_up_time: integer (nullable = true)\n",
      " |-- s4_start_stop_count: integer (nullable = true)\n",
      " |-- s5_reallocated_sector_count: integer (nullable = true)\n",
      " |-- s7_seek_error_rate: long (nullable = true)\n",
      " |-- s8_seek_time_performance: integer (nullable = true)\n",
      " |-- s9_power_on_hours: integer (nullable = true)\n",
      " |-- s10_spin_retry_count: integer (nullable = true)\n",
      " |-- s12_power_cycle_count: integer (nullable = true)\n",
      " |-- s173_wear_leveling_count: long (nullable = true)\n",
      " |-- s174_unexpected_power_loss_count: integer (nullable = true)\n",
      " |-- s183_sata_downshift_count: integer (nullable = true)\n",
      " |-- s187_reported_uncorrectable_errors: integer (nullable = true)\n",
      " |-- s188_command_timeout: long (nullable = true)\n",
      " |-- s189_high_fly_writes: integer (nullable = true)\n",
      " |-- s190_airflow_temperature_cel: integer (nullable = true)\n",
      " |-- s191_g_sense_error_rate: integer (nullable = true)\n",
      " |-- s192_power_off_retract_count: integer (nullable = true)\n",
      " |-- s193_load_unload_cycle_count: integer (nullable = true)\n",
      " |-- s194_temperature_celsius: integer (nullable = true)\n",
      " |-- s195_hardware_ecc_recovered: integer (nullable = true)\n",
      " |-- s196_reallocated_event_count: integer (nullable = true)\n",
      " |-- s197_current_pending_sector: integer (nullable = true)\n",
      " |-- s198_offline_uncorrectable: integer (nullable = true)\n",
      " |-- s199_udma_crc_error_count: integer (nullable = true)\n",
      " |-- s200_multi_zone_error_rate: integer (nullable = true)\n",
      " |-- s220_disk_shift: integer (nullable = true)\n",
      " |-- s222_loaded_hours: integer (nullable = true)\n",
      " |-- s223_load_retry_count: integer (nullable = true)\n",
      " |-- s226_load_in_time: integer (nullable = true)\n",
      " |-- s240_head_flying_hours: integer (nullable = true)\n",
      " |-- s241_total_lbas_written: long (nullable = true)\n",
      " |-- s242_total_lbas_read: long (nullable = true)\n",
      "\n"
     ]
    }
   ],
   "source": [
    "# show the column names and types\n",
    "df.printSchema()\n"
   ]
  },
  {
   "cell_type": "code",
   "execution_count": 77,
   "metadata": {},
   "outputs": [],
   "source": [
    "# load cluster centers from csv\n",
    "cluster_centers = spark.read.csv(\"cluster_data_dir/clusters.csv\", header=True, inferSchema=True)"
   ]
  },
  {
   "cell_type": "code",
   "execution_count": 78,
   "metadata": {},
   "outputs": [
    {
     "name": "stdout",
     "output_type": "stream",
     "text": [
      "root\n",
      " |-- cluster: integer (nullable = true)\n",
      " |-- s1_read_error_rate: double (nullable = true)\n",
      " |-- s2_throughput_performance: double (nullable = true)\n",
      " |-- s3_spin_up_time: double (nullable = true)\n",
      " |-- s4_start_stop_count: double (nullable = true)\n",
      " |-- s5_reallocated_sector_count: double (nullable = true)\n",
      " |-- s7_seek_error_rate: double (nullable = true)\n",
      " |-- s8_seek_time_performance: double (nullable = true)\n",
      " |-- s9_power_on_hours: double (nullable = true)\n",
      " |-- s10_spin_retry_count: double (nullable = true)\n",
      " |-- s12_power_cycle_count: double (nullable = true)\n",
      " |-- s173_wear_leveling_count: double (nullable = true)\n",
      " |-- s174_unexpected_power_loss_count: double (nullable = true)\n",
      " |-- s183_sata_downshift_count: double (nullable = true)\n",
      " |-- s187_reported_uncorrectable_errors: double (nullable = true)\n",
      " |-- s188_command_timeout: double (nullable = true)\n",
      " |-- s189_high_fly_writes: double (nullable = true)\n",
      " |-- s190_airflow_temperature_cel: double (nullable = true)\n",
      " |-- s191_g_sense_error_rate: double (nullable = true)\n",
      " |-- s192_power_off_retract_count: double (nullable = true)\n",
      " |-- s193_load_unload_cycle_count: double (nullable = true)\n",
      " |-- s194_temperature_celsius: double (nullable = true)\n",
      " |-- s195_hardware_ecc_recovered: double (nullable = true)\n",
      " |-- s196_reallocated_event_count: double (nullable = true)\n",
      " |-- s197_current_pending_sector: double (nullable = true)\n",
      " |-- s198_offline_uncorrectable: double (nullable = true)\n",
      " |-- s199_udma_crc_error_count: double (nullable = true)\n",
      " |-- s200_multi_zone_error_rate: double (nullable = true)\n",
      " |-- s220_disk_shift: double (nullable = true)\n",
      " |-- s222_loaded_hours: double (nullable = true)\n",
      " |-- s223_load_retry_count: double (nullable = true)\n",
      " |-- s226_load_in_time: double (nullable = true)\n",
      " |-- s240_head_flying_hours: double (nullable = true)\n",
      " |-- s241_total_lbas_written: double (nullable = true)\n",
      " |-- s242_total_lbas_read: double (nullable = true)\n",
      " |-- _c35: string (nullable = true)\n",
      "\n"
     ]
    }
   ],
   "source": [
    "# show the column names and types\n",
    "cluster_centers.printSchema()"
   ]
  },
  {
   "cell_type": "code",
   "execution_count": 79,
   "metadata": {},
   "outputs": [],
   "source": [
    "# drop _c35: string (nullable = true) from cluster_centers\n",
    "cluster_centers = cluster_centers.drop(\"_c35\")"
   ]
  },
  {
   "cell_type": "markdown",
   "metadata": {},
   "source": [
    "_c35: string (nullable = true) is just an empty cell\n",
    "\n",
    "We use date and vault ID to cluster all features s1 through s242 and re-write the centers"
   ]
  },
  {
   "cell_type": "code",
   "execution_count": 80,
   "metadata": {},
   "outputs": [
    {
     "name": "stdout",
     "output_type": "stream",
     "text": [
      "True\n"
     ]
    }
   ],
   "source": [
    "\n",
    "schema = StructType([\n",
    "    StructField(\"date\", TimestampType(), True),\n",
    "    StructField(\"serial_number\", StringType(), True),\n",
    "    StructField(\"model\", StringType(), True),\n",
    "    StructField(\"failure\", IntegerType(), True),\n",
    "    StructField(\"vault_id\", IntegerType(), True),\n",
    "    StructField(\"s1_read_error_rate\", IntegerType(), True),\n",
    "    StructField(\"s2_throughput_performance\", IntegerType(), True),\n",
    "    StructField(\"s3_spin_up_time\", IntegerType(), True),\n",
    "    StructField(\"s4_start_stop_count\", IntegerType(), True),\n",
    "    StructField(\"s5_reallocated_sector_count\", IntegerType(), True),\n",
    "    StructField(\"s7_seek_error_rate\", IntegerType(), True),\n",
    "    StructField(\"s8_seek_time_performance\", IntegerType(), True),\n",
    "    StructField(\"s9_power_on_hours\", IntegerType(), True),\n",
    "    StructField(\"s10_spin_retry_count\", IntegerType(), True),\n",
    "    StructField(\"s12_power_cycle_count\", IntegerType(), True),\n",
    "    StructField(\"s173_wear_leveling_count\", IntegerType(), True),\n",
    "    StructField(\"s174_unexpected_power_loss_count\", IntegerType(), True),\n",
    "    StructField(\"s183_sata_downshift_count\", IntegerType(), True),\n",
    "    StructField(\"s187_reported_uncorrectable_errors\", IntegerType(), True),\n",
    "    StructField(\"s188_command_timeout\", IntegerType(), True),\n",
    "    StructField(\"s189_high_fly_writes\", IntegerType(), True),\n",
    "    StructField(\"s190_airflow_temperature_cel\", IntegerType(), True),\n",
    "    StructField(\"s191_g_sense_error_rate\", IntegerType(), True),\n",
    "    StructField(\"s192_power_off_retract_count\", IntegerType(), True),\n",
    "    StructField(\"s193_load_unload_cycle_count\", IntegerType(), True),\n",
    "    StructField(\"s194_temperature_celsius\", IntegerType(), True),\n",
    "    StructField(\"s195_hardware_ecc_recovered\", IntegerType(), True),\n",
    "    StructField(\"s196_reallocated_event_count\", IntegerType(), True),\n",
    "    StructField(\"s197_current_pending_sector\", IntegerType(), True),\n",
    "    StructField(\"s198_offline_uncorrectable\", IntegerType(), True),\n",
    "    StructField(\"s199_udma_crc_error_count\", IntegerType(), True),\n",
    "    StructField(\"s200_multi_zone_error_rate\", IntegerType(), True),\n",
    "    StructField(\"s220_disk_shift\", IntegerType(), True),\n",
    "    StructField(\"s222_loaded_hours\", IntegerType(), True),\n",
    "    StructField(\"s223_load_retry_count\", IntegerType(), True),\n",
    "    StructField(\"s226_load_in_time\", IntegerType(), True),\n",
    "    StructField(\"s240_head_flying_hours\", IntegerType(), True),\n",
    "    StructField(\"s241_total_lbas_written\", IntegerType(), True),\n",
    "    StructField(\"s242_total_lbas_read\", IntegerType(), True)\n",
    "])\n",
    "\n",
    "#read from csv file\n",
    "#drivedata = spark.readStream.csv(\"streaming_data_dir/drivedata-small.csv\", schema=schema, header=True)\n",
    "\n",
    "# Read the CSV files as a data stream\n",
    "streamingData = spark.readStream.schema(schema).option(\"maxFilesPerTrigger\", 1).csv(\"streaming_data_dir\")\n",
    "# print true if both are true\n",
    "print((streamingData.schema == schema)==( streamingData.isStreaming == True))"
   ]
  },
  {
   "cell_type": "markdown",
   "metadata": {},
   "source": [
    "# First Query\n",
    "\n",
    "- Size = 30 days\n",
    "- Slide = 1 day\n",
    "- For every vault $v$, count the number of failures $NF_v$ in a sliding window $W$\n",
    "- For a given day $i$, $NF_v^i$ is the count of failures in the window that starts at $i-31$ (included) and ends at $i-1$ (included)\n",
    "- The first window closes at day 0: you can assume 0 failures for every day $i <= 0$\n",
    "- Each batch of input data will contain the identifiers of 5 vaults: you are to return the current value of $NF_v$ for those vaults"
   ]
  },
  {
   "cell_type": "code",
   "execution_count": 15,
   "metadata": {},
   "outputs": [
    {
     "name": "stderr",
     "output_type": "stream",
     "text": [
      "24/01/26 16:06:10 WARN ResolveWriteToStream: Temporary checkpoint location created which is deleted normally when the query didn't fail: /private/var/folders/p0/qbnst5tj08g1z35zyllsm5vc0000gn/T/temporary-8e16d53e-195d-44ee-86c4-c9b438f75afc. If it's required to delete it under any circumstances, please set spark.sql.streaming.forceDeleteTempCheckpointLocation to true. Important to know deleting temp checkpoint folder is best effort.\n",
      "24/01/26 16:06:10 WARN ResolveWriteToStream: spark.sql.adaptive.enabled is not supported in streaming DataFrames/Datasets and will be disabled.\n"
     ]
    },
    {
     "name": "stderr",
     "output_type": "stream",
     "text": [
      "[Stage 6:==============>                                            (1 + 3) / 4]\r"
     ]
    }
   ],
   "source": [
    "\n",
    "# Apply a window function to the streaming data\n",
    "windowedData = streamingData \\\n",
    "    .withWatermark(\"date\", \"31 days\") \\\n",
    "    .groupBy(\n",
    "        streamingData.vault_id,\n",
    "        window(streamingData.date, \"30 days\", \"1 day\"),\n",
    "        streamingData.model\n",
    "    ) \\\n",
    "    .agg(_sum(\"failure\").alias(\"total_failures\"))\n",
    "\n",
    "# Select only the date and vault_id fields\n",
    "selectedData = windowedData.select(\"window.start\", \"vault_id\", \"total_failures\")\n",
    "filteredData = selectedData.filter(selectedData.total_failures > 0)\n",
    "\n",
    "# Write the windowed data stream out to a memory sink for testing\n",
    "query = filteredData \\\n",
    "    .writeStream \\\n",
    "    .outputMode(\"complete\") \\\n",
    "    .format(\"console\") \\\n",
    "    .queryName(\"filteredData\") \\\n",
    "    .option(\"numRows\", 50) \\\n",
    "    .option(\"truncate\", \"false\") \\\n",
    "    .start()\n",
    "\n"
   ]
  },
  {
   "cell_type": "code",
   "execution_count": null,
   "metadata": {},
   "outputs": [],
   "source": [
    "query.awaitTermination()"
   ]
  },
  {
   "cell_type": "code",
   "execution_count": 69,
   "metadata": {},
   "outputs": [],
   "source": [
    "query.stop()"
   ]
  },
  {
   "cell_type": "markdown",
   "metadata": {},
   "source": [
    "# Second query"
   ]
  },
  {
   "cell_type": "markdown",
   "metadata": {},
   "source": [
    "- For each reading at day $i$ regarding a drive $d$ belonging to vault $v$, add $NF_v^i$ to the reading\n",
    "- Rescale the smart values within the provided ranges\n",
    "- Compute dynamic K-means clustering:\n",
    "    - Assign incoming readings to the nearest centroid\n",
    "    - At the end of one day, which is marked by a ```day_end``` flag in the batch, update the centroids positions with the average coordinates of all the readings currently associated to that centroid\n",
    "    - The initial coordinates of centroids are provided \n",
    "    - Each batch of input data will contain a list of cluster identifiers ($0 - 49$) \n",
    "    - Return the number of drives associated to each of those clusters"
   ]
  },
  {
   "cell_type": "markdown",
   "metadata": {},
   "source": [
    "## Our preliminary approach\n",
    "- Use data stream from folder with CSV file\n",
    "- Batch by day, because there are no day_end flags\n",
    "- Normalize the data within the given ranges\n",
    "- Start KMeans Model initialized by CSV centers\n",
    "- Return the assigned labels for the batched data (```model.transform(dstream)```)\n",
    "- Count the drives (entries) by label ($0-49$)\n",
    "- Return new centers after end of day (```model.train(dstream)```) and (```model.clusterCenters```)"
   ]
  },
  {
   "cell_type": "markdown",
   "metadata": {},
   "source": [
    "we use min max scaling:\n",
    "$$\n",
    "x_{\\text {scaled }}=\\frac{x-x_{\\min }}{x_{\\max }-x_{\\min }}\n",
    "$$\n",
    "and scale it to the desired range with data from the ```norm.csv```\n",
    "by multiplying with the difference from (```upper_thresh```-```lower_thresh```) and adding the lower_thresh."
   ]
  },
  {
   "cell_type": "code",
   "execution_count": 3,
   "metadata": {},
   "outputs": [
    {
     "name": "stdout",
     "output_type": "stream",
     "text": [
      "True\n"
     ]
    }
   ],
   "source": [
    "# Import necessary libraries\n",
    "from pyspark.sql import SparkSession\n",
    "from pyspark.sql.types import StructType, StructField, StringType, IntegerType, TimestampType\n",
    "#from pyspark.sql.functions import *\n",
    "from pyspark.sql.functions import window, col, sum as _sum\n",
    "\n",
    "from pyspark.mllib.linalg import Vectors\n",
    "from pyspark.mllib.clustering import StreamingKMeans\n",
    "\n",
    "schema = StructType([\n",
    "    StructField(\"date\", TimestampType(), True),\n",
    "    StructField(\"serial_number\", StringType(), True),\n",
    "    StructField(\"model\", StringType(), True),\n",
    "    StructField(\"failure\", IntegerType(), True),\n",
    "    StructField(\"vault_id\", IntegerType(), True),\n",
    "    StructField(\"s1_read_error_rate\", IntegerType(), True),\n",
    "    StructField(\"s2_throughput_performance\", IntegerType(), True),\n",
    "    StructField(\"s3_spin_up_time\", IntegerType(), True),\n",
    "    StructField(\"s4_start_stop_count\", IntegerType(), True),\n",
    "    StructField(\"s5_reallocated_sector_count\", IntegerType(), True),\n",
    "    StructField(\"s7_seek_error_rate\", IntegerType(), True),\n",
    "    StructField(\"s8_seek_time_performance\", IntegerType(), True),\n",
    "    StructField(\"s9_power_on_hours\", IntegerType(), True),\n",
    "    StructField(\"s10_spin_retry_count\", IntegerType(), True),\n",
    "    StructField(\"s12_power_cycle_count\", IntegerType(), True),\n",
    "    StructField(\"s173_wear_leveling_count\", IntegerType(), True),\n",
    "    StructField(\"s174_unexpected_power_loss_count\", IntegerType(), True),\n",
    "    StructField(\"s183_sata_downshift_count\", IntegerType(), True),\n",
    "    StructField(\"s187_reported_uncorrectable_errors\", IntegerType(), True),\n",
    "    StructField(\"s188_command_timeout\", IntegerType(), True),\n",
    "    StructField(\"s189_high_fly_writes\", IntegerType(), True),\n",
    "    StructField(\"s190_airflow_temperature_cel\", IntegerType(), True),\n",
    "    StructField(\"s191_g_sense_error_rate\", IntegerType(), True),\n",
    "    StructField(\"s192_power_off_retract_count\", IntegerType(), True),\n",
    "    StructField(\"s193_load_unload_cycle_count\", IntegerType(), True),\n",
    "    StructField(\"s194_temperature_celsius\", IntegerType(), True),\n",
    "    StructField(\"s195_hardware_ecc_recovered\", IntegerType(), True),\n",
    "    StructField(\"s196_reallocated_event_count\", IntegerType(), True),\n",
    "    StructField(\"s197_current_pending_sector\", IntegerType(), True),\n",
    "    StructField(\"s198_offline_uncorrectable\", IntegerType(), True),\n",
    "    StructField(\"s199_udma_crc_error_count\", IntegerType(), True),\n",
    "    StructField(\"s200_multi_zone_error_rate\", IntegerType(), True),\n",
    "    StructField(\"s220_disk_shift\", IntegerType(), True),\n",
    "    StructField(\"s222_loaded_hours\", IntegerType(), True),\n",
    "    StructField(\"s223_load_retry_count\", IntegerType(), True),\n",
    "    StructField(\"s226_load_in_time\", IntegerType(), True),\n",
    "    StructField(\"s240_head_flying_hours\", IntegerType(), True),\n",
    "    StructField(\"s241_total_lbas_written\", IntegerType(), True),\n",
    "    StructField(\"s242_total_lbas_read\", IntegerType(), True)\n",
    "])\n",
    "\n",
    "#read from csv file\n",
    "#drivedata = spark.readStream.csv(\"streaming_data_dir/drivedata-small.csv\", schema=schema, header=True)\n",
    "spark = SparkSession.builder.appName(\"StreamingFromCSV\").getOrCreate()\n",
    "\n",
    "# Read the CSV files as a data stream\n",
    "streamingData = spark.readStream.schema(schema).option(\"maxFilesPerTrigger\", 1).csv(\"streaming_data_dir\")\n",
    "# print true if both are true\n",
    "print((streamingData.schema == schema)==( streamingData.isStreaming == True))\n"
   ]
  },
  {
   "cell_type": "code",
   "execution_count": 4,
   "metadata": {},
   "outputs": [
    {
     "name": "stderr",
     "output_type": "stream",
     "text": [
      "24/01/31 10:08:55 WARN SparkStringUtils: Truncated the string representation of a plan since it was too large. This behavior can be adjusted by setting 'spark.sql.debug.maxToStringFields'.\n",
      "                                                                                \r"
     ]
    }
   ],
   "source": [
    "# Load initial center points from a CSV file\n",
    "centers_df = spark.read.csv(\"cluster_data_dir/clusters.csv\", header=True, inferSchema=True)\n",
    "\n",
    "# drop _c35: string (nullable = true) from cluster_centers\n",
    "centers_df = centers_df.drop(\"_c35\")\n",
    "centers_df = centers_df.drop(\"cluster\")\n",
    "# Convert the DataFrame to a list of DenseVector\n",
    "centers = [Vectors.dense(row) for row in centers_df.collect()]\n",
    "\n",
    "# we load the norm data from csv\n",
    "norm_data = spark.read.csv(\"cluster_data_dir/norm.csv\", header=True, inferSchema=True)\n",
    "\n",
    "# Define the model\n",
    "#model = StreamingKMeans(k=len(centers), decayFactor=1.0)"
   ]
  },
  {
   "cell_type": "code",
   "execution_count": 5,
   "metadata": {},
   "outputs": [],
   "source": [
    "from pyspark.sql.functions import col\n",
    "\n",
    "# create list of weights for each center point\n",
    "#weights = [1.0 for center in centers]\n",
    "\n",
    "#model.setInitialCenters(centers, weights)\n",
    "\n",
    "# List of columns to ignore\n",
    "ignore_columns = ['date', 'serial_number', 'model', 'failure', 'vault_id']\n",
    "\n",
    "# Get the list of columns to normalize\n",
    "columns_to_normalize = [col for col in streamingData.columns if col not in ignore_columns]\n"
   ]
  },
  {
   "cell_type": "code",
   "execution_count": 6,
   "metadata": {},
   "outputs": [],
   "source": [
    "from pyspark.sql.functions import max, min"
   ]
  },
  {
   "cell_type": "code",
   "execution_count": 7,
   "metadata": {},
   "outputs": [],
   "source": [
    "# fall back values if no data is available in the current batch\n",
    "batchData = spark.read.format(\"csv\").option(\"header\", \"true\").load(\"cluster_data_dir/drivedata-tiny.csv\")\n",
    "max_values = {column: batchData.agg(max(column)).first()[0] for column in columns_to_normalize}\n",
    "min_values = {column: batchData.agg(min(column)).first()[0] for column in columns_to_normalize}\n"
   ]
  },
  {
   "cell_type": "code",
   "execution_count": 8,
   "metadata": {},
   "outputs": [
    {
     "data": {
      "text/plain": [
       "'103'"
      ]
     },
     "execution_count": 8,
     "metadata": {},
     "output_type": "execute_result"
    }
   ],
   "source": [
    "max_values[\"s2_throughput_performance\"]"
   ]
  },
  {
   "cell_type": "code",
   "execution_count": 35,
   "metadata": {},
   "outputs": [
    {
     "name": "stderr",
     "output_type": "stream",
     "text": [
      "24/01/30 20:23:32 WARN ResolveWriteToStream: Temporary checkpoint location created which is deleted normally when the query didn't fail: /private/var/folders/p0/qbnst5tj08g1z35zyllsm5vc0000gn/T/temporary-62aaace0-218b-413f-97f6-6402c6e462df. If it's required to delete it under any circumstances, please set spark.sql.streaming.forceDeleteTempCheckpointLocation to true. Important to know deleting temp checkpoint folder is best effort.\n",
      "24/01/30 20:23:32 WARN ResolveWriteToStream: spark.sql.adaptive.enabled is not supported in streaming DataFrames/Datasets and will be disabled.\n",
      "                                                                                \r"
     ]
    },
    {
     "name": "stdout",
     "output_type": "stream",
     "text": [
      "-------------------------------------------\n",
      "Batch: 0\n",
      "-------------------------------------------\n"
     ]
    },
    {
     "name": "stderr",
     "output_type": "stream",
     "text": [
      "ERROR:root:KeyboardInterrupt while sending command.\n",
      "Traceback (most recent call last):\n",
      "  File \"/Users/jonas/Documents/Uni/Erasmus/Cloud Computing for Big Data/Cloud-Computing-and-Big-Data-Applications/.conda/lib/python3.9/site-packages/py4j/java_gateway.py\", line 1038, in send_command\n",
      "    response = connection.send_command(command)\n",
      "  File \"/Users/jonas/Documents/Uni/Erasmus/Cloud Computing for Big Data/Cloud-Computing-and-Big-Data-Applications/.conda/lib/python3.9/site-packages/py4j/clientserver.py\", line 511, in send_command\n",
      "    answer = smart_decode(self.stream.readline()[:-1])\n",
      "  File \"/Users/jonas/Documents/Uni/Erasmus/Cloud Computing for Big Data/Cloud-Computing-and-Big-Data-Applications/.conda/lib/python3.9/socket.py\", line 704, in readinto\n",
      "    return self._sock.recv_into(b)\n",
      "KeyboardInterrupt\n"
     ]
    },
    {
     "ename": "KeyboardInterrupt",
     "evalue": "",
     "output_type": "error",
     "traceback": [
      "\u001b[0;31m---------------------------------------------------------------------------\u001b[0m",
      "\u001b[0;31mKeyboardInterrupt\u001b[0m                         Traceback (most recent call last)",
      "Cell \u001b[0;32mIn[35], line 45\u001b[0m\n\u001b[1;32m     38\u001b[0m \u001b[38;5;66;03m# Start the streaming query\u001b[39;00m\n\u001b[1;32m     39\u001b[0m query \u001b[38;5;241m=\u001b[39m streamingData \\\n\u001b[1;32m     40\u001b[0m     \u001b[38;5;241m.\u001b[39mwriteStream \\\n\u001b[1;32m     41\u001b[0m     \u001b[38;5;241m.\u001b[39moutputMode(\u001b[38;5;124m\"\u001b[39m\u001b[38;5;124mupdate\u001b[39m\u001b[38;5;124m\"\u001b[39m) \\\n\u001b[1;32m     42\u001b[0m     \u001b[38;5;241m.\u001b[39mformat(\u001b[38;5;124m\"\u001b[39m\u001b[38;5;124mconsole\u001b[39m\u001b[38;5;124m\"\u001b[39m) \\\n\u001b[1;32m     43\u001b[0m     \u001b[38;5;241m.\u001b[39mstart()\n\u001b[0;32m---> 45\u001b[0m \u001b[43mquery\u001b[49m\u001b[38;5;241;43m.\u001b[39;49m\u001b[43mawaitTermination\u001b[49m\u001b[43m(\u001b[49m\u001b[43m)\u001b[49m\n",
      "File \u001b[0;32m~/Documents/Uni/Erasmus/Cloud Computing for Big Data/Cloud-Computing-and-Big-Data-Applications/.conda/lib/python3.9/site-packages/pyspark/sql/streaming/query.py:221\u001b[0m, in \u001b[0;36mStreamingQuery.awaitTermination\u001b[0;34m(self, timeout)\u001b[0m\n\u001b[1;32m    219\u001b[0m     \u001b[38;5;28;01mreturn\u001b[39;00m \u001b[38;5;28mself\u001b[39m\u001b[38;5;241m.\u001b[39m_jsq\u001b[38;5;241m.\u001b[39mawaitTermination(\u001b[38;5;28mint\u001b[39m(timeout \u001b[38;5;241m*\u001b[39m \u001b[38;5;241m1000\u001b[39m))\n\u001b[1;32m    220\u001b[0m \u001b[38;5;28;01melse\u001b[39;00m:\n\u001b[0;32m--> 221\u001b[0m     \u001b[38;5;28;01mreturn\u001b[39;00m \u001b[38;5;28;43mself\u001b[39;49m\u001b[38;5;241;43m.\u001b[39;49m\u001b[43m_jsq\u001b[49m\u001b[38;5;241;43m.\u001b[39;49m\u001b[43mawaitTermination\u001b[49m\u001b[43m(\u001b[49m\u001b[43m)\u001b[49m\n",
      "File \u001b[0;32m~/Documents/Uni/Erasmus/Cloud Computing for Big Data/Cloud-Computing-and-Big-Data-Applications/.conda/lib/python3.9/site-packages/py4j/java_gateway.py:1321\u001b[0m, in \u001b[0;36mJavaMember.__call__\u001b[0;34m(self, *args)\u001b[0m\n\u001b[1;32m   1314\u001b[0m args_command, temp_args \u001b[38;5;241m=\u001b[39m \u001b[38;5;28mself\u001b[39m\u001b[38;5;241m.\u001b[39m_build_args(\u001b[38;5;241m*\u001b[39margs)\n\u001b[1;32m   1316\u001b[0m command \u001b[38;5;241m=\u001b[39m proto\u001b[38;5;241m.\u001b[39mCALL_COMMAND_NAME \u001b[38;5;241m+\u001b[39m\\\n\u001b[1;32m   1317\u001b[0m     \u001b[38;5;28mself\u001b[39m\u001b[38;5;241m.\u001b[39mcommand_header \u001b[38;5;241m+\u001b[39m\\\n\u001b[1;32m   1318\u001b[0m     args_command \u001b[38;5;241m+\u001b[39m\\\n\u001b[1;32m   1319\u001b[0m     proto\u001b[38;5;241m.\u001b[39mEND_COMMAND_PART\n\u001b[0;32m-> 1321\u001b[0m answer \u001b[38;5;241m=\u001b[39m \u001b[38;5;28;43mself\u001b[39;49m\u001b[38;5;241;43m.\u001b[39;49m\u001b[43mgateway_client\u001b[49m\u001b[38;5;241;43m.\u001b[39;49m\u001b[43msend_command\u001b[49m\u001b[43m(\u001b[49m\u001b[43mcommand\u001b[49m\u001b[43m)\u001b[49m\n\u001b[1;32m   1322\u001b[0m return_value \u001b[38;5;241m=\u001b[39m get_return_value(\n\u001b[1;32m   1323\u001b[0m     answer, \u001b[38;5;28mself\u001b[39m\u001b[38;5;241m.\u001b[39mgateway_client, \u001b[38;5;28mself\u001b[39m\u001b[38;5;241m.\u001b[39mtarget_id, \u001b[38;5;28mself\u001b[39m\u001b[38;5;241m.\u001b[39mname)\n\u001b[1;32m   1325\u001b[0m \u001b[38;5;28;01mfor\u001b[39;00m temp_arg \u001b[38;5;129;01min\u001b[39;00m temp_args:\n",
      "File \u001b[0;32m~/Documents/Uni/Erasmus/Cloud Computing for Big Data/Cloud-Computing-and-Big-Data-Applications/.conda/lib/python3.9/site-packages/py4j/java_gateway.py:1038\u001b[0m, in \u001b[0;36mGatewayClient.send_command\u001b[0;34m(self, command, retry, binary)\u001b[0m\n\u001b[1;32m   1036\u001b[0m connection \u001b[38;5;241m=\u001b[39m \u001b[38;5;28mself\u001b[39m\u001b[38;5;241m.\u001b[39m_get_connection()\n\u001b[1;32m   1037\u001b[0m \u001b[38;5;28;01mtry\u001b[39;00m:\n\u001b[0;32m-> 1038\u001b[0m     response \u001b[38;5;241m=\u001b[39m \u001b[43mconnection\u001b[49m\u001b[38;5;241;43m.\u001b[39;49m\u001b[43msend_command\u001b[49m\u001b[43m(\u001b[49m\u001b[43mcommand\u001b[49m\u001b[43m)\u001b[49m\n\u001b[1;32m   1039\u001b[0m     \u001b[38;5;28;01mif\u001b[39;00m binary:\n\u001b[1;32m   1040\u001b[0m         \u001b[38;5;28;01mreturn\u001b[39;00m response, \u001b[38;5;28mself\u001b[39m\u001b[38;5;241m.\u001b[39m_create_connection_guard(connection)\n",
      "File \u001b[0;32m~/Documents/Uni/Erasmus/Cloud Computing for Big Data/Cloud-Computing-and-Big-Data-Applications/.conda/lib/python3.9/site-packages/py4j/clientserver.py:511\u001b[0m, in \u001b[0;36mClientServerConnection.send_command\u001b[0;34m(self, command)\u001b[0m\n\u001b[1;32m    509\u001b[0m \u001b[38;5;28;01mtry\u001b[39;00m:\n\u001b[1;32m    510\u001b[0m     \u001b[38;5;28;01mwhile\u001b[39;00m \u001b[38;5;28;01mTrue\u001b[39;00m:\n\u001b[0;32m--> 511\u001b[0m         answer \u001b[38;5;241m=\u001b[39m smart_decode(\u001b[38;5;28;43mself\u001b[39;49m\u001b[38;5;241;43m.\u001b[39;49m\u001b[43mstream\u001b[49m\u001b[38;5;241;43m.\u001b[39;49m\u001b[43mreadline\u001b[49m\u001b[43m(\u001b[49m\u001b[43m)\u001b[49m[:\u001b[38;5;241m-\u001b[39m\u001b[38;5;241m1\u001b[39m])\n\u001b[1;32m    512\u001b[0m         logger\u001b[38;5;241m.\u001b[39mdebug(\u001b[38;5;124m\"\u001b[39m\u001b[38;5;124mAnswer received: \u001b[39m\u001b[38;5;132;01m{0}\u001b[39;00m\u001b[38;5;124m\"\u001b[39m\u001b[38;5;241m.\u001b[39mformat(answer))\n\u001b[1;32m    513\u001b[0m         \u001b[38;5;66;03m# Happens when a the other end is dead. There might be an empty\u001b[39;00m\n\u001b[1;32m    514\u001b[0m         \u001b[38;5;66;03m# answer before the socket raises an error.\u001b[39;00m\n",
      "File \u001b[0;32m~/Documents/Uni/Erasmus/Cloud Computing for Big Data/Cloud-Computing-and-Big-Data-Applications/.conda/lib/python3.9/socket.py:704\u001b[0m, in \u001b[0;36mSocketIO.readinto\u001b[0;34m(self, b)\u001b[0m\n\u001b[1;32m    702\u001b[0m \u001b[38;5;28;01mwhile\u001b[39;00m \u001b[38;5;28;01mTrue\u001b[39;00m:\n\u001b[1;32m    703\u001b[0m     \u001b[38;5;28;01mtry\u001b[39;00m:\n\u001b[0;32m--> 704\u001b[0m         \u001b[38;5;28;01mreturn\u001b[39;00m \u001b[38;5;28;43mself\u001b[39;49m\u001b[38;5;241;43m.\u001b[39;49m\u001b[43m_sock\u001b[49m\u001b[38;5;241;43m.\u001b[39;49m\u001b[43mrecv_into\u001b[49m\u001b[43m(\u001b[49m\u001b[43mb\u001b[49m\u001b[43m)\u001b[49m\n\u001b[1;32m    705\u001b[0m     \u001b[38;5;28;01mexcept\u001b[39;00m timeout:\n\u001b[1;32m    706\u001b[0m         \u001b[38;5;28mself\u001b[39m\u001b[38;5;241m.\u001b[39m_timeout_occurred \u001b[38;5;241m=\u001b[39m \u001b[38;5;28;01mTrue\u001b[39;00m\n",
      "\u001b[0;31mKeyboardInterrupt\u001b[0m: "
     ]
    },
    {
     "name": "stdout",
     "output_type": "stream",
     "text": [
      "+-------------------+--------------+--------------------+-------+--------+--------------------+-------------------------+----------------+-------------------+---------------------------+--------------------+------------------------+-------------------+--------------------+---------------------+------------------------+--------------------------------+-------------------------+----------------------------------+--------------------+--------------------+----------------------------+-----------------------+----------------------------+----------------------------+------------------------+---------------------------+----------------------------+---------------------------+--------------------------+-------------------------+--------------------------+---------------+-----------------+---------------------+-----------------+----------------------+-----------------------+--------------------+\n",
      "|               date| serial_number|               model|failure|vault_id|  s1_read_error_rate|s2_throughput_performance| s3_spin_up_time|s4_start_stop_count|s5_reallocated_sector_count|  s7_seek_error_rate|s8_seek_time_performance|  s9_power_on_hours|s10_spin_retry_count|s12_power_cycle_count|s173_wear_leveling_count|s174_unexpected_power_loss_count|s183_sata_downshift_count|s187_reported_uncorrectable_errors|s188_command_timeout|s189_high_fly_writes|s190_airflow_temperature_cel|s191_g_sense_error_rate|s192_power_off_retract_count|s193_load_unload_cycle_count|s194_temperature_celsius|s195_hardware_ecc_recovered|s196_reallocated_event_count|s197_current_pending_sector|s198_offline_uncorrectable|s199_udma_crc_error_count|s200_multi_zone_error_rate|s220_disk_shift|s222_loaded_hours|s223_load_retry_count|s226_load_in_time|s240_head_flying_hours|s241_total_lbas_written|s242_total_lbas_read|\n",
      "+-------------------+--------------+--------------------+-------+--------+--------------------+-------------------------+----------------+-------------------+---------------------------+--------------------+------------------------+-------------------+--------------------+---------------------+------------------------+--------------------------------+-------------------------+----------------------------------+--------------------+--------------------+----------------------------+-----------------------+----------------------------+----------------------------+------------------------+---------------------------+----------------------------+---------------------------+--------------------------+-------------------------+--------------------------+---------------+-----------------+---------------------+-----------------+----------------------+-----------------------+--------------------+\n",
      "|               NULL| serial_number|               model|   NULL|    NULL|                NULL|                     NULL|            NULL|               NULL|                       NULL|                NULL|                    NULL|               NULL|                NULL|                 NULL|                    NULL|                            NULL|                     NULL|                              NULL|                NULL|                NULL|                        NULL|                   NULL|                        NULL|                        NULL|                    NULL|                       NULL|                        NULL|                       NULL|                      NULL|                     NULL|                      NULL|           NULL|             NULL|                 NULL|             NULL|                  NULL|                   NULL|                NULL|\n",
      "|2023-04-01 00:00:00|PL2331LAGUJ28J|HGST HMS5C4040ALE640|      0|    1000|                 0.0|                1767583.0| 6.5384039264E10|       5.19206839E8|                        0.0|                 0.0|                 85050.0|3.86062697716215E14|                 0.0|           1.586131E7|                    NULL|                            NULL|                     NULL|                              NULL|                NULL|                NULL|                        NULL|                   NULL|              1.056854751E11|         1.24514264582225E14|                 35774.0|                       NULL|                         0.0|                        0.0|                       0.0|                      0.0|                      NULL|           NULL|             NULL|                 NULL|             NULL|                  NULL|                   NULL|                NULL|\n",
      "|2023-04-01 00:00:00|PL2331LAGM89GJ|HGST HMS5C4040BLE640|      0|    1000|                 0.0|                1716100.0|  6.295812968E10|       2.94686583E8|                        0.0|                 0.0|                 85050.0|4.85590505221815E14|                 0.0|            9796953.0|                    NULL|                            NULL|                     NULL|                              NULL|                NULL|                NULL|                        NULL|                   NULL|              2.268470506E11|         2.67261831316305E14|                 37374.0|                       NULL|                         0.0|                        0.0|                       0.0|              7.9938732E7|                      NULL|           NULL|             NULL|                 NULL|             NULL|                  NULL|                   NULL|                NULL|\n",
      "|2023-04-01 00:00:00|PL2331LAGNZH9J|HGST HMS5C4040ALE640|      0|    1000|                 0.0|                1750422.0|   6.35357272E10|       1.82426455E8|                        0.0|                 0.0|                 85050.0|4.85615671871415E14|                 0.0|            6065041.0|                    NULL|                            NULL|                     NULL|                              NULL|                NULL|                NULL|                        NULL|                   NULL|              2.751080479E11|         3.24120946133073E14|                 32574.0|                       NULL|                         0.0|                        0.0|                       0.0|             3.46401172E8|                      NULL|           NULL|             NULL|                 NULL|             NULL|                  NULL|                   NULL|                NULL|\n",
      "|2023-04-01 00:00:00|PL1331LAGSRA3H|HGST HMS5C4040ALE640|      0|    1000|                 0.0|                1716100.0|  6.122533712E10|       2.52589035E8|                        0.0|                 0.0|                 85050.0|2.94959426164215E14|                 0.0|            8397486.0|                    NULL|                            NULL|                     NULL|                              NULL|                NULL|                NULL|                        NULL|                   NULL|              1.236051703E11|         1.45626509746257E14|                 32574.0|                       NULL|                         0.0|                        0.0|                       0.0|                      0.0|                      NULL|           NULL|             NULL|                 NULL|             NULL|                  NULL|                   NULL|                NULL|\n",
      "|2023-04-01 00:00:00|      W300R7M8|         ST4000DM000|      0|    1000|7.852471763589874E24|                     NULL|             0.0|       2.52589035E8|                        0.0|4.586099390250284E31|                    NULL|4.34747581367415E14|                 0.0|            3732596.0|                    NULL|                            NULL|                      0.0|                               0.0|                 0.0|                 0.0|                     27978.0|                    0.0|                  4.072658E8|        2.234779133477969E15|                 29374.0|                       NULL|                        NULL|                        0.0|                       0.0|                      0.0|                      NULL|           NULL|             NULL|                 NULL|             NULL|    3.9251778040075E14|                   NULL|                NULL|\n",
      "|2023-04-01 00:00:00|      W300SS9X|         ST4000DM000|      0|    1000|6.397793487367916E24|                     NULL|             0.0|       2.52589035E8|                        0.0|1.091139204842407E32|                    NULL|4.34760164692215E14|                 0.0|            3732596.0|                    NULL|                            NULL|                      0.0|                               0.0|                 0.0|                 0.0|                     31020.0|                    0.0|                         0.0|        3.271918177161041E15|                 32574.0|                       NULL|                        NULL|                        0.0|                       0.0|                      0.0|                      NULL|           NULL|             NULL|                 NULL|             NULL|   3.92421171130925E14|                   NULL|                NULL|\n",
      "|2023-04-01 00:00:00|      Z3029G5N|         ST4000DM000|      0|    1001|5.362330691990938E24|                     NULL|             0.0|       2.24524003E8|                        0.0|9.351790450921285E31|                    NULL|4.49230988212215E14|                 0.0|            7464508.0|                    NULL|                            NULL|                      0.0|                               0.0|                 0.0|                 0.0|                     29499.0|                    0.0|                         0.0|        1.385083238747912E16|                 30974.0|                       NULL|                        NULL|                        0.0|                       0.0|                      0.0|                      NULL|           NULL|             NULL|                 NULL|             NULL|     4.045541588413E14|                   NULL|                NULL|\n",
      "|2023-04-01 00:00:00|      Z302AKT8|         ST4000DM000|      0|    1001|6.180781579671354E23|                     NULL|             0.0|       2.38556519E8|                        0.0|1.141457324521735...|                    NULL|4.49054821665015E14|                 0.0|            7930997.0|                    NULL|                            NULL|              1.5842412E7|                               0.0|                 0.0|                 0.0|                     29499.0|                    0.0|                         0.0|        1.322370274135662...|                 30974.0|                       NULL|                        NULL|                        0.0|                       0.0|                      0.0|                      NULL|           NULL|             NULL|                 NULL|             NULL|   4.04525744350175E14|                   NULL|                NULL|\n",
      "|2023-04-01 00:00:00|      Z302EL5T|         ST4000DM000|      0|    1001|3.939241972388834...|                     NULL|             0.0|       3.92914195E8|                        0.0|1.390024477928714E32|                    NULL|4.49142904938615E14|                 0.0|          1.3062376E7|                    NULL|                            NULL|                2640402.0|                               0.0|                 0.0|                 0.0|                     23415.0|                    0.0|                 1.0181645E9|        1.344634096308641...|                 24574.0|                       NULL|                        NULL|                        0.0|                       0.0|                      0.0|                      NULL|           NULL|             NULL|                 NULL|             NULL|   4.04616670721775E14|                   NULL|                NULL|\n",
      "|2023-04-01 00:00:00|      Z302ET0P|         ST4000DM000|      0|    1001|1.412998298419399E25|                     NULL|             0.0|       1.82426455E8|                        0.0|1.365421287723685E32|                    NULL|4.49199529900215E14|                 0.0|            6065041.0|                    NULL|                            NULL|                3960603.0|                               0.0|                 0.0|                 0.0|                     27978.0|                    0.0|                         0.0|        1.298762945452244...|                 29374.0|                       NULL|                        NULL|                        0.0|                       0.0|                      0.0|                      NULL|           NULL|             NULL|                 NULL|             NULL|   4.04639402314675E14|                   NULL|                NULL|\n",
      "|2023-04-01 00:00:00|      Z302F44S|         ST4000DM000|      0|    1001|8.119494153549175E24|                     NULL|             0.0|       1.82426455E8|                        0.0|3.395500315474676E32|                    NULL|4.49262446524215E14|                 0.0|            6065041.0|                    NULL|                            NULL|                1320201.0|                               0.0|                 0.0|                 0.0|                     27978.0|                    0.0|                         0.0|        1.364114940709998...|                 29374.0|                       NULL|                        NULL|                        0.0|                       0.0|                      0.0|                      NULL|           NULL|             NULL|                 NULL|             NULL|     4.046450852129E14|                   NULL|                NULL|\n",
      "|2023-04-01 00:00:00|      Z4D0ALAM|         ST6000DX000|      0|    1002|3.568686124992436E24|                     NULL|             0.0|       1.26296391E8|                        0.0|                NULL|                    NULL|4.41372701874615E14|                 0.0|            3732596.0|                    NULL|                            NULL|                      0.0|                               0.0|                 0.0|                 0.0|                     29499.0|   1.490693461925726E19|                         0.0|        2.277699367808110...|                 30974.0|       3.569334584454685...|                        NULL|                        0.0|                       0.0|                      0.0|                      NULL|           NULL|             NULL|                 NULL|             NULL|     3.962343958399E14|                   NULL|                NULL|\n",
      "|2023-04-01 00:00:00|      Z4D0ACLA|         ST6000DX000|      0|    1002|1.109449128122161...|                     NULL|             0.0|       1.96458971E8|                        0.0|                NULL|                    NULL|4.41397868524215E14|                 0.0|            6531530.0|                    NULL|                            NULL|                      0.0|                               0.0|                 0.0|                 0.0|                     43188.0|   4.767114829252109...|                         0.0|        2.424669383574996...|                 45374.0|       1.109650724104497...|                        NULL|                        0.0|                       0.0|                      0.0|                      NULL|           NULL|             NULL|                 NULL|             NULL|     3.958479587606E14|                   NULL|                NULL|\n",
      "|2023-04-01 00:00:00|      S3011FG7|         ST4000DM000|      0|    1003|1.309777337976854E25|                     NULL|             0.0|       1.68393939E8|                        0.0|1.102936310755071...|                    NULL|4.38604370418615E14|                 0.0|            5598552.0|                    NULL|                            NULL|                      0.0|                               0.0|                 0.0|                 0.0|                     24936.0|                    0.0|                  4.072658E8|        8.890414421439057E15|                 26174.0|                       NULL|                        NULL|                        0.0|                       0.0|                      0.0|                      NULL|           NULL|             NULL|                 NULL|             NULL|   3.95137596482475E14|                   NULL|                NULL|\n",
      "|2023-04-01 00:00:00|      S30112Q2|         ST4000DM000|      0|    1003|6.686361772915626E24|                     NULL|             0.0|       1.82426455E8|                        0.0|1.711625163631433...|                    NULL|4.38604370418615E14|                 0.0|            6065041.0|                    NULL|                            NULL|                1320201.0|                               0.0|                 0.0|                 0.0|                     26457.0|                    0.0|                  2.036329E8|        8.350852610371921E15|                 27774.0|                       NULL|                        NULL|                        0.0|                       0.0|                      0.0|                      NULL|           NULL|             NULL|                 NULL|             NULL|   3.95171693871825E14|                   NULL|                NULL|\n",
      "|2023-04-01 00:00:00|      Z3029A89|         ST4000DM000|      0|    1003|1.362292276781353E25|                     NULL|             0.0|       2.10491487E8|                        0.0|1.294199086265585...|                    NULL|4.38629537068215E14|                 0.0|            6998019.0|                    NULL|                            NULL|                      0.0|                               0.0|                 0.0|                 0.0|                     27978.0|                    0.0|                         0.0|        7.743395738152273E15|                 29374.0|                       NULL|                        NULL|                        0.0|                       0.0|                      0.0|                      NULL|           NULL|             NULL|                 NULL|             NULL|     3.952342057523E14|                   NULL|                NULL|\n",
      "|2023-04-01 00:00:00|      S300Z71B|         ST4000DM000|      0|    1004|8.044453405609284E24|                     NULL|             0.0|        8.4198843E7|                        0.0|1.039249254959216...|                    NULL|4.34464456559415E14|                 0.0|            2799618.0|                    NULL|                            NULL|                      0.0|                               0.0|                 0.0|                 0.0|                     26457.0|                    0.0|                  2.036329E8|        8.579008805269585E15|                 27774.0|                       NULL|                        NULL|                        0.0|                       0.0|                      0.0|                      NULL|           NULL|             NULL|                 NULL|             NULL|   3.91602833786525E14|                   NULL|                NULL|\n",
      "|2023-04-01 00:00:00|S2ZYJ9AFA09511|       ST500LM012 HN|      0|    1004|7.745692741729487...|                      0.0|2.12786926368E11|       2.66621551E8|                        0.0|                 0.0|                     0.0|2.45601334636215E14|                 0.0|            9796953.0|                    NULL|                            NULL|                     NULL|                              NULL|                NULL|                NULL|                        NULL|   1.961955069657444E15|                  4.072658E8|                        NULL|                 34174.0|                        0.0|                         0.0|                        0.0|                       0.0|                      0.0|      2.300258306016000...|           NULL|             NULL|    6.515664225773E12|             NULL|                  NULL|                   NULL|                NULL|\n",
      "|2023-04-01 00:00:00|      Z3029BAN|         ST4000DM000|      0|    1004|1.247935298134672...|                     NULL|             0.0|        9.8231359E7|                        0.0| 8.93293769272996E31|                    NULL|4.34288290012215E14|                 0.0|            3266107.0|                    NULL|                            NULL|                2640402.0|                               0.0|                 0.0|                 0.0|                     34062.0|                    0.0|                         0.0|        9.332332098622544E15|                 35774.0|                       NULL|                        NULL|                        0.0|                       0.0|                      0.0|                      NULL|           NULL|             NULL|                 NULL|             NULL|   3.91375517857525E14|                   NULL|                NULL|\n",
      "+-------------------+--------------+--------------------+-------+--------+--------------------+-------------------------+----------------+-------------------+---------------------------+--------------------+------------------------+-------------------+--------------------+---------------------+------------------------+--------------------------------+-------------------------+----------------------------------+--------------------+--------------------+----------------------------+-----------------------+----------------------------+----------------------------+------------------------+---------------------------+----------------------------+---------------------------+--------------------------+-------------------------+--------------------------+---------------+-----------------+---------------------+-----------------+----------------------+-----------------------+--------------------+\n",
      "only showing top 20 rows\n",
      "\n"
     ]
    }
   ],
   "source": [
    "from pyspark.sql.functions import col\n",
    "# Calculate the maximum and minimum values\n",
    "\n",
    "def min_max_normalization(df, column, norm_data, max_val=1, min_val=0):\n",
    "    # Get the min and max values of the column from norm_data\n",
    "    norm_row = norm_data.filter(norm_data['column'] == column).first()\n",
    "    if norm_row is not None:  # Check if a matching row was found\n",
    "        lower_thresh = norm_row['min']\n",
    "        upper_thresh = norm_row['max']\n",
    "        scaler = upper_thresh-lower_thresh\n",
    "        min_val = min(column)\n",
    "        max_val = max(column)\n",
    "        if not isinstance(min_val, int):\n",
    "            min_val =  0\n",
    "            \n",
    "        if not isinstance(max_val, int):\n",
    "            max_val =  1\n",
    "           \n",
    "\n",
    "        # Perform min-max normalization and rescaling\n",
    "        #normalized_column = (col(column)) / (dif)\n",
    "        normalized_column =  lower_thresh + scaler*((col(column) - min_val)/(max_val-min_val)) \n",
    "\n",
    "        \n",
    "        return normalized_column\n",
    "    else:\n",
    "        raise ValueError(f\"No normalization data found for column {column}\")\n",
    "\n",
    "\n",
    "# Apply min_max_normalization on all columns\n",
    "for column in columns_to_normalize:\n",
    "    \n",
    "    normalized_column = min_max_normalization(streamingData, column, norm_data, max_values[column],  min_values[column])\n",
    "    streamingData = streamingData.withColumn(column, normalized_column)\n",
    "\n",
    "# Start the streaming query\n",
    "query = streamingData \\\n",
    "    .writeStream \\\n",
    "    .outputMode(\"update\") \\\n",
    "    .format(\"console\") \\\n",
    "    .start()\n",
    "\n",
    "query.awaitTermination()"
   ]
  },
  {
   "cell_type": "code",
   "execution_count": 38,
   "metadata": {},
   "outputs": [],
   "source": [
    "query.stop()"
   ]
  },
  {
   "cell_type": "markdown",
   "metadata": {},
   "source": [
    "## KMeans"
   ]
  },
  {
   "cell_type": "markdown",
   "metadata": {},
   "source": [
    "### initial model"
   ]
  },
  {
   "cell_type": "code",
   "execution_count": null,
   "metadata": {},
   "outputs": [],
   "source": [
    "from pyspark.ml.clustering import KMeans\n",
    "from pyspark.ml.feature import VectorAssembler\n",
    "from pyspark.sql.functions import col\n",
    "from pyspark.ml.clustering import KMeansModel\n",
    "\n",
    "\n",
    "# Ensure all columns in centers_df are numeric and replace nulls with 0\n",
    "for column in centers_df.columns:\n",
    "    centers_df = centers_df.withColumn(column, col(column).cast(\"double\")).na.fill(0)\n",
    "\n",
    "# Assemble the features into a single vector\n",
    "assembler = VectorAssembler(inputCols=centers_df.columns, outputCol=\"features\")\n",
    "data = assembler.transform(centers_df)\n",
    "\n",
    "# Train an initial KMeans model on centers_df\n",
    "kmeans = KMeans(k=centers_df.count(), seed=1)  # Adjust the number of clusters k as needed\n",
    "kmeans.maxIter = 1  # Force the algorithm to train only 1 iteration\n",
    "initial_model = kmeans.fit(data.select('features'))\n",
    "\n",
    "# Save the model\n",
    "initial_model.save(\"/model/initial_model\")"
   ]
  },
  {
   "cell_type": "markdown",
   "metadata": {},
   "source": [
    "### return labels"
   ]
  },
  {
   "cell_type": "code",
   "execution_count": 53,
   "metadata": {},
   "outputs": [
    {
     "name": "stderr",
     "output_type": "stream",
     "text": [
      "24/01/30 17:06:56 WARN ResolveWriteToStream: Temporary checkpoint location created which is deleted normally when the query didn't fail: /private/var/folders/p0/qbnst5tj08g1z35zyllsm5vc0000gn/T/temporary-ef222dd5-bc6f-485a-bd20-0c8e02c523e0. If it's required to delete it under any circumstances, please set spark.sql.streaming.forceDeleteTempCheckpointLocation to true. Important to know deleting temp checkpoint folder is best effort.\n",
      "24/01/30 17:06:56 WARN ResolveWriteToStream: spark.sql.adaptive.enabled is not supported in streaming DataFrames/Datasets and will be disabled.\n",
      "ERROR:root:KeyboardInterrupt while sending command.\n",
      "Traceback (most recent call last):\n",
      "  File \"/Users/jonas/Documents/Uni/Erasmus/Cloud Computing for Big Data/Cloud-Computing-and-Big-Data-Applications/.conda/lib/python3.9/site-packages/py4j/java_gateway.py\", line 1038, in send_command\n",
      "    response = connection.send_command(command)\n",
      "  File \"/Users/jonas/Documents/Uni/Erasmus/Cloud Computing for Big Data/Cloud-Computing-and-Big-Data-Applications/.conda/lib/python3.9/site-packages/py4j/clientserver.py\", line 511, in send_command\n",
      "    answer = smart_decode(self.stream.readline()[:-1])\n",
      "  File \"/Users/jonas/Documents/Uni/Erasmus/Cloud Computing for Big Data/Cloud-Computing-and-Big-Data-Applications/.conda/lib/python3.9/socket.py\", line 704, in readinto\n",
      "    return self._sock.recv_into(b)\n",
      "KeyboardInterrupt\n"
     ]
    },
    {
     "ename": "KeyboardInterrupt",
     "evalue": "",
     "output_type": "error",
     "traceback": [
      "\u001b[0;31m---------------------------------------------------------------------------\u001b[0m",
      "\u001b[0;31mKeyboardInterrupt\u001b[0m                         Traceback (most recent call last)",
      "Cell \u001b[0;32mIn[53], line 29\u001b[0m\n\u001b[1;32m     23\u001b[0m \u001b[38;5;66;03m# Apply the function on micro-batches of the data stream\u001b[39;00m\n\u001b[1;32m     24\u001b[0m query \u001b[38;5;241m=\u001b[39m streamingData \\\n\u001b[1;32m     25\u001b[0m     \u001b[38;5;241m.\u001b[39mwriteStream \\\n\u001b[1;32m     26\u001b[0m     \u001b[38;5;241m.\u001b[39mforeachBatch(\u001b[38;5;28;01mlambda\u001b[39;00m df, epoch_id: kmeans_centers(df, k\u001b[38;5;241m=\u001b[39m\u001b[38;5;28mlen\u001b[39m(centers))) \\\n\u001b[1;32m     27\u001b[0m     \u001b[38;5;241m.\u001b[39mstart()\n\u001b[0;32m---> 29\u001b[0m \u001b[43mquery\u001b[49m\u001b[38;5;241;43m.\u001b[39;49m\u001b[43mawaitTermination\u001b[49m\u001b[43m(\u001b[49m\u001b[43m)\u001b[49m\n",
      "File \u001b[0;32m~/Documents/Uni/Erasmus/Cloud Computing for Big Data/Cloud-Computing-and-Big-Data-Applications/.conda/lib/python3.9/site-packages/pyspark/sql/streaming/query.py:221\u001b[0m, in \u001b[0;36mStreamingQuery.awaitTermination\u001b[0;34m(self, timeout)\u001b[0m\n\u001b[1;32m    219\u001b[0m     \u001b[38;5;28;01mreturn\u001b[39;00m \u001b[38;5;28mself\u001b[39m\u001b[38;5;241m.\u001b[39m_jsq\u001b[38;5;241m.\u001b[39mawaitTermination(\u001b[38;5;28mint\u001b[39m(timeout \u001b[38;5;241m*\u001b[39m \u001b[38;5;241m1000\u001b[39m))\n\u001b[1;32m    220\u001b[0m \u001b[38;5;28;01melse\u001b[39;00m:\n\u001b[0;32m--> 221\u001b[0m     \u001b[38;5;28;01mreturn\u001b[39;00m \u001b[38;5;28;43mself\u001b[39;49m\u001b[38;5;241;43m.\u001b[39;49m\u001b[43m_jsq\u001b[49m\u001b[38;5;241;43m.\u001b[39;49m\u001b[43mawaitTermination\u001b[49m\u001b[43m(\u001b[49m\u001b[43m)\u001b[49m\n",
      "File \u001b[0;32m~/Documents/Uni/Erasmus/Cloud Computing for Big Data/Cloud-Computing-and-Big-Data-Applications/.conda/lib/python3.9/site-packages/py4j/java_gateway.py:1321\u001b[0m, in \u001b[0;36mJavaMember.__call__\u001b[0;34m(self, *args)\u001b[0m\n\u001b[1;32m   1314\u001b[0m args_command, temp_args \u001b[38;5;241m=\u001b[39m \u001b[38;5;28mself\u001b[39m\u001b[38;5;241m.\u001b[39m_build_args(\u001b[38;5;241m*\u001b[39margs)\n\u001b[1;32m   1316\u001b[0m command \u001b[38;5;241m=\u001b[39m proto\u001b[38;5;241m.\u001b[39mCALL_COMMAND_NAME \u001b[38;5;241m+\u001b[39m\\\n\u001b[1;32m   1317\u001b[0m     \u001b[38;5;28mself\u001b[39m\u001b[38;5;241m.\u001b[39mcommand_header \u001b[38;5;241m+\u001b[39m\\\n\u001b[1;32m   1318\u001b[0m     args_command \u001b[38;5;241m+\u001b[39m\\\n\u001b[1;32m   1319\u001b[0m     proto\u001b[38;5;241m.\u001b[39mEND_COMMAND_PART\n\u001b[0;32m-> 1321\u001b[0m answer \u001b[38;5;241m=\u001b[39m \u001b[38;5;28;43mself\u001b[39;49m\u001b[38;5;241;43m.\u001b[39;49m\u001b[43mgateway_client\u001b[49m\u001b[38;5;241;43m.\u001b[39;49m\u001b[43msend_command\u001b[49m\u001b[43m(\u001b[49m\u001b[43mcommand\u001b[49m\u001b[43m)\u001b[49m\n\u001b[1;32m   1322\u001b[0m return_value \u001b[38;5;241m=\u001b[39m get_return_value(\n\u001b[1;32m   1323\u001b[0m     answer, \u001b[38;5;28mself\u001b[39m\u001b[38;5;241m.\u001b[39mgateway_client, \u001b[38;5;28mself\u001b[39m\u001b[38;5;241m.\u001b[39mtarget_id, \u001b[38;5;28mself\u001b[39m\u001b[38;5;241m.\u001b[39mname)\n\u001b[1;32m   1325\u001b[0m \u001b[38;5;28;01mfor\u001b[39;00m temp_arg \u001b[38;5;129;01min\u001b[39;00m temp_args:\n",
      "File \u001b[0;32m~/Documents/Uni/Erasmus/Cloud Computing for Big Data/Cloud-Computing-and-Big-Data-Applications/.conda/lib/python3.9/site-packages/py4j/java_gateway.py:1038\u001b[0m, in \u001b[0;36mGatewayClient.send_command\u001b[0;34m(self, command, retry, binary)\u001b[0m\n\u001b[1;32m   1036\u001b[0m connection \u001b[38;5;241m=\u001b[39m \u001b[38;5;28mself\u001b[39m\u001b[38;5;241m.\u001b[39m_get_connection()\n\u001b[1;32m   1037\u001b[0m \u001b[38;5;28;01mtry\u001b[39;00m:\n\u001b[0;32m-> 1038\u001b[0m     response \u001b[38;5;241m=\u001b[39m \u001b[43mconnection\u001b[49m\u001b[38;5;241;43m.\u001b[39;49m\u001b[43msend_command\u001b[49m\u001b[43m(\u001b[49m\u001b[43mcommand\u001b[49m\u001b[43m)\u001b[49m\n\u001b[1;32m   1039\u001b[0m     \u001b[38;5;28;01mif\u001b[39;00m binary:\n\u001b[1;32m   1040\u001b[0m         \u001b[38;5;28;01mreturn\u001b[39;00m response, \u001b[38;5;28mself\u001b[39m\u001b[38;5;241m.\u001b[39m_create_connection_guard(connection)\n",
      "File \u001b[0;32m~/Documents/Uni/Erasmus/Cloud Computing for Big Data/Cloud-Computing-and-Big-Data-Applications/.conda/lib/python3.9/site-packages/py4j/clientserver.py:511\u001b[0m, in \u001b[0;36mClientServerConnection.send_command\u001b[0;34m(self, command)\u001b[0m\n\u001b[1;32m    509\u001b[0m \u001b[38;5;28;01mtry\u001b[39;00m:\n\u001b[1;32m    510\u001b[0m     \u001b[38;5;28;01mwhile\u001b[39;00m \u001b[38;5;28;01mTrue\u001b[39;00m:\n\u001b[0;32m--> 511\u001b[0m         answer \u001b[38;5;241m=\u001b[39m smart_decode(\u001b[38;5;28;43mself\u001b[39;49m\u001b[38;5;241;43m.\u001b[39;49m\u001b[43mstream\u001b[49m\u001b[38;5;241;43m.\u001b[39;49m\u001b[43mreadline\u001b[49m\u001b[43m(\u001b[49m\u001b[43m)\u001b[49m[:\u001b[38;5;241m-\u001b[39m\u001b[38;5;241m1\u001b[39m])\n\u001b[1;32m    512\u001b[0m         logger\u001b[38;5;241m.\u001b[39mdebug(\u001b[38;5;124m\"\u001b[39m\u001b[38;5;124mAnswer received: \u001b[39m\u001b[38;5;132;01m{0}\u001b[39;00m\u001b[38;5;124m\"\u001b[39m\u001b[38;5;241m.\u001b[39mformat(answer))\n\u001b[1;32m    513\u001b[0m         \u001b[38;5;66;03m# Happens when a the other end is dead. There might be an empty\u001b[39;00m\n\u001b[1;32m    514\u001b[0m         \u001b[38;5;66;03m# answer before the socket raises an error.\u001b[39;00m\n",
      "File \u001b[0;32m~/Documents/Uni/Erasmus/Cloud Computing for Big Data/Cloud-Computing-and-Big-Data-Applications/.conda/lib/python3.9/socket.py:704\u001b[0m, in \u001b[0;36mSocketIO.readinto\u001b[0;34m(self, b)\u001b[0m\n\u001b[1;32m    702\u001b[0m \u001b[38;5;28;01mwhile\u001b[39;00m \u001b[38;5;28;01mTrue\u001b[39;00m:\n\u001b[1;32m    703\u001b[0m     \u001b[38;5;28;01mtry\u001b[39;00m:\n\u001b[0;32m--> 704\u001b[0m         \u001b[38;5;28;01mreturn\u001b[39;00m \u001b[38;5;28;43mself\u001b[39;49m\u001b[38;5;241;43m.\u001b[39;49m\u001b[43m_sock\u001b[49m\u001b[38;5;241;43m.\u001b[39;49m\u001b[43mrecv_into\u001b[49m\u001b[43m(\u001b[49m\u001b[43mb\u001b[49m\u001b[43m)\u001b[49m\n\u001b[1;32m    705\u001b[0m     \u001b[38;5;28;01mexcept\u001b[39;00m timeout:\n\u001b[1;32m    706\u001b[0m         \u001b[38;5;28mself\u001b[39m\u001b[38;5;241m.\u001b[39m_timeout_occurred \u001b[38;5;241m=\u001b[39m \u001b[38;5;28;01mTrue\u001b[39;00m\n",
      "\u001b[0;31mKeyboardInterrupt\u001b[0m: "
     ]
    }
   ],
   "source": [
    "from pyspark.ml.clustering import KMeans\n",
    "from pyspark.ml.feature import VectorAssembler\n",
    "from pyspark.sql.functions import col\n",
    "from pyspark.ml.clustering import KMeansModel\n",
    "\n",
    "initial_model = KMeansModel.load(\"/model/initial_model\")\n",
    "\n",
    "def kmeans_centers(df, initial_model):\n",
    "    # Ensure all columns are numeric and replace nulls with 0\n",
    "    for column in df.columns:\n",
    "        df = df.withColumn(column, col(column).cast(\"double\")).na.fill(0)\n",
    "\n",
    "    # Assemble the features into a single vector\n",
    "    assembler = VectorAssembler(inputCols=df.columns, outputCol=\"features\")\n",
    "    data = assembler.transform(df)\n",
    "\n",
    "    # Load a KMeans model with the initial model\n",
    "    #TBD\n",
    "    model = initial_model\n",
    "\n",
    "    # Make predictions\n",
    "    predictions = model.transform(data)\n",
    "\n",
    "    # train on df\n",
    "    model = kmeans.fit(data.select('features'))\n",
    "\n",
    "    # Get the cluster centers\n",
    "    centers = model.clusterCenters()\n",
    "    # save on the CSV file\n",
    "    centers_df = spark.createDataFrame(centers)\n",
    "    centers_df.write.csv(\"cluster_data_dir/new_clusters.csv\", header=True, mode=\"overwrite\")\n",
    "\n",
    "    return predictions\n",
    "\n",
    "# Apply the function on micro-batches of the data stream\n",
    "query = streamingData \\\n",
    "    .writeStream \\\n",
    "    .foreachBatch(lambda df, epoch_id: kmeans_centers(df, initial_model)) \\\n",
    "    .start()\n",
    "\n",
    "query.awaitTermination()"
   ]
  },
  {
   "cell_type": "code",
   "execution_count": 6,
   "metadata": {},
   "outputs": [
    {
     "name": "stderr",
     "output_type": "stream",
     "text": [
      "24/01/31 08:38:10 WARN InstanceBuilder: Failed to load implementation from:dev.ludovic.netlib.blas.JNIBLAS\n"
     ]
    }
   ],
   "source": [
    "from pyspark.ml.linalg import Vectors\n",
    "from pyspark.ml.clustering import KMeans\n",
    "data = [(Vectors.dense([0.0, 0.0]), 2.0), (Vectors.dense([1.0, 1.0]), 2.0),\n",
    "        (Vectors.dense([9.0, 8.0]), 2.0), (Vectors.dense([8.0, 9.0]), 2.0)]\n",
    "df = spark.createDataFrame(data, [\"features\", \"weighCol\"])\n",
    "kmeans = KMeans(k=2)\n",
    "kmeans.setMaxIter(1)\n",
    "\n",
    "model = kmeans.fit(df)"
   ]
  },
  {
   "cell_type": "code",
   "execution_count": 15,
   "metadata": {},
   "outputs": [],
   "source": [
    "from pyspark.ml.linalg import Vectors\n",
    "from pyspark.ml.clustering import KMeans\n",
    "import random\n",
    "\n",
    "# Function to generate a random vector\n",
    "def random_vector(length):\n",
    "    return Vectors.dense([random.randint(0, 10) for _ in range(length)])\n",
    "\n",
    "# Create original data with random vectors\n",
    "original_data = [(random_vector(39), 1.0) for _ in range(50)]\n",
    "\n",
    "# Create DataFrame\n",
    "df = spark.createDataFrame(original_data, [\"features\", \"weighCol\"])"
   ]
  },
  {
   "cell_type": "code",
   "execution_count": 16,
   "metadata": {},
   "outputs": [
    {
     "name": "stdout",
     "output_type": "stream",
     "text": [
      "+--------------------+--------+\n",
      "|            features|weighCol|\n",
      "+--------------------+--------+\n",
      "|[5.0,4.0,8.0,9.0,...|     1.0|\n",
      "|[3.0,2.0,0.0,4.0,...|     1.0|\n",
      "|[3.0,0.0,9.0,10.0...|     1.0|\n",
      "|[4.0,1.0,10.0,5.0...|     1.0|\n",
      "|[0.0,5.0,9.0,9.0,...|     1.0|\n",
      "|[0.0,6.0,2.0,9.0,...|     1.0|\n",
      "|[7.0,4.0,8.0,5.0,...|     1.0|\n",
      "|[2.0,5.0,7.0,9.0,...|     1.0|\n",
      "|[8.0,8.0,5.0,5.0,...|     1.0|\n",
      "|[9.0,8.0,6.0,3.0,...|     1.0|\n",
      "|[9.0,5.0,6.0,6.0,...|     1.0|\n",
      "|[2.0,4.0,1.0,10.0...|     1.0|\n",
      "|[7.0,10.0,4.0,10....|     1.0|\n",
      "|[2.0,2.0,9.0,5.0,...|     1.0|\n",
      "|[6.0,1.0,0.0,3.0,...|     1.0|\n",
      "|[8.0,2.0,4.0,0.0,...|     1.0|\n",
      "|[6.0,1.0,3.0,4.0,...|     1.0|\n",
      "|[3.0,1.0,6.0,6.0,...|     1.0|\n",
      "|[10.0,5.0,10.0,6....|     1.0|\n",
      "|[0.0,7.0,0.0,7.0,...|     1.0|\n",
      "+--------------------+--------+\n",
      "only showing top 20 rows\n",
      "\n"
     ]
    }
   ],
   "source": [
    "df.show()"
   ]
  },
  {
   "cell_type": "code",
   "execution_count": 19,
   "metadata": {},
   "outputs": [],
   "source": [
    "kmeans = KMeans(k=50)\n",
    "kmeans.setMaxIter(10)\n",
    "\n",
    "model = kmeans.fit(df)"
   ]
  },
  {
   "cell_type": "code",
   "execution_count": 18,
   "metadata": {},
   "outputs": [
    {
     "data": {
      "text/plain": [
       "[array([ 8.,  0.,  1.,  8.,  7.,  1.,  7.,  3.,  3.,  0.,  3.,  6.,  7.,\n",
       "         4.,  7., 10.,  4.,  7.,  3.,  6.,  8.,  1.,  2.,  0.,  7.,  1.,\n",
       "         3.,  1.,  9.,  4.,  8.,  3.,  1.,  1.,  2.,  6.,  5.,  2.,  4.]),\n",
       " array([ 5.,  4.,  8.,  9.,  1.,  3.,  4.,  2.,  5.,  3.,  5.,  7.,  2.,\n",
       "         8.,  3.,  1.,  6.,  7.,  6.,  3.,  4.,  0.,  1.,  4.,  0.,  6.,\n",
       "         3.,  2., 10.,  5.,  6., 10., 10.,  6.,  2., 10.,  6.,  2.,  6.]),\n",
       " array([ 3.,  2.,  0.,  4.,  5.,  8.,  4.,  6., 10.,  3.,  9., 10.,  4.,\n",
       "        10.,  1.,  2.,  7., 10.,  9.,  5.,  4.,  4., 10.,  4.,  5.,  0.,\n",
       "         9.,  5.,  2.,  1.,  6.,  7.,  2.,  3., 10.,  2.,  5.,  3.,  1.]),\n",
       " array([ 3.,  0.,  9., 10.,  8.,  5., 10.,  2.,  2.,  9.,  8.,  7.,  0.,\n",
       "         6.,  7.,  3.,  0.,  7.,  3.,  6.,  3.,  6.,  0.,  4.,  2.,  6.,\n",
       "         4.,  7.,  9.,  9., 10.,  2.,  7.,  9.,  8.,  9.,  6.,  1.,  3.]),\n",
       " array([ 4.,  1., 10.,  5.,  9., 10.,  1.,  5., 10., 10.,  3.,  0.,  4.,\n",
       "         8.,  5.,  7.,  3.,  9.,  2.,  0.,  5.,  2.,  5.,  7.,  1.,  4.,\n",
       "         9.,  4., 10.,  7.,  8.,  8.,  7.,  0.,  9.,  4.,  0.,  2.,  9.]),\n",
       " array([ 0.,  5.,  9.,  9., 10.,  2.,  1.,  9.,  4.,  9.,  5.,  5., 10.,\n",
       "         1.,  1.,  2., 10.,  5.,  4., 10.,  5.,  8.,  0.,  8.,  9.,  1.,\n",
       "         6.,  2.,  2.,  5.,  3.,  8., 10.,  3.,  3.,  0.,  3.,  7.,  0.]),\n",
       " array([ 0.,  6.,  2.,  9.,  1.,  2.,  0., 10.,  6.,  9.,  7.,  0.,  5.,\n",
       "         9.,  8.,  2.,  6.,  4.,  8.,  1.,  2.,  2.,  1.,  0.,  1.,  7.,\n",
       "         1.,  3.,  0.,  1.,  4.,  8.,  6.,  3.,  7.,  9.,  9.,  6.,  3.]),\n",
       " array([ 7.,  4.,  8.,  5.,  5.,  3.,  4.,  1.,  6.,  4.,  7., 10., 10.,\n",
       "         5.,  9.,  8.,  7.,  5.,  8.,  8.,  0.,  5.,  7.,  1.,  6.,  0.,\n",
       "         3.,  4.,  0.,  2.,  0.,  7.,  0.,  0.,  4.,  3.,  9.,  6.,  5.]),\n",
       " array([ 2.,  5.,  7.,  9.,  3.,  8.,  2.,  4.,  3.,  3.,  1.,  2.,  7.,\n",
       "         6.,  3.,  0., 10., 10.,  0.,  5.,  0.,  7.,  5.,  8.,  3.,  0.,\n",
       "         5.,  8.,  9.,  7.,  2.,  9.,  0.,  1.,  6.,  0.,  0., 10.,  1.]),\n",
       " array([ 8.,  8.,  5.,  5.,  5.,  3.,  0.,  1.,  7.,  8.,  8.,  0.,  3.,\n",
       "         1., 10.,  0.,  1.,  7.,  4.,  3.,  3., 10.,  1.,  6.,  8.,  5.,\n",
       "         2.,  2.,  7.,  7.,  9.,  0.,  2., 10.,  7.,  9.,  4.,  2.,  1.]),\n",
       " array([ 9.,  8.,  6.,  3.,  0.,  0.,  8.,  6., 10.,  6.,  6.,  6.,  0.,\n",
       "         3.,  9.,  1., 10.,  3.,  0.,  1.,  6.,  4.,  9.,  3.,  5.,  9.,\n",
       "         6., 10.,  2.,  2.,  2.,  8.,  9.,  8.,  4.,  4.,  0.,  0.,  3.]),\n",
       " array([ 9.,  5.,  6.,  6.,  9.,  2.,  2.,  0.,  6.,  6.,  3.,  6.,  2.,\n",
       "         3.,  0., 10.,  8.,  8.,  1., 10.,  1.,  3.,  9.,  8.,  1.,  1.,\n",
       "         1.,  7.,  0.,  3.,  3.,  9.,  9.,  3.,  7.,  0., 10.,  7.,  2.]),\n",
       " array([ 2.,  4.,  1., 10.,  4.,  5.,  7.,  6.,  6.,  1.,  3.,  8., 10.,\n",
       "        10.,  3.,  3.,  6.,  9.,  1.,  1., 10.,  9.,  8.,  9., 10.,  2.,\n",
       "         8.,  0.,  4., 10.,  4.,  3.,  6.,  5.,  0.,  7.,  6.,  5.,  0.]),\n",
       " array([ 7., 10.,  4., 10.,  2.,  7.,  4.,  6.,  8.,  8., 10.,  5.,  3.,\n",
       "        10.,  7.,  5.,  0., 10.,  6.,  6.,  9.,  3.,  5.,  4.,  6.,  3.,\n",
       "         6.,  6.,  5.,  8.,  2.,  7.,  5.,  1.,  3.,  2.,  2.,  8.,  3.]),\n",
       " array([ 2.,  2.,  9.,  5., 10.,  6.,  7.,  7., 10.,  5.,  3.,  5.,  6.,\n",
       "         4.,  4.,  3.,  7.,  7.,  3.,  8.,  9.,  7.,  7.,  4.,  2.,  0.,\n",
       "         2.,  0.,  8.,  4.,  0.,  6.,  2.,  3.,  2.,  1.,  3.,  6.,  9.]),\n",
       " array([ 6.,  1.,  0.,  3.,  0.,  9.,  4.,  8.,  9., 10.,  5.,  8.,  3.,\n",
       "         4.,  5.,  7.,  8.,  0.,  5.,  0., 10.,  5.,  7.,  8.,  0., 10.,\n",
       "         6.,  3.,  9.,  1.,  7.,  1.,  0.,  8.,  4.,  0.,  5.,  9.,  2.]),\n",
       " array([8., 2., 4., 0., 0., 1., 2., 3., 2., 6., 6., 6., 8., 0., 7., 6., 7.,\n",
       "        6., 4., 0., 4., 4., 1., 4., 0., 0., 9., 0., 7., 2., 0., 9., 2., 1.,\n",
       "        0., 6., 1., 0., 2.]),\n",
       " array([ 6.,  1.,  3.,  4.,  9.,  6.,  7.,  0.,  1.,  9.,  5.,  6.,  4.,\n",
       "         4.,  4.,  0.,  6.,  6.,  2.,  4., 10.,  7.,  1.,  5., 10.,  7.,\n",
       "         1.,  2.,  4.,  5.,  3.,  3.,  1.,  7.,  4.,  8.,  1.,  9.,  3.]),\n",
       " array([ 3.,  1.,  6.,  6., 10., 10.,  2.,  2.,  5.,  5.,  8.,  9.,  0.,\n",
       "         3.,  3.,  3.,  2.,  6.,  3.,  6.,  8.,  0.,  8.,  4.,  4., 10.,\n",
       "         3.,  3., 10.,  2.,  6.,  7.,  7.,  5.,  9.,  1.,  4.,  4.,  2.]),\n",
       " array([10.,  5., 10.,  6.,  4.,  4.,  4.,  9., 10.,  4.,  6.,  0.,  7.,\n",
       "         9.,  5.,  5.,  7.,  5.,  2.,  5.,  9.,  3., 10.,  3., 10.,  4.,\n",
       "         3.,  5.,  9.,  2.,  6., 10.,  6.,  1.,  5.,  9.,  8., 10.,  3.]),\n",
       " array([ 0.,  7.,  0.,  7.,  6.,  5.,  9., 10.,  0.,  3.,  6.,  6.,  6.,\n",
       "         6.,  7.,  4.,  0.,  8., 10.,  5.,  9.,  0.,  6.,  3.,  5.,  5.,\n",
       "         6.,  6.,  4.,  9.,  9.,  7.,  1.,  3.,  4.,  3.,  4.,  4.,  6.]),\n",
       " array([ 2.,  3.,  0.,  9.,  0.,  3.,  2.,  9.,  3.,  7.,  9.,  0.,  0.,\n",
       "         1.,  2.,  1.,  1.,  3.,  7.,  5.,  7.,  9.,  7.,  1.,  7.,  9.,\n",
       "         0.,  6.,  5.,  0.,  4.,  5.,  7.,  2., 10.,  7.,  5.,  3.,  8.]),\n",
       " array([ 6.,  4.,  7.,  2.,  2.,  5.,  1.,  4.,  1.,  1.,  6., 10.,  9.,\n",
       "         8.,  9., 10.,  6.,  1., 10.,  7.,  4.,  2.,  5.,  2.,  2.,  9.,\n",
       "         0.,  0.,  2.,  2.,  3.,  7.,  4.,  1.,  5.,  9.,  9.,  1.,  1.]),\n",
       " array([ 1.,  6., 10.,  3.,  5.,  8.,  0.,  3.,  9.,  4.,  0.,  4.,  0.,\n",
       "         2.,  3.,  1.,  2.,  1.,  9.,  6.,  5., 10.,  9.,  4.,  1., 10.,\n",
       "         6.,  1.,  3.,  0.,  5.,  5.,  9.,  3.,  6.,  6.,  5.,  4.,  1.]),\n",
       " array([ 4.,  7., 10.,  6.,  3.,  2., 10.,  2.,  2.,  0.,  2.,  7.,  6.,\n",
       "         8.,  5.,  6.,  4.,  6.,  5.,  3.,  7.,  3.,  6.,  7.,  2.,  1.,\n",
       "         8.,  6.,  3.,  6.,  5.,  9., 10., 10.,  4.,  2.,  8.,  5.,  1.]),\n",
       " array([ 8.,  0., 10.,  1.,  8.,  9.,  7., 10.,  7.,  6.,  2.,  9.,  8.,\n",
       "         9., 10.,  8.,  0.,  5.,  6.,  5.,  5.,  1.,  8.,  4.,  3.,  4.,\n",
       "         2.,  7.,  9.,  5.,  4.,  2.,  2.,  7., 10.,  6., 10.,  0.,  3.]),\n",
       " array([ 1.,  2.,  4.,  3.,  0.,  6.,  9.,  4.,  8.,  8.,  4.,  1.,  9.,\n",
       "         2.,  9.,  0.,  9.,  2.,  1.,  7.,  4.,  6.,  5., 10.,  2.,  0.,\n",
       "         5., 10.,  3.,  6.,  6.,  8.,  8., 10.,  1.,  3.,  3.,  6., 10.]),\n",
       " array([ 5., 10.,  9.,  4.,  6.,  6.,  3.,  8.,  3.,  6., 10.,  3.,  0.,\n",
       "         3., 10.,  7.,  3., 10.,  6.,  3.,  3.,  6.,  8.,  5.,  0.,  1.,\n",
       "         3.,  7., 10.,  4.,  6.,  8.,  0.,  5.,  3.,  0.,  0.,  5.,  7.]),\n",
       " array([ 6., 10.,  3.,  4., 10.,  2.,  3.,  3.,  6.,  1.,  3.,  9.,  8.,\n",
       "         3.,  9.,  0., 10.,  6.,  2.,  9.,  6.,  8.,  4.,  5.,  6.,  6.,\n",
       "         9.,  8.,  2.,  8.,  7.,  3., 10.,  7.,  1.,  1., 10.,  5.,  7.]),\n",
       " array([ 5.,  6.,  5.,  3.,  1.,  0., 10.,  2.,  7.,  1.,  3.,  5.,  9.,\n",
       "         4.,  7.,  7.,  0.,  5.,  4.,  9.,  1.,  9.,  3., 10.,  0.,  0.,\n",
       "         9.,  9.,  8.,  8.,  2.,  0.,  2.,  3.,  6.,  3.,  3.,  8., 10.]),\n",
       " array([10., 10.,  5.,  7.,  9.,  7.,  8.,  7.,  2.,  8., 10.,  3.,  7.,\n",
       "         0.,  3.,  6.,  5.,  3.,  2., 10.,  3.,  0.,  1.,  0.,  3.,  7.,\n",
       "         7.,  1.,  3.,  7.,  8.,  6.,  3., 10.,  0.,  6.,  7.,  6.,  4.]),\n",
       " array([ 8.,  9.,  4.,  9.,  9.,  8.,  6.,  6., 10.,  0., 10.,  6.,  2.,\n",
       "        10.,  1.,  1.,  6.,  4.,  8.,  1.,  0.,  3., 10.,  4.,  1.,  5.,\n",
       "         2.,  6.,  0.,  8.,  7.,  7.,  2.,  6.,  7.,  5.,  7.,  6.,  9.]),\n",
       " array([ 7.,  2.,  9.,  1.,  0.,  3.,  3., 10.,  9.,  9.,  5.,  5., 10.,\n",
       "         1.,  2.,  3.,  8., 10.,  4.,  6.,  7.,  8.,  5.,  8.,  8.,  4.,\n",
       "         8.,  0.,  4.,  9.,  5.,  4.,  9.,  5., 10.,  4.,  3.,  2.,  2.]),\n",
       " array([ 6.,  1.,  8.,  0.,  2.,  4.,  3.,  9.,  5.,  2.,  8.,  4.,  1.,\n",
       "        10.,  5.,  2.,  8.,  0.,  4.,  1.,  3.,  0.,  8.,  1.,  5.,  9.,\n",
       "         4.,  2.,  6.,  9.,  4.,  8.,  0.,  4.,  4.,  5.,  5.,  3.,  1.]),\n",
       " array([ 8.,  0.,  1.,  4.,  0.,  4.,  7., 10.,  5.,  4.,  6.,  0.,  3.,\n",
       "         2.,  7.,  0.,  6.,  5.,  0.,  1.,  7.,  4.,  9., 10.,  7.,  4.,\n",
       "         6.,  3.,  6.,  7.,  4.,  5.,  0.,  6.,  6.,  1.,  4.,  9.,  6.]),\n",
       " array([ 6.,  4.,  1.,  7.,  3.,  0.,  2.,  0.,  2.,  2.,  9.,  8.,  1.,\n",
       "         3.,  2.,  4.,  8.,  5., 10.,  5.,  4.,  5.,  1.,  2., 10.,  2.,\n",
       "         8.,  9.,  7.,  3.,  2.,  1.,  4.,  8.,  1.,  4.,  0.,  6.,  9.]),\n",
       " array([ 0.,  0.,  3.,  1.,  9.,  1.,  9.,  4.,  7.,  1.,  3.,  2., 10.,\n",
       "        10.,  0.,  4.,  6.,  0.,  4.,  1.,  5.,  5.,  1.,  2.,  5.,  4.,\n",
       "         7., 10.,  1.,  6.,  8.,  1.,  2.,  0.,  1.,  6.,  8.,  1.,  2.]),\n",
       " array([ 1.,  4.,  2.,  3., 10.,  6.,  8.,  0.,  0.,  9.,  1., 10.,  0.,\n",
       "         6.,  0.,  0.,  4.,  0.,  5.,  3.,  5.,  2., 10.,  5.,  7., 10.,\n",
       "         7.,  3.,  5.,  4.,  1.,  4.,  2.,  0.,  2.,  2.,  5.,  2.,  4.]),\n",
       " array([ 2.,  7.,  3., 10.,  9.,  1.,  3.,  7.,  6.,  1.,  9.,  3., 10.,\n",
       "         4.,  2.,  5.,  3.,  1.,  8.,  9.,  4.,  5.,  0.,  2.,  9.,  6.,\n",
       "        10.,  4.,  2.,  6.,  4.,  0.,  0.,  8.,  4.,  6.,  4.,  9.,  6.]),\n",
       " array([ 4.,  3.,  1.,  9.,  5.,  3.,  3.,  2.,  0.,  6.,  8.,  1.,  0.,\n",
       "         5.,  8.,  8., 10., 10.,  0.,  3.,  3.,  2., 10.,  7.,  9.,  8.,\n",
       "         1.,  6.,  0.,  7.,  5.,  4.,  9.,  4.,  5.,  6.,  5.,  3.,  7.]),\n",
       " array([ 7.,  0.,  2., 10.,  7.,  5.,  4.,  8., 10.,  1.,  4.,  0.,  1.,\n",
       "        10.,  8.,  5.,  6.,  2., 10.,  4.,  8.,  8.,  2.,  7.,  4.,  9.,\n",
       "         9.,  6.,  2.,  2.,  1.,  0.,  0.,  7.,  0.,  9.,  3., 10.,  4.]),\n",
       " array([ 0., 10.,  6.,  9.,  6.,  1.,  2.,  6.,  0.,  2.,  4.,  3.,  8.,\n",
       "         5.,  4.,  2.,  4.,  5.,  2.,  1.,  6.,  4., 10.,  5., 10.,  8.,\n",
       "         7.,  1.,  9.,  8.,  2.,  3.,  5.,  1.,  1.,  8.,  7.,  7., 10.]),\n",
       " array([ 6.,  3.,  7.,  2.,  2.,  9., 10.,  0.,  3.,  0.,  3., 10.,  2.,\n",
       "         8.,  5.,  5.,  8.,  7.,  7.,  5.,  0.,  8.,  9.,  6., 10.,  4.,\n",
       "        10.,  1.,  4.,  2.,  3.,  6.,  4.,  8.,  4.,  7.,  6.,  0.,  5.]),\n",
       " array([ 3.,  6.,  6.,  7.,  1.,  2.,  0.,  5.,  6.,  1.,  3.,  4.,  8.,\n",
       "         8.,  9.,  8.,  6., 10.,  3.,  2.,  8.,  1.,  3.,  3.,  6.,  8.,\n",
       "         2.,  0.,  3.,  0.,  2.,  4.,  4.,  6.,  9.,  8.,  5.,  6.,  0.]),\n",
       " array([ 0.,  4.,  5.,  9.,  1.,  8.,  8.,  2.,  1.,  2.,  2.,  0.,  9.,\n",
       "         2.,  6.,  8.,  2.,  2.,  1.,  9.,  0.,  4.,  5.,  7.,  2.,  4.,\n",
       "         7.,  6.,  2.,  5.,  2.,  0.,  6., 10.,  4.,  3.,  2.,  9.,  5.]),\n",
       " array([10.,  2.,  1., 10.,  5.,  7.,  5.,  3.,  8.,  6.,  4.,  1.,  7.,\n",
       "         1.,  4.,  9., 10., 10.,  9.,  9.,  0.,  8.,  5.,  2.,  1.,  0.,\n",
       "         3.,  9.,  8.,  4.,  6.,  1.,  2.,  2.,  3.,  6., 10.,  9.,  6.]),\n",
       " array([ 5.,  7.,  5.,  4.,  2.,  3.,  1., 10.,  7.,  8.,  0.,  2.,  1.,\n",
       "         0.,  4.,  8.,  2.,  5.,  8.,  6.,  1.,  0.,  5.,  7.,  7.,  9.,\n",
       "         6.,  4.,  1.,  5.,  9.,  0., 10.,  4.,  2.,  3.,  1.,  7.,  9.]),\n",
       " array([ 1.,  3.,  8.,  7.,  5.,  4.,  1.,  5.,  9.,  5., 10.,  1.,  0.,\n",
       "         4.,  4.,  1.,  4.,  9.,  4.,  2.,  9.,  1., 10.,  1.,  6.,  6.,\n",
       "         1.,  8.,  3.,  6.,  1.,  6.,  8.,  5.,  8.,  7.,  2.,  6., 10.]),\n",
       " array([10.,  6.,  4.,  9., 10.,  7.,  0.,  1.,  0.,  2.,  9.,  5.,  8.,\n",
       "         0.,  1.,  3.,  8.,  2.,  6.,  1.,  6.,  9.,  7.,  8.,  4.,  2.,\n",
       "         8.,  2.,  3.,  8.,  4.,  7.,  7.,  0.,  7.,  3.,  5.,  4.,  4.]),\n",
       " array([ 0.,  7., 10.,  4.,  6.,  7.,  3.,  7.,  7.,  5.,  5.,  4.,  1.,\n",
       "         2.,  7.,  6.,  6.,  8.,  5.,  0.,  1.,  8.,  2., 10.,  6.,  5.,\n",
       "         1.,  4.,  1.,  9.,  9.,  3., 10.,  5.,  8.,  8.,  2.,  0.,  9.])]"
      ]
     },
     "execution_count": 18,
     "metadata": {},
     "output_type": "execute_result"
    }
   ],
   "source": [
    "model.clusterCenters()"
   ]
  },
  {
   "cell_type": "code",
   "execution_count": 81,
   "metadata": {},
   "outputs": [],
   "source": [
    "predictions = model.transform(df)"
   ]
  },
  {
   "cell_type": "code",
   "execution_count": 83,
   "metadata": {},
   "outputs": [
    {
     "name": "stdout",
     "output_type": "stream",
     "text": [
      "+---------+--------+----------+\n",
      "| features|weighCol|prediction|\n",
      "+---------+--------+----------+\n",
      "|[0.0,0.0]|     2.0|         0|\n",
      "|[1.0,1.0]|     2.0|         0|\n",
      "|[9.0,8.0]|     2.0|         1|\n",
      "|[8.0,9.0]|     2.0|         1|\n",
      "+---------+--------+----------+\n",
      "\n"
     ]
    }
   ],
   "source": [
    "predictions.show()"
   ]
  },
  {
   "cell_type": "code",
   "execution_count": null,
   "metadata": {},
   "outputs": [],
   "source": [
    "from pyspark.sql.functions import when, sum\n",
    "from pyspark.ml.clustering import KMeans\n",
    "from pyspark.ml.feature import VectorAssembler\n",
    "from pyspark.ml.linalg import Vectors\n",
    "from pyspark.ml.clustering import KMeansModel\n",
    "from pyspark.sql.functions import col\n",
    "\n",
    "# Assemble the features into a single vector but ignore the date and serial_number fields\n",
    "\n",
    "# without the first two columns\n",
    "# Train a KMeans model on a static DataFrame\n",
    "staticData_tiny = spark.read.csv(\"cluster_data_dir/drivedata-tiny.csv\", header=True, inferSchema=True)\n",
    "staticData = staticData_tiny.limit(5).cache()\n",
    "\n",
    "#only the data from static data after the first 5 columns\n",
    "staticData = staticData.select(staticData.columns[5:])\n",
    "\n",
    "# Ensure all columns are numeric and replace nulls with 0\n",
    "for column in staticData.columns:\n",
    "    staticData = staticData.withColumn(column, col(column).cast(\"double\")).na.fill(0)\n",
    "\n",
    "# Select the first 500 rows\n",
    "\n",
    "# Assemble the features into a single vector\n",
    "assembler = VectorAssembler(inputCols=centers_df.columns, outputCol=\"features\")\n",
    "data = assembler.transform(centers_df)\n",
    "\n",
    "# Train a KMeans model\n",
    "kmeans = KMeans(k=(centers_df.count()), seed=1)\n",
    "kmeans.setMaxIter(1)\n",
    "\n",
    "model = kmeans.fit(data.select('features'))\n"
   ]
  },
  {
   "cell_type": "markdown",
   "metadata": {},
   "source": [
    "Now we need to normalize the data based on the CSV"
   ]
  },
  {
   "cell_type": "code",
   "execution_count": null,
   "metadata": {},
   "outputs": [],
   "source": []
  },
  {
   "cell_type": "code",
   "execution_count": null,
   "metadata": {},
   "outputs": [],
   "source": []
  },
  {
   "cell_type": "code",
   "execution_count": null,
   "metadata": {},
   "outputs": [],
   "source": []
  },
  {
   "cell_type": "code",
   "execution_count": null,
   "metadata": {},
   "outputs": [],
   "source": []
  },
  {
   "cell_type": "code",
   "execution_count": 74,
   "metadata": {},
   "outputs": [
    {
     "data": {
      "text/plain": [
       "0"
      ]
     },
     "execution_count": 74,
     "metadata": {},
     "output_type": "execute_result"
    }
   ],
   "source": [
    "# Define the initial centroids\n",
    "centroids = spark.sparkContext.broadcast(np.array([0.0, 0.0]))\n",
    "\n",
    "def closest_centroid(point, centroids):\n",
    "    closest_index = np.argmin(np.sum((centroids - point)**2, axis=1))\n",
    "    return (closest_index, (point, 1))\n",
    "\n",
    "for _ in range(10):  # Number of iterations\n",
    "    res = df.rdd.map(lambda row: (Vectors.dense(row['features']), row['weight'])) \\\n",
    "                .map(lambda point: closest_centroid(point, centroids.value)) \\\n",
    "                .reduceByKey(lambda x, y: (x[0] + y[0], x[1] + y[1])) \\\n",
    "                .collect()\n",
    "\n",
    "    # Update centroids\n",
    "    centroids = spark.sparkContext.broadcast(np.array([x[1][0] / x[1][1] for x in res]))\n",
    "\n",
    "# Print final centroids\n",
    "print(centroids.value)"
   ]
  },
  {
   "cell_type": "code",
   "execution_count": null,
   "metadata": {},
   "outputs": [],
   "source": []
  }
 ],
 "metadata": {
  "kernelspec": {
   "display_name": "Python 3",
   "language": "python",
   "name": "python3"
  },
  "language_info": {
   "codemirror_mode": {
    "name": "ipython",
    "version": 3
   },
   "file_extension": ".py",
   "mimetype": "text/x-python",
   "name": "python",
   "nbconvert_exporter": "python",
   "pygments_lexer": "ipython3",
   "version": "3.9.18"
  }
 },
 "nbformat": 4,
 "nbformat_minor": 2
}
